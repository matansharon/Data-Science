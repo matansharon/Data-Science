{
 "cells": [
  {
   "cell_type": "code",
   "execution_count": 20,
   "metadata": {},
   "outputs": [],
   "source": [
    "import pandas as pd\n",
    "import numpy as np\n",
    "import sqlite3"
   ]
  },
  {
   "cell_type": "code",
   "execution_count": 32,
   "metadata": {},
   "outputs": [
    {
     "data": {
      "text/plain": [
       "['common_player_info',\n",
       " 'draft_combine_stats',\n",
       " 'draft_history',\n",
       " 'game',\n",
       " 'game_info',\n",
       " 'game_summary',\n",
       " 'inactive_players',\n",
       " 'line_score',\n",
       " 'officials',\n",
       " 'other_stats',\n",
       " 'play_by_play',\n",
       " 'player',\n",
       " 'team',\n",
       " 'team_details',\n",
       " 'team_history',\n",
       " 'team_info_common']"
      ]
     },
     "execution_count": 32,
     "metadata": {},
     "output_type": "execute_result"
    }
   ],
   "source": [
    "all_tables_names=\"\"\"common_player_info,draft_combine_stats,draft_history,game,game_info,game_summary,inactive_players,line_score,officials,other_stats,play_by_play,player,team,team_details,team_history,team_info_common\"\"\"\n",
    "all_tables_names=all_tables_names.split(\",\")\n",
    "all_tables_names"
   ]
  },
  {
   "cell_type": "code",
   "execution_count": null,
   "metadata": {},
   "outputs": [],
   "source": [
    "#generate a random datframe\n",
    "df = pd.DataFrame(np.random.randint(0,100,size=(100, 4)), columns=list('ABCD'))\n",
    "df2=pd.DataFrame(np.random.randint(10,20,size=(5,5)),index=['a','b','c','d','e'],columns=list(['A','B','C','D','E']))\n",
    "data=np.random.randint(0,100,size=(100, 4))\n",
    "cols=['A','B','C','D']\n",
    "df3=pd.DataFrame(data,columns=cols)\n",
    "df3"
   ]
  },
  {
   "cell_type": "code",
   "execution_count": 19,
   "metadata": {},
   "outputs": [
    {
     "data": {
      "text/html": [
       "<div>\n",
       "<style scoped>\n",
       "    .dataframe tbody tr th:only-of-type {\n",
       "        vertical-align: middle;\n",
       "    }\n",
       "\n",
       "    .dataframe tbody tr th {\n",
       "        vertical-align: top;\n",
       "    }\n",
       "\n",
       "    .dataframe thead th {\n",
       "        text-align: right;\n",
       "    }\n",
       "</style>\n",
       "<table border=\"1\" class=\"dataframe\">\n",
       "  <thead>\n",
       "    <tr style=\"text-align: right;\">\n",
       "      <th></th>\n",
       "      <th>Unnamed: 0</th>\n",
       "      <th>player_name</th>\n",
       "      <th>team_abbreviation</th>\n",
       "      <th>age</th>\n",
       "      <th>player_height</th>\n",
       "      <th>player_weight</th>\n",
       "      <th>college</th>\n",
       "      <th>country</th>\n",
       "      <th>draft_year</th>\n",
       "      <th>draft_round</th>\n",
       "      <th>...</th>\n",
       "      <th>pts</th>\n",
       "      <th>reb</th>\n",
       "      <th>ast</th>\n",
       "      <th>net_rating</th>\n",
       "      <th>oreb_pct</th>\n",
       "      <th>dreb_pct</th>\n",
       "      <th>usg_pct</th>\n",
       "      <th>ts_pct</th>\n",
       "      <th>ast_pct</th>\n",
       "      <th>season</th>\n",
       "    </tr>\n",
       "  </thead>\n",
       "  <tbody>\n",
       "    <tr>\n",
       "      <th>12024</th>\n",
       "      <td>12024</td>\n",
       "      <td>Stephen Curry</td>\n",
       "      <td>GSW</td>\n",
       "      <td>34.0</td>\n",
       "      <td>187.96</td>\n",
       "      <td>83.91452</td>\n",
       "      <td>Davidson</td>\n",
       "      <td>USA</td>\n",
       "      <td>2009</td>\n",
       "      <td>1</td>\n",
       "      <td>...</td>\n",
       "      <td>25.5</td>\n",
       "      <td>5.2</td>\n",
       "      <td>6.3</td>\n",
       "      <td>10.7</td>\n",
       "      <td>0.015</td>\n",
       "      <td>0.126</td>\n",
       "      <td>0.293</td>\n",
       "      <td>0.601</td>\n",
       "      <td>0.286</td>\n",
       "      <td>2021-22</td>\n",
       "    </tr>\n",
       "  </tbody>\n",
       "</table>\n",
       "<p>1 rows × 22 columns</p>\n",
       "</div>"
      ],
      "text/plain": [
       "       Unnamed: 0    player_name team_abbreviation   age  player_height  \\\n",
       "12024       12024  Stephen Curry               GSW  34.0         187.96   \n",
       "\n",
       "       player_weight   college country draft_year draft_round  ...   pts  reb  \\\n",
       "12024       83.91452  Davidson     USA       2009           1  ...  25.5  5.2   \n",
       "\n",
       "       ast  net_rating  oreb_pct  dreb_pct  usg_pct  ts_pct  ast_pct   season  \n",
       "12024  6.3        10.7     0.015     0.126    0.293   0.601    0.286  2021-22  \n",
       "\n",
       "[1 rows x 22 columns]"
      ]
     },
     "execution_count": 19,
     "metadata": {},
     "output_type": "execute_result"
    }
   ],
   "source": [
    "out_data=pd.read_csv('data.csv')\n",
    "# len(out_data['player_name'])\n",
    "season_2021_22=out_data[out_data['season']=='2021-22']\n",
    "season_2021_22[season_2021_22['player_name']=='Stephen Curry']"
   ]
  },
  {
   "cell_type": "code",
   "execution_count": 26,
   "metadata": {},
   "outputs": [
    {
     "data": {
      "text/plain": [
       "numpy.float64"
      ]
     },
     "execution_count": 26,
     "metadata": {},
     "output_type": "execute_result"
    }
   ],
   "source": [
    "con = sqlite3.connect(\"nba.sqlite\")\n",
    "df = pd.read_sql_query(\"SELECT * from common_player_info\", con)\n",
    "type(df.iloc[0]['from_year'])"
   ]
  }
 ],
 "metadata": {
  "kernelspec": {
   "display_name": "base",
   "language": "python",
   "name": "python3"
  },
  "language_info": {
   "codemirror_mode": {
    "name": "ipython",
    "version": 3
   },
   "file_extension": ".py",
   "mimetype": "text/x-python",
   "name": "python",
   "nbconvert_exporter": "python",
   "pygments_lexer": "ipython3",
   "version": "3.9.13"
  },
  "orig_nbformat": 4,
  "vscode": {
   "interpreter": {
    "hash": "3d5db532c048f37cc8487068e8e1c41ac5ce63d1b52e8a8c32ff882c22c4c18a"
   }
  }
 },
 "nbformat": 4,
 "nbformat_minor": 2
}
