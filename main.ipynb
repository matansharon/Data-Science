{
 "cells": [
  {
   "cell_type": "code",
   "execution_count": null,
   "metadata": {},
   "outputs": [],
   "source": [
    "import pandas as pd\n",
    "import numpy as np\n",
    "import sqlite3"
   ]
  },
  {
   "cell_type": "code",
   "execution_count": null,
   "metadata": {},
   "outputs": [],
   "source": [
    "all_tables_names=\"\"\"common_player_info,draft_combine_stats,draft_history,game,game_info,game_summary,inactive_players,line_score,officials,other_stats,play_by_play,player,team,team_details,team_history,team_info_common\"\"\"\n",
    "all_tables_names=all_tables_names.split(\",\")\n",
    "all_tables_names"
   ]
  },
  {
   "cell_type": "code",
   "execution_count": null,
   "metadata": {},
   "outputs": [],
   "source": [
    "#generate a random datframe\n",
    "df = pd.DataFrame(np.random.randint(0,100,size=(100, 4)), columns=list('ABCD'))\n",
    "df2=pd.DataFrame(np.random.randint(10,20,size=(5,5)),index=['a','b','c','d','e'],columns=list(['A','B','C','D','E']))\n",
    "data=np.random.randint(0,100,size=(100, 4))\n",
    "cols=['A','B','C','D']\n",
    "df3=pd.DataFrame(data,columns=cols)\n",
    "df3"
   ]
  },
  {
   "cell_type": "code",
   "execution_count": null,
   "metadata": {},
   "outputs": [],
   "source": [
    "out_data=pd.read_csv('data.csv')\n",
    "# len(out_data['player_name'])\n",
    "season_2021_22=out_data[out_data['season']=='2021-22']\n",
    "season_2021_22[season_2021_22['player_name']=='Stephen Curry']"
   ]
  },
  {
   "cell_type": "code",
   "execution_count": null,
   "metadata": {},
   "outputs": [],
   "source": [
    "con = sqlite3.connect(\"nba.sqlite\")\n",
    "con2=sqlite3.connect(\"nba2.sqlite\")\n",
    "df = pd.read_sql_query(\"SELECT * from common_player_info\", con)\n",
    "# df.head()"
   ]
  },
  {
   "cell_type": "code",
   "execution_count": null,
   "metadata": {},
   "outputs": [],
   "source": [
    "line_score=pd.read_sql_query(\"SELECT * from line_score\", con)\n",
    "line_score"
   ]
  },
  {
   "cell_type": "code",
   "execution_count": 23,
   "metadata": {},
   "outputs": [
    {
     "name": "stderr",
     "output_type": "stream",
     "text": [
      "C:\\Users\\matan.s\\AppData\\Local\\Temp\\ipykernel_22148\\2020164856.py:6: DtypeWarning: Columns (6) have mixed types. Specify dtype option on import or set low_memory=False.\n",
      "  Data_frames.append(pd.read_csv('csv/'+i))\n"
     ]
    },
    {
     "name": "stdout",
     "output_type": "stream",
     "text": [
      "5 5\n"
     ]
    }
   ],
   "source": [
    "# #get all the tables in the csv folder\n",
    "# import os\n",
    "# Data_frames=[]\n",
    "# tabels=os.listdir('csv')\n",
    "# for i in tabels:\n",
    "#     Data_frames.append(pd.read_csv('csv/'+i))\n",
    "# print(len(Data_frames),len(tabels))\n",
    "# tabels_names=[]\n",
    "# for i in tabels:\n",
    "#     tabels_names.append(i.split('.')[0])"
   ]
  },
  {
   "cell_type": "code",
   "execution_count": 24,
   "metadata": {},
   "outputs": [],
   "source": [
    "# for i in range(len(Data_frames)):\n",
    "#     Data_frames[i].to_sql(tabels_names[i], con2, if_exists='replace', index = False)\n"
   ]
  },
  {
   "cell_type": "code",
   "execution_count": null,
   "metadata": {},
   "outputs": [],
   "source": []
  }
 ],
 "metadata": {
  "kernelspec": {
   "display_name": "base",
   "language": "python",
   "name": "python3"
  },
  "language_info": {
   "codemirror_mode": {
    "name": "ipython",
    "version": 3
   },
   "file_extension": ".py",
   "mimetype": "text/x-python",
   "name": "python",
   "nbconvert_exporter": "python",
   "pygments_lexer": "ipython3",
   "version": "3.9.13"
  },
  "orig_nbformat": 4,
  "vscode": {
   "interpreter": {
    "hash": "3f5489b7472e0db5a0aca474269aa1efb9aed33b7cc21a8c650b51c14ef83b94"
   }
  }
 },
 "nbformat": 4,
 "nbformat_minor": 2
}
