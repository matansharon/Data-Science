{
 "cells": [
  {
   "cell_type": "code",
   "execution_count": 39,
   "metadata": {},
   "outputs": [],
   "source": [
    "import pandas as pd\n",
    "import numpy as np\n",
    "import sqlite3\n",
    "from random import randint"
   ]
  },
  {
   "cell_type": "code",
   "execution_count": null,
   "metadata": {},
   "outputs": [],
   "source": [
    "all_tables_names=\"\"\"common_player_info,draft_combine_stats,draft_history,game,game_info,game_summary,inactive_players,line_score,officials,other_stats,play_by_play,player,team,team_details,team_history,team_info_common\"\"\"\n",
    "all_tables_names=all_tables_names.split(\",\")\n",
    "all_tables_names"
   ]
  },
  {
   "cell_type": "code",
   "execution_count": null,
   "metadata": {},
   "outputs": [],
   "source": [
    "#generate a random datframe\n",
    "df = pd.DataFrame(np.random.randint(0,100,size=(100, 4)), columns=list('ABCD'))\n",
    "df2=pd.DataFrame(np.random.randint(10,20,size=(5,5)),index=['a','b','c','d','e'],columns=list(['A','B','C','D','E']))\n",
    "data=np.random.randint(0,100,size=(100, 4))\n",
    "cols=['A','B','C','D']\n",
    "df3=pd.DataFrame(data,columns=cols)\n",
    "df3"
   ]
  },
  {
   "cell_type": "code",
   "execution_count": null,
   "metadata": {},
   "outputs": [],
   "source": [
    "out_data=pd.read_csv('data.csv')\n",
    "# len(out_data['player_name'])\n",
    "season_2021_22=out_data[out_data['season']=='2021-22']\n",
    "season_2021_22[season_2021_22['player_name']=='Stephen Curry']"
   ]
  },
  {
   "cell_type": "code",
   "execution_count": null,
   "metadata": {},
   "outputs": [],
   "source": [
    "con = sqlite3.connect(\"nba.sqlite\")\n",
    "con2=sqlite3.connect(\"nba2.sqlite\")\n",
    "df = pd.read_sql_query(\"SELECT * from common_player_info\", con)\n",
    "# df.head()"
   ]
  },
  {
   "cell_type": "code",
   "execution_count": null,
   "metadata": {},
   "outputs": [],
   "source": [
    "line_score=pd.read_sql_query(\"SELECT * from line_score\", con)\n",
    "line_score"
   ]
  },
  {
   "cell_type": "code",
   "execution_count": 23,
   "metadata": {},
   "outputs": [
    {
     "name": "stderr",
     "output_type": "stream",
     "text": [
      "C:\\Users\\matan.s\\AppData\\Local\\Temp\\ipykernel_22148\\2020164856.py:6: DtypeWarning: Columns (6) have mixed types. Specify dtype option on import or set low_memory=False.\n",
      "  Data_frames.append(pd.read_csv('csv/'+i))\n"
     ]
    },
    {
     "name": "stdout",
     "output_type": "stream",
     "text": [
      "5 5\n"
     ]
    }
   ],
   "source": [
    "# #get all the tables in the csv folder\n",
    "# import os\n",
    "# Data_frames=[]\n",
    "# tabels=os.listdir('csv')\n",
    "# for i in tabels:\n",
    "#     Data_frames.append(pd.read_csv('csv/'+i))\n",
    "# print(len(Data_frames),len(tabels))\n",
    "# tabels_names=[]\n",
    "# for i in tabels:\n",
    "#     tabels_names.append(i.split('.')[0])"
   ]
  },
  {
   "cell_type": "code",
   "execution_count": 24,
   "metadata": {},
   "outputs": [],
   "source": [
    "# for i in range(len(Data_frames)):\n",
    "#     Data_frames[i].to_sql(tabels_names[i], con2, if_exists='replace', index = False)\n"
   ]
  },
  {
   "cell_type": "code",
   "execution_count": 38,
   "metadata": {},
   "outputs": [
    {
     "data": {
      "text/html": [
       "<div>\n",
       "<style scoped>\n",
       "    .dataframe tbody tr th:only-of-type {\n",
       "        vertical-align: middle;\n",
       "    }\n",
       "\n",
       "    .dataframe tbody tr th {\n",
       "        vertical-align: top;\n",
       "    }\n",
       "\n",
       "    .dataframe thead th {\n",
       "        text-align: right;\n",
       "    }\n",
       "</style>\n",
       "<table border=\"1\" class=\"dataframe\">\n",
       "  <thead>\n",
       "    <tr style=\"text-align: right;\">\n",
       "      <th></th>\n",
       "      <th></th>\n",
       "      <th>A</th>\n",
       "      <th>B</th>\n",
       "    </tr>\n",
       "  </thead>\n",
       "  <tbody>\n",
       "    <tr>\n",
       "      <th rowspan=\"3\" valign=\"top\">a</th>\n",
       "      <th>1</th>\n",
       "      <td>12</td>\n",
       "      <td>91</td>\n",
       "    </tr>\n",
       "    <tr>\n",
       "      <th>2</th>\n",
       "      <td>7</td>\n",
       "      <td>81</td>\n",
       "    </tr>\n",
       "    <tr>\n",
       "      <th>3</th>\n",
       "      <td>37</td>\n",
       "      <td>24</td>\n",
       "    </tr>\n",
       "    <tr>\n",
       "      <th rowspan=\"3\" valign=\"top\">b</th>\n",
       "      <th>1</th>\n",
       "      <td>24</td>\n",
       "      <td>91</td>\n",
       "    </tr>\n",
       "    <tr>\n",
       "      <th>2</th>\n",
       "      <td>97</td>\n",
       "      <td>68</td>\n",
       "    </tr>\n",
       "    <tr>\n",
       "      <th>3</th>\n",
       "      <td>31</td>\n",
       "      <td>44</td>\n",
       "    </tr>\n",
       "  </tbody>\n",
       "</table>\n",
       "</div>"
      ],
      "text/plain": [
       "      A   B\n",
       "a 1  12  91\n",
       "  2   7  81\n",
       "  3  37  24\n",
       "b 1  24  91\n",
       "  2  97  68\n",
       "  3  31  44"
      ]
     },
     "execution_count": 38,
     "metadata": {},
     "output_type": "execute_result"
    }
   ],
   "source": [
    "#create a dataframe with 2 columns and 3 rows twice 2 groups of data\n",
    "df = pd.DataFrame(np.random.randint(0,100,size=(6, 2)), columns=list('AB'))\n",
    "df2=pd.DataFrame(np.random.randint(10,20,size=(6,2)),index=['a','b','c','d','e','f'],columns=list(['A','B']))\n",
    "# df3=pd.DataFrame(np.random.randint(0,100,size=(6, 6)),{0:'A',1:'B',2:'C',3:'D',4:'E',5:'F'},['a','b','c','d','e','f'])\n",
    "#create a multilevel index dataframe\n",
    "df3=pd.DataFrame(np.random.randint(0,100,size=(6, 2)),index=[['a','a','a','b','b','b'],[1,2,3,1,2,3]],columns=list(['A','B']))\n",
    "#create a random multilevel index dataframe\n",
    "df4=pd.DataFrame(np.random.randint(0,100,size=(6, 2)),index=[['a','a','a','b','b','b'],[1,2,3,1,2,3]],columns=list(['A','B']))"
   ]
  },
  {
   "cell_type": "code",
   "execution_count": 51,
   "metadata": {},
   "outputs": [
    {
     "name": "stdout",
     "output_type": "stream",
     "text": [
      "['H', 'C']\n",
      "['H', 'C', 'H', 'C', 'H', 'C', 'H', 'C']\n"
     ]
    },
    {
     "data": {
      "text/html": [
       "<div>\n",
       "<style scoped>\n",
       "    .dataframe tbody tr th:only-of-type {\n",
       "        vertical-align: middle;\n",
       "    }\n",
       "\n",
       "    .dataframe tbody tr th {\n",
       "        vertical-align: top;\n",
       "    }\n",
       "\n",
       "    .dataframe thead th {\n",
       "        text-align: right;\n",
       "    }\n",
       "</style>\n",
       "<table border=\"1\" class=\"dataframe\">\n",
       "  <thead>\n",
       "    <tr style=\"text-align: right;\">\n",
       "      <th></th>\n",
       "      <th>Y</th>\n",
       "      <th>X</th>\n",
       "      <th>B</th>\n",
       "      <th>I</th>\n",
       "      <th>G</th>\n",
       "      <th>G</th>\n",
       "    </tr>\n",
       "  </thead>\n",
       "  <tbody>\n",
       "    <tr>\n",
       "      <th>H</th>\n",
       "      <td>85</td>\n",
       "      <td>58</td>\n",
       "      <td>83</td>\n",
       "      <td>5</td>\n",
       "      <td>94</td>\n",
       "      <td>6</td>\n",
       "    </tr>\n",
       "    <tr>\n",
       "      <th>C</th>\n",
       "      <td>6</td>\n",
       "      <td>80</td>\n",
       "      <td>24</td>\n",
       "      <td>63</td>\n",
       "      <td>8</td>\n",
       "      <td>41</td>\n",
       "    </tr>\n",
       "    <tr>\n",
       "      <th>H</th>\n",
       "      <td>95</td>\n",
       "      <td>40</td>\n",
       "      <td>13</td>\n",
       "      <td>53</td>\n",
       "      <td>43</td>\n",
       "      <td>37</td>\n",
       "    </tr>\n",
       "    <tr>\n",
       "      <th>C</th>\n",
       "      <td>57</td>\n",
       "      <td>78</td>\n",
       "      <td>27</td>\n",
       "      <td>43</td>\n",
       "      <td>12</td>\n",
       "      <td>24</td>\n",
       "    </tr>\n",
       "    <tr>\n",
       "      <th>H</th>\n",
       "      <td>11</td>\n",
       "      <td>11</td>\n",
       "      <td>37</td>\n",
       "      <td>68</td>\n",
       "      <td>63</td>\n",
       "      <td>91</td>\n",
       "    </tr>\n",
       "    <tr>\n",
       "      <th>C</th>\n",
       "      <td>37</td>\n",
       "      <td>83</td>\n",
       "      <td>75</td>\n",
       "      <td>91</td>\n",
       "      <td>76</td>\n",
       "      <td>30</td>\n",
       "    </tr>\n",
       "    <tr>\n",
       "      <th>H</th>\n",
       "      <td>57</td>\n",
       "      <td>38</td>\n",
       "      <td>63</td>\n",
       "      <td>66</td>\n",
       "      <td>82</td>\n",
       "      <td>29</td>\n",
       "    </tr>\n",
       "    <tr>\n",
       "      <th>C</th>\n",
       "      <td>11</td>\n",
       "      <td>56</td>\n",
       "      <td>2</td>\n",
       "      <td>89</td>\n",
       "      <td>51</td>\n",
       "      <td>23</td>\n",
       "    </tr>\n",
       "  </tbody>\n",
       "</table>\n",
       "</div>"
      ],
      "text/plain": [
       "    Y   X   B   I   G   G\n",
       "H  85  58  83   5  94   6\n",
       "C   6  80  24  63   8  41\n",
       "H  95  40  13  53  43  37\n",
       "C  57  78  27  43  12  24\n",
       "H  11  11  37  68  63  91\n",
       "C  37  83  75  91  76  30\n",
       "H  57  38  63  66  82  29\n",
       "C  11  56   2  89  51  23"
      ]
     },
     "execution_count": 51,
     "metadata": {},
     "output_type": "execute_result"
    }
   ],
   "source": [
    "def random_multilevel_dataFrame():\n",
    "    m=randint(2,10)\n",
    "    n=randint(2,10)\n",
    "    if m%2==1:\n",
    "        m+=1\n",
    "    if n%2==1:\n",
    "        n+=1\n",
    "    data=np.random.randint(0,100,size=(m, n))\n",
    "    indexs=[]\n",
    "    for i in range(2):\n",
    "        indexs.append(chr(randint(65,90)))\n",
    "    print(indexs)\n",
    "    indexs*=int(m/2)\n",
    "    print(indexs)\n",
    "    columns=[]\n",
    "    for i in range(n):\n",
    "        columns.append(chr(randint(65,90)))\n",
    "    df=pd.DataFrame(data,index=[indexs],columns=columns)\n",
    "    return df\n",
    "df=random_multilevel_dataFrame()\n",
    "df"
   ]
  }
 ],
 "metadata": {
  "kernelspec": {
   "display_name": "base",
   "language": "python",
   "name": "python3"
  },
  "language_info": {
   "codemirror_mode": {
    "name": "ipython",
    "version": 3
   },
   "file_extension": ".py",
   "mimetype": "text/x-python",
   "name": "python",
   "nbconvert_exporter": "python",
   "pygments_lexer": "ipython3",
   "version": "3.9.13"
  },
  "orig_nbformat": 4,
  "vscode": {
   "interpreter": {
    "hash": "3f5489b7472e0db5a0aca474269aa1efb9aed33b7cc21a8c650b51c14ef83b94"
   }
  }
 },
 "nbformat": 4,
 "nbformat_minor": 2
}
