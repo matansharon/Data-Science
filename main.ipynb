{
 "cells": [
  {
   "cell_type": "code",
   "execution_count": null,
   "metadata": {},
   "outputs": [],
   "source": [
    "import pandas as pd\n",
    "import numpy as np\n",
    "import sqlite3\n",
    "from random import randint"
   ]
  },
  {
   "cell_type": "code",
   "execution_count": null,
   "metadata": {},
   "outputs": [],
   "source": [
    "all_tables_names=\"\"\"common_player_info,draft_combine_stats,draft_history,game,game_info,game_summary,inactive_players,line_score,officials,other_stats,play_by_play,player,team,team_details,team_history,team_info_common\"\"\"\n",
    "all_tables_names=all_tables_names.split(\",\")\n",
    "all_tables_names"
   ]
  },
  {
   "cell_type": "code",
   "execution_count": null,
   "metadata": {},
   "outputs": [],
   "source": [
    "#generate a random datframe\n",
    "df = pd.DataFrame(np.random.randint(0,100,size=(100, 4)), columns=list('ABCD'))\n",
    "df2=pd.DataFrame(np.random.randint(10,20,size=(5,5)),index=['a','b','c','d','e'],columns=list(['A','B','C','D','E']))\n",
    "data=np.random.randint(0,100,size=(100, 4))\n",
    "cols=['A','B','C','D']\n",
    "df3=pd.DataFrame(data,columns=cols)\n",
    "df3"
   ]
  },
  {
   "cell_type": "code",
   "execution_count": null,
   "metadata": {},
   "outputs": [],
   "source": [
    "out_data=pd.read_csv('data.csv')\n",
    "# len(out_data['player_name'])\n",
    "season_2021_22=out_data[out_data['season']=='2021-22']\n",
    "season_2021_22[season_2021_22['player_name']=='Stephen Curry']"
   ]
  },
  {
   "cell_type": "code",
   "execution_count": null,
   "metadata": {},
   "outputs": [],
   "source": [
    "con = sqlite3.connect(\"nba.sqlite\")\n",
    "con2=sqlite3.connect(\"nba2.sqlite\")\n",
    "df = pd.read_sql_query(\"SELECT * from common_player_info\", con)\n",
    "# df.head()"
   ]
  },
  {
   "cell_type": "code",
   "execution_count": null,
   "metadata": {},
   "outputs": [],
   "source": [
    "line_score=pd.read_sql_query(\"SELECT * from line_score\", con)\n",
    "line_score"
   ]
  },
  {
   "cell_type": "code",
   "execution_count": null,
   "metadata": {},
   "outputs": [],
   "source": [
    "# #get all the tables in the csv folder\n",
    "# import os\n",
    "# Data_frames=[]\n",
    "# tabels=os.listdir('csv')\n",
    "# for i in tabels:\n",
    "#     Data_frames.append(pd.read_csv('csv/'+i))\n",
    "# print(len(Data_frames),len(tabels))\n",
    "# tabels_names=[]\n",
    "# for i in tabels:\n",
    "#     tabels_names.append(i.split('.')[0])"
   ]
  },
  {
   "cell_type": "code",
   "execution_count": null,
   "metadata": {},
   "outputs": [],
   "source": [
    "# for i in range(len(Data_frames)):\n",
    "#     Data_frames[i].to_sql(tabels_names[i], con2, if_exists='replace', index = False)\n"
   ]
  },
  {
   "attachments": {},
   "cell_type": "markdown",
   "metadata": {},
   "source": [
    "dr="
   ]
  },
  {
   "cell_type": "code",
   "execution_count": null,
   "metadata": {},
   "outputs": [],
   "source": [
    "def random_multilevel_dataFrame():\n",
    "    m=12\n",
    "    n=3\n",
    "    \n",
    "    data=np.random.randint(0,100,size=(m, n))\n",
    "    indexs=[]\n",
    "    for i in range(3):\n",
    "        indexs.append(chr(randint(65,90)))\n",
    "    indexs*=4\n",
    "    indexs.sort()\n",
    "    indexs2=[]\n",
    "    for i in range(4):\n",
    "        indexs2.append(randint(1,3))\n",
    "    indexs2*=3\n",
    "    columns=[]\n",
    "    for i in range(n):\n",
    "        columns.append(chr(randint(100,110)))\n",
    "    df=pd.DataFrame(data,index=[indexs,indexs2],columns=columns)\n",
    "    return df\n",
    "df=random_multilevel_dataFrame()\n",
    "df"
   ]
  },
  {
   "cell_type": "code",
   "execution_count": 93,
   "metadata": {},
   "outputs": [
    {
     "data": {
      "text/plain": [
       "23.761538461538464"
      ]
     },
     "execution_count": 93,
     "metadata": {},
     "output_type": "execute_result"
    }
   ],
   "source": [
    "df=pd.read_csv('data.csv')\n",
    "by_player=df.groupby ('player_name')\n",
    "steph=by_player.get_group('Stephen Curry')\n",
    "steph['pts'].mean()"
   ]
  }
 ],
 "metadata": {
  "kernelspec": {
   "display_name": "base",
   "language": "python",
   "name": "python3"
  },
  "language_info": {
   "codemirror_mode": {
    "name": "ipython",
    "version": 3
   },
   "file_extension": ".py",
   "mimetype": "text/x-python",
   "name": "python",
   "nbconvert_exporter": "python",
   "pygments_lexer": "ipython3",
   "version": "3.9.13"
  },
  "orig_nbformat": 4,
  "vscode": {
   "interpreter": {
    "hash": "3f5489b7472e0db5a0aca474269aa1efb9aed33b7cc21a8c650b51c14ef83b94"
   }
  }
 },
 "nbformat": 4,
 "nbformat_minor": 2
}
