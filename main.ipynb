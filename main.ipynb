{
 "cells": [
  {
   "cell_type": "code",
   "execution_count": null,
   "metadata": {},
   "outputs": [],
   "source": [
    "import pandas as pd\n",
    "import numpy as np\n",
    "import sqlite3"
   ]
  },
  {
   "cell_type": "code",
   "execution_count": null,
   "metadata": {},
   "outputs": [],
   "source": [
    "all_tables_names=\"\"\"common_player_info,draft_combine_stats,draft_history,game,game_info,game_summary,inactive_players,line_score,officials,other_stats,play_by_play,player,team,team_details,team_history,team_info_common\"\"\"\n",
    "all_tables_names=all_tables_names.split(\",\")\n",
    "all_tables_names"
   ]
  },
  {
   "cell_type": "code",
   "execution_count": null,
   "metadata": {},
   "outputs": [],
   "source": [
    "#generate a random datframe\n",
    "df = pd.DataFrame(np.random.randint(0,100,size=(100, 4)), columns=list('ABCD'))\n",
    "df2=pd.DataFrame(np.random.randint(10,20,size=(5,5)),index=['a','b','c','d','e'],columns=list(['A','B','C','D','E']))\n",
    "data=np.random.randint(0,100,size=(100, 4))\n",
    "cols=['A','B','C','D']\n",
    "df3=pd.DataFrame(data,columns=cols)\n",
    "df3"
   ]
  },
  {
   "cell_type": "code",
   "execution_count": null,
   "metadata": {},
   "outputs": [],
   "source": [
    "out_data=pd.read_csv('data.csv')\n",
    "# len(out_data['player_name'])\n",
    "season_2021_22=out_data[out_data['season']=='2021-22']\n",
    "season_2021_22[season_2021_22['player_name']=='Stephen Curry']"
   ]
  },
  {
   "cell_type": "code",
   "execution_count": null,
   "metadata": {},
   "outputs": [],
   "source": [
    "con = sqlite3.connect(\"nba.sqlite\")\n",
    "con2=sqlite3.connect(\"nba2.sqlite\")\n",
    "df = pd.read_sql_query(\"SELECT * from common_player_info\", con)\n",
    "# df.head()"
   ]
  },
  {
   "cell_type": "code",
   "execution_count": null,
   "metadata": {},
   "outputs": [],
   "source": [
    "line_score=pd.read_sql_query(\"SELECT * from line_score\", con)\n",
    "line_score"
   ]
  },
  {
   "cell_type": "code",
   "execution_count": 23,
   "metadata": {},
   "outputs": [
    {
     "name": "stderr",
     "output_type": "stream",
     "text": [
      "C:\\Users\\matan.s\\AppData\\Local\\Temp\\ipykernel_22148\\2020164856.py:6: DtypeWarning: Columns (6) have mixed types. Specify dtype option on import or set low_memory=False.\n",
      "  Data_frames.append(pd.read_csv('csv/'+i))\n"
     ]
    },
    {
     "name": "stdout",
     "output_type": "stream",
     "text": [
      "5 5\n"
     ]
    }
   ],
   "source": [
    "# #get all the tables in the csv folder\n",
    "# import os\n",
    "# Data_frames=[]\n",
    "# tabels=os.listdir('csv')\n",
    "# for i in tabels:\n",
    "#     Data_frames.append(pd.read_csv('csv/'+i))\n",
    "# print(len(Data_frames),len(tabels))\n",
    "# tabels_names=[]\n",
    "# for i in tabels:\n",
    "#     tabels_names.append(i.split('.')[0])"
   ]
  },
  {
   "cell_type": "code",
   "execution_count": 24,
   "metadata": {},
   "outputs": [],
   "source": [
    "# for i in range(len(Data_frames)):\n",
    "#     Data_frames[i].to_sql(tabels_names[i], con2, if_exists='replace', index = False)\n"
   ]
  },
  {
   "cell_type": "code",
   "execution_count": 33,
   "metadata": {},
   "outputs": [
    {
     "data": {
      "text/html": [
       "<div>\n",
       "<style scoped>\n",
       "    .dataframe tbody tr th:only-of-type {\n",
       "        vertical-align: middle;\n",
       "    }\n",
       "\n",
       "    .dataframe tbody tr th {\n",
       "        vertical-align: top;\n",
       "    }\n",
       "\n",
       "    .dataframe thead th {\n",
       "        text-align: right;\n",
       "    }\n",
       "</style>\n",
       "<table border=\"1\" class=\"dataframe\">\n",
       "  <thead>\n",
       "    <tr style=\"text-align: right;\">\n",
       "      <th></th>\n",
       "      <th>a</th>\n",
       "      <th>b</th>\n",
       "      <th>c</th>\n",
       "      <th>d</th>\n",
       "      <th>e</th>\n",
       "      <th>f</th>\n",
       "    </tr>\n",
       "  </thead>\n",
       "  <tbody>\n",
       "    <tr>\n",
       "      <th>0</th>\n",
       "      <td>39</td>\n",
       "      <td>43</td>\n",
       "      <td>25</td>\n",
       "      <td>98</td>\n",
       "      <td>44</td>\n",
       "      <td>99</td>\n",
       "    </tr>\n",
       "    <tr>\n",
       "      <th>1</th>\n",
       "      <td>49</td>\n",
       "      <td>92</td>\n",
       "      <td>1</td>\n",
       "      <td>81</td>\n",
       "      <td>21</td>\n",
       "      <td>54</td>\n",
       "    </tr>\n",
       "    <tr>\n",
       "      <th>2</th>\n",
       "      <td>30</td>\n",
       "      <td>27</td>\n",
       "      <td>70</td>\n",
       "      <td>60</td>\n",
       "      <td>31</td>\n",
       "      <td>51</td>\n",
       "    </tr>\n",
       "    <tr>\n",
       "      <th>3</th>\n",
       "      <td>8</td>\n",
       "      <td>2</td>\n",
       "      <td>47</td>\n",
       "      <td>81</td>\n",
       "      <td>84</td>\n",
       "      <td>3</td>\n",
       "    </tr>\n",
       "    <tr>\n",
       "      <th>4</th>\n",
       "      <td>40</td>\n",
       "      <td>50</td>\n",
       "      <td>73</td>\n",
       "      <td>99</td>\n",
       "      <td>49</td>\n",
       "      <td>17</td>\n",
       "    </tr>\n",
       "    <tr>\n",
       "      <th>5</th>\n",
       "      <td>19</td>\n",
       "      <td>83</td>\n",
       "      <td>55</td>\n",
       "      <td>7</td>\n",
       "      <td>80</td>\n",
       "      <td>41</td>\n",
       "    </tr>\n",
       "  </tbody>\n",
       "</table>\n",
       "</div>"
      ],
      "text/plain": [
       "    a   b   c   d   e   f\n",
       "0  39  43  25  98  44  99\n",
       "1  49  92   1  81  21  54\n",
       "2  30  27  70  60  31  51\n",
       "3   8   2  47  81  84   3\n",
       "4  40  50  73  99  49  17\n",
       "5  19  83  55   7  80  41"
      ]
     },
     "execution_count": 33,
     "metadata": {},
     "output_type": "execute_result"
    }
   ],
   "source": [
    "#create a dataframe with 2 columns and 3 rows twice 2 groups of data\n",
    "df = pd.DataFrame(np.random.randint(0,100,size=(6, 2)), columns=list('AB'))\n",
    "df2=pd.DataFrame(np.random.randint(10,20,size=(6,2)),index=['a','b','c','d','e','f'],columns=list(['A','B']))\n",
    "df3=pd.DataFrame(np.random.randint(0,100,size=(6, 6)),{0:'A',1:'B',2:'C',3:'D',4:'E',5:'F'},['a','b','c','d','e','f'])\n",
    "df3\n"
   ]
  },
  {
   "cell_type": "code",
   "execution_count": null,
   "metadata": {},
   "outputs": [],
   "source": []
  }
 ],
 "metadata": {
  "kernelspec": {
   "display_name": "base",
   "language": "python",
   "name": "python3"
  },
  "language_info": {
   "codemirror_mode": {
    "name": "ipython",
    "version": 3
   },
   "file_extension": ".py",
   "mimetype": "text/x-python",
   "name": "python",
   "nbconvert_exporter": "python",
   "pygments_lexer": "ipython3",
   "version": "3.9.13"
  },
  "orig_nbformat": 4,
  "vscode": {
   "interpreter": {
    "hash": "3f5489b7472e0db5a0aca474269aa1efb9aed33b7cc21a8c650b51c14ef83b94"
   }
  }
 },
 "nbformat": 4,
 "nbformat_minor": 2
}
