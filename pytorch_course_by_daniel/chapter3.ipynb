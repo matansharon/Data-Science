{
 "cells": [
  {
   "cell_type": "markdown",
   "metadata": {},
   "source": [
    "## Start of chapter 3"
   ]
  },
  {
   "cell_type": "code",
   "execution_count": null,
   "metadata": {},
   "outputs": [],
   "source": [
    "import numpy as np\n",
    "import torch\n",
    "from torch import nn\n",
    "import matplotlib.pyplot as plt\n",
    "import pandas as pd\n",
    "import sklearn\n",
    "from sklearn.model_selection import train_test_split\n",
    "# %matplotlib inline"
   ]
  },
  {
   "cell_type": "code",
   "execution_count": null,
   "metadata": {},
   "outputs": [],
   "source": [
    "print(torch.cuda.is_available())"
   ]
  },
  {
   "cell_type": "code",
   "execution_count": null,
   "metadata": {},
   "outputs": [],
   "source": [
    "weight=0.7\n",
    "bias=0.3\n",
    "start=0\n",
    "end=1\n",
    "step=0.02\n",
    "x=torch.arange(start,end,step).unsqueeze(dim=1)\n",
    "y=weight*x+bias\n",
    "# x[:10],y[:10],len(x),len(y),x.shape,y.shape,len(y)"
   ]
  },
  {
   "cell_type": "markdown",
   "metadata": {},
   "source": [
    "the ratio between the traning set and the validation set is <br>\n",
    "*traning set : 60%-80%<br>\n",
    "*validation set : 10%-20%<br>\n",
    "*test set : 10%-20%<br>"
   ]
  },
  {
   "cell_type": "code",
   "execution_count": null,
   "metadata": {},
   "outputs": [],
   "source": [
    "train_split=int(0.8*len(x))\n",
    "x_train=x[:train_split]\n",
    "y_train=y[:train_split]\n",
    "x_test=x[train_split:]\n",
    "y_test=y[train_split:]\n",
    "len(x_train),len(x_test),len(y_train),len(y_test)\n",
    "# print(x_train)\n",
    "# print(y_train)\n",
    "# print(x_test)\n",
    "# print(y_test)\n",
    "\n"
   ]
  },
  {
   "cell_type": "code",
   "execution_count": null,
   "metadata": {},
   "outputs": [],
   "source": [
    "df=pd.read_csv('all_fuels_data.csv')\n",
    "df['diff']=df['open']-df['close']\n",
    "df.head()"
   ]
  },
  {
   "cell_type": "code",
   "execution_count": null,
   "metadata": {},
   "outputs": [],
   "source": [
    "#count each value in the commodities column are there in the dataset and convert it to precentage\n",
    "df['commodity'].value_counts(normalize=True)\n",
    "#do the same for ticker column\n",
    "df['ticker'].value_counts(normalize=True)"
   ]
  },
  {
   "cell_type": "code",
   "execution_count": null,
   "metadata": {},
   "outputs": [],
   "source": [
    "plt.plot(x_train, 'ro', label='Original data')\n",
    "plt.plot(x_test, 'bo', label='Original data')"
   ]
  },
  {
   "cell_type": "code",
   "execution_count": null,
   "metadata": {},
   "outputs": [],
   "source": [
    "x_train,y_train,x_test,y_test =train_test_split(x,y,test_size=0.2)"
   ]
  },
  {
   "cell_type": "code",
   "execution_count": null,
   "metadata": {},
   "outputs": [],
   "source": [
    "y_test"
   ]
  },
  {
   "cell_type": "code",
   "execution_count": null,
   "metadata": {},
   "outputs": [],
   "source": [
    "#create a scatter plot of the data\n",
    "class LinearRegression(nn.Module):\n",
    "    def __init__(self):\n",
    "        super(LinearRegression, self).__init__()\n",
    "        self.weights = nn.Parameter(torch.randn(1, requires_grad=True, dtype=torch.float32))\n",
    "        self.bias= nn.Parameter(torch.randn(1,requires_grad=True, dtype=torch.float32))\n",
    "    def forward(self, x):\n",
    "        return torch.matmul(x, self.weights)"
   ]
  },
  {
   "cell_type": "code",
   "execution_count": null,
   "metadata": {},
   "outputs": [],
   "source": [
    "#create an instance of the class\n",
    "seed=torch.manual_seed(42)\n",
    "input_size = 1\n",
    "output_size = 1\n",
    "model = LinearRegression()\n",
    "#create a manual seed\n",
    "list(model.state_dict().items())\n"
   ]
  },
  {
   "cell_type": "code",
   "execution_count": null,
   "metadata": {},
   "outputs": [],
   "source": [
    "with torch.inference_mode():\n",
    "    y_pred = model(x)\n",
    "    print(y_pred)\n",
    "\n",
    "#plot the y_pred\n",
    "plt.plot(x, y, 'b.', label='y')\n",
    "plt.plot(x.numpy(), y_pred.detach().numpy(), 'r-', label='y_pred')\n",
    "plt.legend()\n",
    "plt.show()"
   ]
  },
  {
   "cell_type": "markdown",
   "metadata": {},
   "source": [
    "## Train the model"
   ]
  },
  {
   "cell_type": "code",
   "execution_count": 109,
   "metadata": {},
   "outputs": [
    {
     "name": "stderr",
     "output_type": "stream",
     "text": [
      "c:\\Users\\matan.s\\AppData\\Local\\anaconda3\\envs\\ai\\lib\\site-packages\\torch\\nn\\modules\\loss.py:101: UserWarning: Using a target size (torch.Size([10, 1])) that is different to the input size (torch.Size([40])). This will likely lead to incorrect results due to broadcasting. Please ensure they have the same size.\n",
      "  return F.l1_loss(input, target, reduction=self.reduction)\n"
     ]
    },
    {
     "name": "stdout",
     "output_type": "stream",
     "text": [
      "tensor(0.3720, grad_fn=<MeanBackward0>)\n",
      "first iteration 0.3720373213291168\n",
      "99 -4.470348358154297e-05\n",
      "199 -5.066394805908203e-05\n",
      "299 -4.470348358154297e-05\n",
      "399 -4.172325134277344e-05\n",
      "499 -4.76837158203125e-05\n",
      "599 -4.172325134277344e-05\n",
      "699 -4.76837158203125e-05\n",
      "799 -5.364418029785156e-05\n",
      "899 -4.470348358154297e-05\n",
      "999 -4.172325134277344e-05\n",
      "1099 -4.470348358154297e-05\n",
      "1199 -5.066394805908203e-05\n",
      "1299 -4.470348358154297e-05\n",
      "1399 -4.470348358154297e-05\n",
      "1499 -4.76837158203125e-05\n",
      "1599 -4.172325134277344e-05\n",
      "1699 -4.76837158203125e-05\n",
      "1799 -4.470348358154297e-05\n",
      "1899 -4.470348358154297e-05\n",
      "1999 -5.066394805908203e-05\n"
     ]
    }
   ],
   "source": [
    "loss_fn=nn.L1Loss(reduction='mean')\n",
    "loss=loss_fn(y_pred,y_train)\n",
    "print(loss)\n",
    "# print(x_train)\n",
    "#setup optimizer\n",
    "optimizer=torch.optim.SGD(model.parameters(),lr=1e-5)\n",
    "#training loop\n",
    "prev_loss=0\n",
    "for t in range(2000):\n",
    "    model.train()\n",
    "    #forward pass\n",
    "    y_pred=model(x_train)\n",
    "    #compute loss\n",
    "    loss=loss_fn(y_pred,y_train)\n",
    "    if(t==0):\n",
    "        print(\"first iteration\",loss.item())\n",
    "        \n",
    "    if t%100==99:\n",
    "        print(t,(loss.item()-prev_loss)*100)\n",
    "    #zero the gradients before running the backward pass\n",
    "    optimizer.zero_grad()\n",
    "    #backward pass\n",
    "    loss.backward()\n",
    "    #update the parameters\n",
    "    optimizer.step()\n",
    "    prev_loss=loss.item()\n",
    "    "
   ]
  }
 ],
 "metadata": {
  "kernelspec": {
   "display_name": "torch_env",
   "language": "python",
   "name": "python3"
  },
  "language_info": {
   "codemirror_mode": {
    "name": "ipython",
    "version": 3
   },
   "file_extension": ".py",
   "mimetype": "text/x-python",
   "name": "python",
   "nbconvert_exporter": "python",
   "pygments_lexer": "ipython3",
   "version": "3.10.9"
  },
  "orig_nbformat": 4
 },
 "nbformat": 4,
 "nbformat_minor": 2
}
