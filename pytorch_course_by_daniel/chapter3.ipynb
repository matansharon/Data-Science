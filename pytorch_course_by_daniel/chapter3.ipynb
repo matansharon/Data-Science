{
 "cells": [
  {
   "cell_type": "markdown",
   "metadata": {},
   "source": [
    "## Start of chapter 3"
   ]
  },
  {
   "cell_type": "code",
   "execution_count": 3,
   "metadata": {},
   "outputs": [],
   "source": [
    "import numpy as np\n",
    "import torch\n",
    "import matplotlib.pyplot as plt\n",
    "import pandas as pd\n",
    "# import sklearn\n",
    "%matplotlib inline"
   ]
  },
  {
   "cell_type": "code",
   "execution_count": 7,
   "metadata": {},
   "outputs": [
    {
     "name": "stdout",
     "output_type": "stream",
     "text": [
      "True\n"
     ]
    }
   ],
   "source": [
    "print(torch.cuda.is_available())"
   ]
  },
  {
   "cell_type": "code",
   "execution_count": 8,
   "metadata": {},
   "outputs": [],
   "source": [
    "weight=0.7\n",
    "bias=0.3\n",
    "start=0\n",
    "end=1\n",
    "step=0.02\n",
    "x=torch.arange(start,end,step).unsqueeze(dim=1)\n",
    "y=weight*x+bias\n",
    "# x[:10],y[:10],len(x),len(y),x.shape,y.shape,len(y)"
   ]
  },
  {
   "cell_type": "markdown",
   "metadata": {},
   "source": [
    "the ratio between the traning set and the validation set is <br>\n",
    "*traning set : 60%-80%<br>\n",
    "*validation set : 10%-20%<br>\n",
    "*test set : 10%-20%<br>"
   ]
  },
  {
   "cell_type": "code",
   "execution_count": 9,
   "metadata": {},
   "outputs": [
    {
     "data": {
      "text/plain": [
       "(40, 10, 40, 10)"
      ]
     },
     "execution_count": 9,
     "metadata": {},
     "output_type": "execute_result"
    }
   ],
   "source": [
    "train_split=int(0.8*len(x))\n",
    "x_train=x[:train_split]\n",
    "y_train=y[:train_split]\n",
    "x_test=x[train_split:]\n",
    "y_test=y[train_split:]\n",
    "len(x_train),len(x_test),len(y_train),len(y_test)\n",
    "# print(x_train)\n",
    "# print(y_train)\n",
    "# print(x_test)\n",
    "# print(y_test)\n",
    "\n"
   ]
  },
  {
   "cell_type": "code",
   "execution_count": 4,
   "metadata": {},
   "outputs": [
    {
     "data": {
      "text/html": [
       "<div>\n",
       "<style scoped>\n",
       "    .dataframe tbody tr th:only-of-type {\n",
       "        vertical-align: middle;\n",
       "    }\n",
       "\n",
       "    .dataframe tbody tr th {\n",
       "        vertical-align: top;\n",
       "    }\n",
       "\n",
       "    .dataframe thead th {\n",
       "        text-align: right;\n",
       "    }\n",
       "</style>\n",
       "<table border=\"1\" class=\"dataframe\">\n",
       "  <thead>\n",
       "    <tr style=\"text-align: right;\">\n",
       "      <th></th>\n",
       "      <th>ticker</th>\n",
       "      <th>commodity</th>\n",
       "      <th>date</th>\n",
       "      <th>open</th>\n",
       "      <th>high</th>\n",
       "      <th>low</th>\n",
       "      <th>close</th>\n",
       "      <th>volume</th>\n",
       "    </tr>\n",
       "  </thead>\n",
       "  <tbody>\n",
       "    <tr>\n",
       "      <th>0</th>\n",
       "      <td>CL=F</td>\n",
       "      <td>Crude Oil</td>\n",
       "      <td>2000-08-23</td>\n",
       "      <td>31.950001</td>\n",
       "      <td>32.799999</td>\n",
       "      <td>31.950001</td>\n",
       "      <td>32.049999</td>\n",
       "      <td>79385</td>\n",
       "    </tr>\n",
       "    <tr>\n",
       "      <th>1</th>\n",
       "      <td>CL=F</td>\n",
       "      <td>Crude Oil</td>\n",
       "      <td>2000-08-24</td>\n",
       "      <td>31.900000</td>\n",
       "      <td>32.240002</td>\n",
       "      <td>31.400000</td>\n",
       "      <td>31.629999</td>\n",
       "      <td>72978</td>\n",
       "    </tr>\n",
       "    <tr>\n",
       "      <th>2</th>\n",
       "      <td>CL=F</td>\n",
       "      <td>Crude Oil</td>\n",
       "      <td>2000-08-25</td>\n",
       "      <td>31.700001</td>\n",
       "      <td>32.099998</td>\n",
       "      <td>31.320000</td>\n",
       "      <td>32.049999</td>\n",
       "      <td>44601</td>\n",
       "    </tr>\n",
       "    <tr>\n",
       "      <th>3</th>\n",
       "      <td>CL=F</td>\n",
       "      <td>Crude Oil</td>\n",
       "      <td>2000-08-28</td>\n",
       "      <td>32.040001</td>\n",
       "      <td>32.919998</td>\n",
       "      <td>31.860001</td>\n",
       "      <td>32.869999</td>\n",
       "      <td>46770</td>\n",
       "    </tr>\n",
       "    <tr>\n",
       "      <th>4</th>\n",
       "      <td>CL=F</td>\n",
       "      <td>Crude Oil</td>\n",
       "      <td>2000-08-29</td>\n",
       "      <td>32.820000</td>\n",
       "      <td>33.029999</td>\n",
       "      <td>32.560001</td>\n",
       "      <td>32.720001</td>\n",
       "      <td>49131</td>\n",
       "    </tr>\n",
       "    <tr>\n",
       "      <th>5</th>\n",
       "      <td>CL=F</td>\n",
       "      <td>Crude Oil</td>\n",
       "      <td>2000-08-30</td>\n",
       "      <td>32.750000</td>\n",
       "      <td>33.400002</td>\n",
       "      <td>32.099998</td>\n",
       "      <td>33.400002</td>\n",
       "      <td>79214</td>\n",
       "    </tr>\n",
       "    <tr>\n",
       "      <th>6</th>\n",
       "      <td>CL=F</td>\n",
       "      <td>Crude Oil</td>\n",
       "      <td>2000-08-31</td>\n",
       "      <td>33.250000</td>\n",
       "      <td>33.700001</td>\n",
       "      <td>32.970001</td>\n",
       "      <td>33.099998</td>\n",
       "      <td>56895</td>\n",
       "    </tr>\n",
       "    <tr>\n",
       "      <th>7</th>\n",
       "      <td>CL=F</td>\n",
       "      <td>Crude Oil</td>\n",
       "      <td>2000-09-01</td>\n",
       "      <td>33.049999</td>\n",
       "      <td>33.450001</td>\n",
       "      <td>32.750000</td>\n",
       "      <td>33.380001</td>\n",
       "      <td>45869</td>\n",
       "    </tr>\n",
       "    <tr>\n",
       "      <th>8</th>\n",
       "      <td>CL=F</td>\n",
       "      <td>Crude Oil</td>\n",
       "      <td>2000-09-05</td>\n",
       "      <td>33.950001</td>\n",
       "      <td>33.990002</td>\n",
       "      <td>33.419998</td>\n",
       "      <td>33.799999</td>\n",
       "      <td>55722</td>\n",
       "    </tr>\n",
       "    <tr>\n",
       "      <th>9</th>\n",
       "      <td>CL=F</td>\n",
       "      <td>Crude Oil</td>\n",
       "      <td>2000-09-06</td>\n",
       "      <td>33.990002</td>\n",
       "      <td>34.950001</td>\n",
       "      <td>33.830002</td>\n",
       "      <td>34.950001</td>\n",
       "      <td>74692</td>\n",
       "    </tr>\n",
       "  </tbody>\n",
       "</table>\n",
       "</div>"
      ],
      "text/plain": [
       "  ticker  commodity        date       open       high        low      close  \\\n",
       "0   CL=F  Crude Oil  2000-08-23  31.950001  32.799999  31.950001  32.049999   \n",
       "1   CL=F  Crude Oil  2000-08-24  31.900000  32.240002  31.400000  31.629999   \n",
       "2   CL=F  Crude Oil  2000-08-25  31.700001  32.099998  31.320000  32.049999   \n",
       "3   CL=F  Crude Oil  2000-08-28  32.040001  32.919998  31.860001  32.869999   \n",
       "4   CL=F  Crude Oil  2000-08-29  32.820000  33.029999  32.560001  32.720001   \n",
       "5   CL=F  Crude Oil  2000-08-30  32.750000  33.400002  32.099998  33.400002   \n",
       "6   CL=F  Crude Oil  2000-08-31  33.250000  33.700001  32.970001  33.099998   \n",
       "7   CL=F  Crude Oil  2000-09-01  33.049999  33.450001  32.750000  33.380001   \n",
       "8   CL=F  Crude Oil  2000-09-05  33.950001  33.990002  33.419998  33.799999   \n",
       "9   CL=F  Crude Oil  2000-09-06  33.990002  34.950001  33.830002  34.950001   \n",
       "\n",
       "   volume  \n",
       "0   79385  \n",
       "1   72978  \n",
       "2   44601  \n",
       "3   46770  \n",
       "4   49131  \n",
       "5   79214  \n",
       "6   56895  \n",
       "7   45869  \n",
       "8   55722  \n",
       "9   74692  "
      ]
     },
     "execution_count": 4,
     "metadata": {},
     "output_type": "execute_result"
    }
   ],
   "source": [
    "df=pd.read_csv('all_fuels_data.csv')\n",
    "df.head(10)"
   ]
  },
  {
   "cell_type": "code",
   "execution_count": 5,
   "metadata": {},
   "outputs": [
    {
     "ename": "",
     "evalue": "",
     "output_type": "error",
     "traceback": [
      "\u001b[1;31mCannot execute code, session has been disposed. Please try restarting the Kernel."
     ]
    },
    {
     "ename": "",
     "evalue": "",
     "output_type": "error",
     "traceback": [
      "\u001b[1;31mThe Kernel crashed while executing code in the the current cell or a previous cell. Please review the code in the cell(s) to identify a possible cause of the failure. Click <a href='https://aka.ms/vscodeJupyterKernelCrash'>here</a> for more info. View Jupyter <a href='command:jupyter.viewOutput'>log</a> for further details."
     ]
    }
   ],
   "source": [
    "v=df['volume']\n",
    "v.plot()"
   ]
  }
 ],
 "metadata": {
  "kernelspec": {
   "display_name": "torch_env",
   "language": "python",
   "name": "python3"
  },
  "language_info": {
   "codemirror_mode": {
    "name": "ipython",
    "version": 3
   },
   "file_extension": ".py",
   "mimetype": "text/x-python",
   "name": "python",
   "nbconvert_exporter": "python",
   "pygments_lexer": "ipython3",
   "version": "3.10.12"
  },
  "orig_nbformat": 4
 },
 "nbformat": 4,
 "nbformat_minor": 2
}
