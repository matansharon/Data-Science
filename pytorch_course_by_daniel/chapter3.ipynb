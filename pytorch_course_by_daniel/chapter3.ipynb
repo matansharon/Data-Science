{
 "cells": [
  {
   "cell_type": "markdown",
   "metadata": {},
   "source": [
    "## Start of chapter 3"
   ]
  },
  {
   "cell_type": "code",
   "execution_count": null,
   "metadata": {},
   "outputs": [],
   "source": [
    "import numpy as np\n",
    "import torch\n",
    "from torch import nn\n",
    "import matplotlib.pyplot as plt\n",
    "import pandas as pd\n",
    "import sklearn\n",
    "from sklearn.model_selection import train_test_split\n",
    "# %matplotlib inline"
   ]
  },
  {
   "cell_type": "code",
   "execution_count": null,
   "metadata": {},
   "outputs": [],
   "source": [
    "print(torch.cuda.is_available())"
   ]
  },
  {
   "cell_type": "code",
   "execution_count": 15,
   "metadata": {},
   "outputs": [
    {
     "data": {
      "text/plain": [
       "(tensor([[0.0000],\n",
       "         [0.0100],\n",
       "         [0.0200],\n",
       "         [0.0300],\n",
       "         [0.0400],\n",
       "         [0.0500],\n",
       "         [0.0600],\n",
       "         [0.0700],\n",
       "         [0.0800],\n",
       "         [0.0900]]),\n",
       " tensor([[0.3000],\n",
       "         [0.3070],\n",
       "         [0.3140],\n",
       "         [0.3210],\n",
       "         [0.3280],\n",
       "         [0.3350],\n",
       "         [0.3420],\n",
       "         [0.3490],\n",
       "         [0.3560],\n",
       "         [0.3630]]),\n",
       " 100,\n",
       " 100,\n",
       " torch.Size([100, 1]),\n",
       " torch.Size([100, 1]),\n",
       " 100)"
      ]
     },
     "execution_count": 15,
     "metadata": {},
     "output_type": "execute_result"
    }
   ],
   "source": [
    "weight=0.7\n",
    "bias=0.3\n",
    "start=0\n",
    "end=1\n",
    "step=0.01\n",
    "x=torch.arange(start,end,step).unsqueeze(dim=1)\n",
    "y=weight*x+bias\n",
    "x[:10],y[:10],len(x),len(y),x.shape,y.shape,len(y)"
   ]
  },
  {
   "cell_type": "markdown",
   "metadata": {},
   "source": [
    "the ratio between the traning set and the validation set is <br>\n",
    "*traning set : 60%-80%<br>\n",
    "*validation set : 10%-20%<br>\n",
    "*test set : 10%-20%<br>"
   ]
  },
  {
   "cell_type": "code",
   "execution_count": 16,
   "metadata": {},
   "outputs": [
    {
     "data": {
      "text/plain": [
       "(80, 20, 80, 20)"
      ]
     },
     "execution_count": 16,
     "metadata": {},
     "output_type": "execute_result"
    }
   ],
   "source": [
    "train_split=int(0.8*len(x))\n",
    "x_train=x[:train_split]\n",
    "y_train=y[:train_split]\n",
    "x_test=x[train_split:]\n",
    "y_test=y[train_split:]\n",
    "len(x_train),len(x_test),len(y_train),len(y_test)\n",
    "# print(x_train)\n",
    "# print(y_train)\n",
    "# print(x_test)\n",
    "# print(y_test)\n",
    "\n"
   ]
  },
  {
   "cell_type": "code",
   "execution_count": null,
   "metadata": {},
   "outputs": [],
   "source": [
    "# df=pd.read_csv('all_fuels_data.csv')\n",
    "# df['diff']=df['open']-df['close']\n",
    "# df.head()\n",
    "#count each value in the commodities column are there in the dataset and convert it to precentage\n",
    "# df['commodity'].value_counts(normalize=True)\n",
    "# #do the same for ticker column\n",
    "# df['ticker'].value_counts(normalize=True)"
   ]
  },
  {
   "cell_type": "code",
   "execution_count": null,
   "metadata": {},
   "outputs": [],
   "source": []
  },
  {
   "cell_type": "code",
   "execution_count": 17,
   "metadata": {},
   "outputs": [
    {
     "data": {
      "text/plain": [
       "[<matplotlib.lines.Line2D at 0x2d3d73a3010>]"
      ]
     },
     "execution_count": 17,
     "metadata": {},
     "output_type": "execute_result"
    },
    {
     "data": {
      "image/png": "[encoded data removed]",
      "text/plain": [
       "<Figure size 640x480 with 1 Axes>"
      ]
     },
     "metadata": {},
     "output_type": "display_data"
    }
   ],
   "source": [
    "plt.plot(x_train, 'ro', label='Original data')\n",
    "plt.plot(x_test, 'bo', label='Original data')"
   ]
  },
  {
   "cell_type": "code",
   "execution_count": 18,
   "metadata": {},
   "outputs": [],
   "source": [
    "x_train,y_train,x_test,y_test =train_test_split(x,y,test_size=0.2)"
   ]
  },
  {
   "cell_type": "code",
   "execution_count": 19,
   "metadata": {},
   "outputs": [
    {
     "data": {
      "text/plain": [
       "tensor([[0.6010],\n",
       "        [0.7270],\n",
       "        [0.7970],\n",
       "        [0.3490],\n",
       "        [0.4610],\n",
       "        [0.9300],\n",
       "        [0.9860],\n",
       "        [0.3980],\n",
       "        [0.8740],\n",
       "        [0.4190],\n",
       "        [0.3210],\n",
       "        [0.8670],\n",
       "        [0.3350],\n",
       "        [0.7200],\n",
       "        [0.7550],\n",
       "        [0.6150],\n",
       "        [0.8530],\n",
       "        [0.3560],\n",
       "        [0.7410],\n",
       "        [0.9580]])"
      ]
     },
     "execution_count": 19,
     "metadata": {},
     "output_type": "execute_result"
    }
   ],
   "source": [
    "y_test"
   ]
  },
  {
   "cell_type": "code",
   "execution_count": 20,
   "metadata": {},
   "outputs": [],
   "source": [
    "#create a scatter plot of the data\n",
    "class LinearRegression(nn.Module):\n",
    "    def __init__(self):\n",
    "        super(LinearRegression, self).__init__()\n",
    "        self.weights = nn.Parameter(torch.randn(1, requires_grad=True, dtype=torch.float32))\n",
    "        self.bias= nn.Parameter(torch.randn(1,requires_grad=True, dtype=torch.float32))\n",
    "    def forward(self, x):\n",
    "        return torch.matmul(x, self.weights)"
   ]
  },
  {
   "cell_type": "code",
   "execution_count": 24,
   "metadata": {},
   "outputs": [
    {
     "data": {
      "text/plain": [
       "[('weights', tensor([0.3367])), ('bias', tensor([0.1288]))]"
      ]
     },
     "execution_count": 24,
     "metadata": {},
     "output_type": "execute_result"
    }
   ],
   "source": [
    "#create an instance of the class\n",
    "seed=torch.manual_seed(42)\n",
    "input_size = 1\n",
    "output_size = 1\n",
    "model = LinearRegression()\n",
    "#create a manual seed\n",
    "list(model.state_dict().items())\n"
   ]
  },
  {
   "cell_type": "code",
   "execution_count": 14,
   "metadata": {},
   "outputs": [
    {
     "name": "stdout",
     "output_type": "stream",
     "text": [
      "tensor([0.0000, 0.0034, 0.0067, 0.0101, 0.0135, 0.0168, 0.0202, 0.0236, 0.0269,\n",
      "        0.0303, 0.0337, 0.0370, 0.0404, 0.0438, 0.0471, 0.0505, 0.0539, 0.0572,\n",
      "        0.0606, 0.0640, 0.0673, 0.0707, 0.0741, 0.0774, 0.0808, 0.0842, 0.0875,\n",
      "        0.0909, 0.0943, 0.0976, 0.1010, 0.1044, 0.1077, 0.1111, 0.1145, 0.1178,\n",
      "        0.1212, 0.1246, 0.1279, 0.1313, 0.1347, 0.1380, 0.1414, 0.1448, 0.1481,\n",
      "        0.1515, 0.1549, 0.1582, 0.1616, 0.1650, 0.1683, 0.1717, 0.1751, 0.1784,\n",
      "        0.1818, 0.1852, 0.1885, 0.1919, 0.1953, 0.1986, 0.2020, 0.2054, 0.2087,\n",
      "        0.2121, 0.2155, 0.2188, 0.2222, 0.2256, 0.2289, 0.2323, 0.2357, 0.2391,\n",
      "        0.2424, 0.2458, 0.2492, 0.2525, 0.2559, 0.2593, 0.2626, 0.2660, 0.2694,\n",
      "        0.2727, 0.2761, 0.2795, 0.2828, 0.2862, 0.2896, 0.2929, 0.2963, 0.2997,\n",
      "        0.3030, 0.3064, 0.3098, 0.3131, 0.3165, 0.3199, 0.3232, 0.3266, 0.3300,\n",
      "        0.3333])\n"
     ]
    },
    {
     "data": {
      "image/png": "[encoded data removed]",
      "text/plain": [
       "<Figure size 640x480 with 1 Axes>"
      ]
     },
     "metadata": {},
     "output_type": "display_data"
    }
   ],
   "source": [
    "with torch.inference_mode():\n",
    "    y_pred = model(x)\n",
    "    print(y_pred)\n",
    "\n",
    "#plot the y_pred\n",
    "plt.plot(x, y, 'b.', label='y')\n",
    "plt.plot(x.numpy(), y_pred.detach().numpy(), 'r-', label='y_pred')\n",
    "plt.legend()\n",
    "plt.show()"
   ]
  },
  {
   "cell_type": "markdown",
   "metadata": {},
   "source": [
    "## Train the model"
   ]
  },
  {
   "cell_type": "code",
   "execution_count": 25,
   "metadata": {},
   "outputs": [
    {
     "name": "stdout",
     "output_type": "stream",
     "text": [
      "tensor(0.3940, grad_fn=<MeanBackward0>)\n",
      "first iteration 0.3947792053222656\n"
     ]
    }
   ],
   "source": [
    "loss_fn=nn.L1Loss(reduction='mean')\n",
    "loss=loss_fn(y_pred,y_train)\n",
    "print(loss)\n",
    "# print(x_train)\n",
    "#setup optimizer\n",
    "optimizer=torch.optim.SGD(model.parameters(),lr=1e-5)\n",
    "#training loop\n",
    "prev_loss=0\n",
    "for t in range(1):\n",
    "    model.train()\n",
    "    #forward pass\n",
    "    y_pred=model(x_train)\n",
    "    #compute loss\n",
    "    loss=loss_fn(y_pred,y_train)\n",
    "    if(t==0):\n",
    "        print(\"first iteration\",loss.item())\n",
    "        \n",
    "    if t%100==99:\n",
    "        print(t,(loss.item()-prev_loss)*100)\n",
    "    #zero the gradients before running the backward pass\n",
    "    optimizer.zero_grad()\n",
    "    #backward pass\n",
    "    loss.backward()\n",
    "    #update the parameters\n",
    "    optimizer.step()\n",
    "    prev_loss=loss.item()\n",
    "    "
   ]
  },
  {
   "cell_type": "code",
   "execution_count": 26,
   "metadata": {},
   "outputs": [
    {
     "data": {
      "text/plain": [
       "[Parameter containing:\n",
       " tensor([0.3367], requires_grad=True),\n",
       " Parameter containing:\n",
       " tensor([0.1288], requires_grad=True)]"
      ]
     },
     "execution_count": 26,
     "metadata": {},
     "output_type": "execute_result"
    }
   ],
   "source": [
    "list(model.parameters())"
   ]
  }
 ],
 "metadata": {
  "kernelspec": {
   "display_name": "torch_env",
   "language": "python",
   "name": "python3"
  },
  "language_info": {
   "codemirror_mode": {
    "name": "ipython",
    "version": 3
   },
   "file_extension": ".py",
   "mimetype": "text/x-python",
   "name": "python",
   "nbconvert_exporter": "python",
   "pygments_lexer": "ipython3",
   "version": "3.10.9"
  },
  "orig_nbformat": 4
 },
 "nbformat": 4,
 "nbformat_minor": 2
}
