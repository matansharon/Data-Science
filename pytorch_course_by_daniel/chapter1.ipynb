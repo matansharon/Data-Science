{
 "cells": [
  {
   "cell_type": "markdown",
   "metadata": {},
   "source": [
    "<h5 ><b><italic></italic>machine learning is turning thigs(data) into numbers, and finding patterns in those numbers</h5>"
   ]
  },
  {
   "cell_type": "code",
   "execution_count": 18,
   "metadata": {},
   "outputs": [
    {
     "name": "stdout",
     "output_type": "stream",
     "text": [
      "2.0.1\n",
      "False\n"
     ]
    }
   ],
   "source": [
    "import torch\n",
    "import math\n",
    "import numpy as np\n",
    "import pandas \n",
    "import matplotlib.pyplot as plt\n",
    "print(torch.__version__)\n",
    "print(torch.cuda.is_available())\n",
    "def num_of_elements(t):\n",
    "    if type(t)!=torch.Tensor:\n",
    "        print(f\"not a tensor. see the type {type(t)}\")\n",
    "        return\n",
    "    return len(torch.flatten(t))"
   ]
  },
  {
   "cell_type": "code",
   "execution_count": 19,
   "metadata": {},
   "outputs": [
    {
     "name": "stdout",
     "output_type": "stream",
     "text": [
      "tensor([[1, 2],\n",
      "        [2, 3]])\n",
      "2\n",
      "<built-in method item of Tensor object at 0x17f1536a0>\n"
     ]
    }
   ],
   "source": [
    "scaler=torch.tensor([[1,2],[2,3]])\n",
    "print(scaler)\n",
    "print(scaler.ndim)\n",
    "print(scaler.item)\n"
   ]
  },
  {
   "cell_type": "code",
   "execution_count": 20,
   "metadata": {},
   "outputs": [
    {
     "data": {
      "text/plain": [
       "tensor([[[1, 2],\n",
       "         [2, 1]]])"
      ]
     },
     "execution_count": 20,
     "metadata": {},
     "output_type": "execute_result"
    }
   ],
   "source": [
    "vector=torch.tensor([[[1,2],[2,1]]])\n",
    "vector"
   ]
  },
  {
   "cell_type": "code",
   "execution_count": null,
   "metadata": {},
   "outputs": [],
   "source": []
  },
  {
   "cell_type": "code",
   "execution_count": 21,
   "metadata": {},
   "outputs": [
    {
     "data": {
      "text/plain": [
       "tensor([[24., 60., 19.],\n",
       "        [72., 35.,  9.]])"
      ]
     },
     "execution_count": 21,
     "metadata": {},
     "output_type": "execute_result"
    }
   ],
   "source": [
    "def rand_arr(rows,cols):\n",
    "    res=[]\n",
    "    if rows:\n",
    "        for i in range(rows):\n",
    "            temp=[]\n",
    "            for j in range(cols):\n",
    "                temp.append(np.random.randint(0,100))\n",
    "            res.append(temp)\n",
    "        return res\n",
    "t=rand_arr(2,3)\n",
    "t1=torch.Tensor(t)\n",
    "t1"
   ]
  },
  {
   "cell_type": "code",
   "execution_count": 22,
   "metadata": {},
   "outputs": [
    {
     "data": {
      "text/plain": [
       "tensor([[[0.4280, 0.5172, 0.3999],\n",
       "         [0.6190, 0.4591, 0.7215],\n",
       "         [0.4798, 0.0522, 0.3829],\n",
       "         ...,\n",
       "         [0.0890, 0.6036, 0.3313],\n",
       "         [0.7193, 0.2600, 0.6857],\n",
       "         [0.2104, 0.9821, 0.2519]],\n",
       "\n",
       "        [[0.5268, 0.4899, 0.4493],\n",
       "         [0.8221, 0.5755, 0.1139],\n",
       "         [0.5598, 0.7955, 0.7806],\n",
       "         ...,\n",
       "         [0.3046, 0.8472, 0.6431],\n",
       "         [0.5935, 0.1386, 0.4226],\n",
       "         [0.7884, 0.4996, 0.6049]],\n",
       "\n",
       "        [[0.1228, 0.9128, 0.1091],\n",
       "         [0.1957, 0.9297, 0.0655],\n",
       "         [0.5345, 0.0035, 0.4794],\n",
       "         ...,\n",
       "         [0.8819, 0.6486, 0.0096],\n",
       "         [0.7419, 0.0014, 0.2439],\n",
       "         [0.8069, 0.1204, 0.6884]],\n",
       "\n",
       "        ...,\n",
       "\n",
       "        [[0.0868, 0.0709, 0.9433],\n",
       "         [0.0403, 0.4429, 0.1102],\n",
       "         [0.2234, 0.9296, 0.3387],\n",
       "         ...,\n",
       "         [0.7883, 0.4558, 0.9331],\n",
       "         [0.9458, 0.0394, 0.1119],\n",
       "         [0.7142, 0.6248, 0.3035]],\n",
       "\n",
       "        [[0.6099, 0.9344, 0.6423],\n",
       "         [0.7486, 0.7657, 0.0214],\n",
       "         [0.4799, 0.9083, 0.2823],\n",
       "         ...,\n",
       "         [0.4969, 0.9436, 0.8301],\n",
       "         [0.7156, 0.1796, 0.0692],\n",
       "         [0.4800, 0.6650, 0.3523]],\n",
       "\n",
       "        [[0.8501, 0.4806, 0.8629],\n",
       "         [0.0117, 0.7477, 0.4873],\n",
       "         [0.6925, 0.9311, 0.2580],\n",
       "         ...,\n",
       "         [0.6572, 0.9464, 0.8821],\n",
       "         [0.1175, 0.5690, 0.4227],\n",
       "         [0.8080, 0.9373, 0.6038]]])"
      ]
     },
     "execution_count": 22,
     "metadata": {},
     "output_type": "execute_result"
    }
   ],
   "source": [
    "#pytorch way\n",
    "t=torch.rand((3,3,3))\n",
    "#create a tensor with random values of integers\n",
    "t1=torch.randint(0,10,(3,3,3))\n",
    "t1\n",
    "img_temp=torch.rand((1080,1080,3))\n",
    "img_temp"
   ]
  },
  {
   "cell_type": "code",
   "execution_count": 23,
   "metadata": {},
   "outputs": [
    {
     "name": "stdout",
     "output_type": "stream",
     "text": [
      "tensor([[0., 0., 0.],\n",
      "        [0., 0., 0.]])\n",
      "tensor([[1., 1., 1.],\n",
      "        [1., 1., 1.]])\n"
     ]
    }
   ],
   "source": [
    "z=torch.zeros(2,3)\n",
    "print(z)\n",
    "o=torch.ones(2,3)\n",
    "print(o)"
   ]
  },
  {
   "cell_type": "code",
   "execution_count": 24,
   "metadata": {},
   "outputs": [
    {
     "data": {
      "text/plain": [
       "tensor([ 1., 23.,  9.])"
      ]
     },
     "execution_count": 24,
     "metadata": {},
     "output_type": "execute_result"
    }
   ],
   "source": [
    "#allow to use like this\n",
    "torch.tensor([1,int('23'),9.0], dtype=torch.float32, device='cpu', requires_grad=False)\n",
    "# and not like this\n",
    "# torch.tensor([1,'23',9.0])"
   ]
  },
  {
   "cell_type": "code",
   "execution_count": 25,
   "metadata": {},
   "outputs": [
    {
     "name": "stdout",
     "output_type": "stream",
     "text": [
      "tensor([[0.0677, 0.8132],\n",
      "        [0.2942, 0.9856],\n",
      "        [0.5541, 0.8044]]) \n",
      " torch.float32\n",
      "----------------------------------------------------------------------------------------------------\n",
      "tensor([[0.4453, 0.2632],\n",
      "        [0.0996, 0.4326],\n",
      "        [0.1191, 0.2910]], dtype=torch.float16) \n",
      " torch.float16\n",
      "----------------------------------------------------------------------------------------------------\n",
      "tensor([[0.0301, 0.2140],\n",
      "        [0.0293, 0.4264],\n",
      "        [0.0660, 0.2341]]) \n",
      " torch.float32\n",
      "----------------------------------------------------------------------------------------------------\n",
      "tensor([[7, 6],\n",
      "        [4, 5],\n",
      "        [4, 8]]) \n",
      " torch.int64\n"
     ]
    }
   ],
   "source": [
    "tensor32=torch.rand(3, 2,dtype=torch.float32)\n",
    "print(tensor32,'\\n',tensor32.dtype)\n",
    "print('-'*100)\n",
    "tensor16=torch.rand(3,2,dtype=torch.float16)\n",
    "print(tensor16,'\\n',tensor16.dtype)\n",
    "print('-'*100)\n",
    "mul_tensor=tensor32*tensor16\n",
    "print(mul_tensor,'\\n',mul_tensor.dtype)\n",
    "print('-'*100)\n",
    "int_tensor=torch.randint(0,10,(3,2))\n",
    "print(int_tensor,'\\n',int_tensor.dtype)"
   ]
  },
  {
   "cell_type": "code",
   "execution_count": 26,
   "metadata": {},
   "outputs": [
    {
     "name": "stdout",
     "output_type": "stream",
     "text": [
      "tensor([[3, 8, 5],\n",
      "        [4, 6, 2],\n",
      "        [3, 3, 7]])\n",
      "tensor([[ 9, 64, 25],\n",
      "        [16, 36,  4],\n",
      "        [ 9,  9, 49]])\n",
      "tensor([[3, 8, 5],\n",
      "        [4, 6, 2],\n",
      "        [3, 3, 7]])\n",
      "tensor([[65.1182, 70.3372, 90.6279],\n",
      "        [17.5383, 77.9241,  3.7910]])\n",
      "[[65 70 90]\n",
      " [17 77  3]]\n"
     ]
    }
   ],
   "source": [
    "\n",
    "print(t1[0])\n",
    "print(t1[0]*t1[0])\n",
    "print(t1[0])\n",
    "t3=torch.rand(2,3)*100\n",
    "print(t3)\n",
    "print(np.int8(t3))"
   ]
  },
  {
   "cell_type": "code",
   "execution_count": 27,
   "metadata": {},
   "outputs": [
    {
     "name": "stdout",
     "output_type": "stream",
     "text": [
      "106110600\n"
     ]
    }
   ],
   "source": [
    "a=100\n",
    "b=a+1\n",
    "c=b+1\n",
    "d=c+1\n",
    "t4=torch.rand(a,b,c,d)*100\n",
    "print(len(t4.flatten()))\n",
    "for i in range(1000):\n",
    "    t5=t4*t4\n",
    "#it took 27.7 sec to do 1000 like this\n"
   ]
  },
  {
   "cell_type": "code",
   "execution_count": null,
   "metadata": {},
   "outputs": [],
   "source": [
    "for i in range(1000):\n",
    "    t5=torch.mul(t4,t4)"
   ]
  },
  {
   "cell_type": "markdown",
   "metadata": {},
   "source": [
    "1. it took 27.7 sec to do 1000 like this :t4*t4\n",
    "2. it took 26.9 sec to do 100 like torch.mul(t4,t4)\n",
    "3. conclusion : not  very big imporovment "
   ]
  },
  {
   "cell_type": "code",
   "execution_count": null,
   "metadata": {},
   "outputs": [],
   "source": []
  },
  {
   "cell_type": "code",
   "execution_count": null,
   "metadata": {},
   "outputs": [
    {
     "name": "stdout",
     "output_type": "stream",
     "text": [
      "tensor([1, 2, 3, 4, 5, 6, 7, 8, 9])\n",
      "tensor([10, 11, 12, 13, 14, 15, 16, 17, 18])\n",
      "tensor([ 10,  22,  36,  52,  70,  90, 112, 136, 162])\n",
      "tensor([[ 10,  22,  36],\n",
      "        [ 52,  70,  90],\n",
      "        [112, 136, 162]])\n"
     ]
    }
   ],
   "source": [
    "a1=np.arange(1,10)\n",
    "a2=np.arange(10,19)\n",
    "t6=torch.tensor(a1)\n",
    "t7=torch.tensor(a2)\n",
    "t8=(torch.mul(t6,t7))\n",
    "print(f\"{t6}\\n{t7}\\n{t8}\")\n",
    "t9=t8.reshape(3,3)\n",
    "print(t9)\n"
   ]
  },
  {
   "cell_type": "code",
   "execution_count": null,
   "metadata": {},
   "outputs": [
    {
     "name": "stdout",
     "output_type": "stream",
     "text": [
      "200\n",
      "tensor([[[0.2731, 0.1552, 0.9708, 0.3784, 0.7722, 0.8403, 0.6993, 0.3197,\n",
      "          0.6122, 0.7681, 0.7625, 0.0897, 0.5007, 0.2010, 0.1627, 0.3813,\n",
      "          0.2623, 0.4774, 0.1252, 0.6627, 0.0555, 0.7289, 0.9863, 0.5747,\n",
      "          0.9447],\n",
      "         [0.0197, 0.7339, 0.6145, 0.3780, 0.4481, 0.4388, 0.2121, 0.7787,\n",
      "          0.1411, 0.0581, 0.8863, 0.6576, 0.2577, 0.0190, 0.4783, 0.0755,\n",
      "          0.1534, 0.7465, 0.7229, 0.0794, 0.6526, 0.3090, 0.6705, 0.1885,\n",
      "          0.8103],\n",
      "         [0.0881, 0.5724, 0.3858, 0.0982, 0.2042, 0.2213, 0.1609, 0.8410,\n",
      "          0.0995, 0.8031, 0.9674, 0.5416, 0.8463, 0.0411, 0.2862, 0.8664,\n",
      "          0.6257, 0.8469, 0.5920, 0.0088, 0.5086, 0.7501, 0.4508, 0.1866,\n",
      "          0.7967],\n",
      "         [0.3699, 0.2938, 0.6768, 0.3866, 0.1787, 0.7525, 0.8024, 0.8731,\n",
      "          0.7379, 0.8673, 0.6453, 0.6464, 0.1762, 0.5786, 0.6548, 0.1692,\n",
      "          0.4482, 0.3758, 0.3279, 0.7518, 0.8812, 0.8454, 0.9795, 0.3197,\n",
      "          0.3753]],\n",
      "\n",
      "        [[0.2539, 0.8350, 0.7258, 0.2105, 0.9079, 0.8956, 0.1749, 0.4847,\n",
      "          0.8229, 0.1239, 0.6594, 0.2850, 0.4348, 0.2712, 0.0045, 0.4281,\n",
      "          0.5566, 0.4095, 0.5689, 0.0837, 0.0319, 0.1887, 0.8885, 0.1795,\n",
      "          0.2976],\n",
      "         [0.3732, 0.5222, 0.0486, 0.8282, 0.4452, 0.6460, 0.1168, 0.6714,\n",
      "          0.0434, 0.4123, 0.3185, 0.0078, 0.8849, 0.1728, 0.4129, 0.8127,\n",
      "          0.0742, 0.7508, 0.2530, 0.7574, 0.2936, 0.3012, 0.4068, 0.2988,\n",
      "          0.3911],\n",
      "         [0.6385, 0.5975, 0.1302, 0.0925, 0.8063, 0.9706, 0.1178, 0.5351,\n",
      "          0.6429, 0.3678, 0.9436, 0.0506, 0.7351, 0.0656, 0.0141, 0.5236,\n",
      "          0.6215, 0.3134, 0.8664, 0.3837, 0.0284, 0.2791, 0.6235, 0.1900,\n",
      "          0.8645],\n",
      "         [0.4631, 0.4843, 0.1500, 0.5928, 0.4229, 0.7827, 0.6655, 0.1032,\n",
      "          0.4519, 0.7720, 0.0604, 0.1831, 0.5856, 0.4806, 0.9055, 0.2280,\n",
      "          0.0871, 0.2356, 0.1913, 0.3724, 0.2524, 0.4154, 0.2144, 0.0805,\n",
      "          0.9609]]])\n"
     ]
    }
   ],
   "source": [
    "\n",
    "\n",
    "t10=torch.rand(1,8,25)\n",
    "print(num_of_elements(t10))\n",
    "t11=torch.rand(2,4,25)\n",
    "t12=t10.reshape_as(t11)\n",
    "print(t12)\n"
   ]
  },
  {
   "cell_type": "code",
   "execution_count": null,
   "metadata": {},
   "outputs": [],
   "source": [
    "\n",
    "a=100\n",
    "b=a*10\n",
    "c=b*10\n",
    "d=c*10\n",
    "t13=torch.rand(c,d)\n",
    "t14=torch.rand(d,c)\n",
    "t15=torch.matmul(t13,t14)"
   ]
  },
  {
   "cell_type": "markdown",
   "metadata": {},
   "source": [
    "/var/folders/hh/bn85jql94k9dkgccvt0vbxf40000gn/T/ipykernel_2846/4259908433.py:2: UserWarning: To copy construct from a tensor, it is recommended to use sourceTensor.clone().detach() or sourceTensor.clone().detach().requires_grad_(True), rather than torch.tensor(sourceTensor).\n"
   ]
  },
  {
   "cell_type": "code",
   "execution_count": null,
   "metadata": {},
   "outputs": [
    {
     "name": "stderr",
     "output_type": "stream",
     "text": [
      "/var/folders/hh/bn85jql94k9dkgccvt0vbxf40000gn/T/ipykernel_10327/4259908433.py:2: UserWarning: To copy construct from a tensor, it is recommended to use sourceTensor.clone().detach() or sourceTensor.clone().detach().requires_grad_(True), rather than torch.tensor(sourceTensor).\n",
      "  t16=torch.tensor(t15,dtype=torch.int32)\n"
     ]
    }
   ],
   "source": [
    "# t16=t15.clone.detach()\n",
    "t16=torch.tensor(t15,dtype=torch.int32)"
   ]
  },
  {
   "cell_type": "code",
   "execution_count": null,
   "metadata": {},
   "outputs": [],
   "source": [
    "np1=np.random.randint(1,10,30)\n",
    "t17=torch.tensor(np1)\n",
    "t17=t17.reshape([2,3,5])\n",
    "# print(t17)\n",
    "# print(t17.T)\n",
    "# print(torch.mm(t17,t17.T))\n"
   ]
  },
  {
   "cell_type": "code",
   "execution_count": null,
   "metadata": {},
   "outputs": [
    {
     "name": "stdout",
     "output_type": "stream",
     "text": [
      "tensor([[[58,  4, 24, 23],\n",
      "         [78, 18, 79, 33],\n",
      "         [39, 35,  9, 33]],\n",
      "\n",
      "        [[52, 20, 58, 76],\n",
      "         [86, 87,  8,  5],\n",
      "         [94, 49, 69, 59]]])\n",
      " min: 4\n",
      " max: 94\n",
      " mean: 45.65625\n",
      " meadian: 39\n"
     ]
    }
   ],
   "source": [
    "#aggregtion\n",
    "#1.min\n",
    "t18=torch.randint(1,100,(2,3,4))\n",
    "print(t18)\n",
    "print(f\" min: {t18.min()}\\n max: {t18.max()}\\n mean: {t18.mean(dtype=torch.float16)}\\n meadian: {t18.median()}\")"
   ]
  }
 ],
 "metadata": {
  "kernelspec": {
   "display_name": "torch_env",
   "language": "python",
   "name": "python3"
  },
  "language_info": {
   "codemirror_mode": {
    "name": "ipython",
    "version": 3
   },
   "file_extension": ".py",
   "mimetype": "text/x-python",
   "name": "python",
   "nbconvert_exporter": "python",
   "pygments_lexer": "ipython3",
   "version": "3.10.12"
  },
  "orig_nbformat": 4
 },
 "nbformat": 4,
 "nbformat_minor": 2
}
