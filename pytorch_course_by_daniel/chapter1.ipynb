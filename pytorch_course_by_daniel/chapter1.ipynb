{
 "cells": [
  {
   "cell_type": "markdown",
   "metadata": {},
   "source": [
    "<h5 ><b><italic></italic>machine learning is turning thigs(data) into numbers, and finding patterns in those numbers</h5>"
   ]
  },
  {
   "cell_type": "code",
   "execution_count": 2,
   "metadata": {},
   "outputs": [
    {
     "name": "stdout",
     "output_type": "stream",
     "text": [
      "2.0.1\n",
      "False\n"
     ]
    }
   ],
   "source": [
    "import torch\n",
    "import numpy as np\n",
    "import pandas \n",
    "import matplotlib.pyplot as plt\n",
    "print(torch.__version__)\n",
    "print(torch.cuda.is_available())"
   ]
  },
  {
   "cell_type": "code",
   "execution_count": 11,
   "metadata": {},
   "outputs": [
    {
     "name": "stdout",
     "output_type": "stream",
     "text": [
      "tensor([[1, 2],\n",
      "        [2, 3]])\n",
      "2\n",
      "<built-in method item of Tensor object at 0x15f5a9b20>\n"
     ]
    }
   ],
   "source": [
    "scaler=torch.tensor([[1,2],[2,3]])\n",
    "print(scaler)\n",
    "print(scaler.ndim)\n",
    "print(scaler.item)\n"
   ]
  },
  {
   "cell_type": "code",
   "execution_count": 17,
   "metadata": {},
   "outputs": [
    {
     "data": {
      "text/plain": [
       "tensor([[[1, 2],\n",
       "         [2, 1]]])"
      ]
     },
     "execution_count": 17,
     "metadata": {},
     "output_type": "execute_result"
    }
   ],
   "source": [
    "vector=torch.tensor([[[1,2],[2,1]]])\n",
    "vector"
   ]
  },
  {
   "cell_type": "code",
   "execution_count": 41,
   "metadata": {},
   "outputs": [
    {
     "name": "stderr",
     "output_type": "stream",
     "text": [
      "/var/folders/hh/bn85jql94k9dkgccvt0vbxf40000gn/T/ipykernel_72896/3626280825.py:1: DeprecationWarning: This function is deprecated. Please call randint(0, 10 + 1) instead\n",
      "  a=np.random.random_integers(0,10)\n"
     ]
    },
    {
     "data": {
      "text/plain": [
       "1"
      ]
     },
     "execution_count": 41,
     "metadata": {},
     "output_type": "execute_result"
    }
   ],
   "source": []
  },
  {
   "cell_type": "code",
   "execution_count": 69,
   "metadata": {},
   "outputs": [
    {
     "data": {
      "text/plain": [
       "tensor([[25., 45., 87.],\n",
       "        [98., 52.,  8.]])"
      ]
     },
     "execution_count": 69,
     "metadata": {},
     "output_type": "execute_result"
    }
   ],
   "source": [
    "def rand_arr(rows,cols):\n",
    "    res=[]\n",
    "    if rows:\n",
    "        for i in range(rows):\n",
    "            temp=[]\n",
    "            for j in range(cols):\n",
    "                temp.append(np.random.randint(0,100))\n",
    "            res.append(temp)\n",
    "        return res\n",
    "t=rand_arr(2,3)\n",
    "t1=torch.Tensor(t)\n",
    "t1"
   ]
  },
  {
   "cell_type": "code",
   "execution_count": 93,
   "metadata": {},
   "outputs": [
    {
     "data": {
      "text/plain": [
       "tensor([[[0.1170, 0.8753, 0.6305],\n",
       "         [0.0492, 0.7569, 0.2246],\n",
       "         [0.3549, 0.4659, 0.7536],\n",
       "         ...,\n",
       "         [0.2515, 0.0075, 0.8882],\n",
       "         [0.4874, 0.9744, 0.3138],\n",
       "         [0.2258, 0.2559, 0.2712]],\n",
       "\n",
       "        [[0.7680, 0.4395, 0.2753],\n",
       "         [0.6174, 0.6327, 0.0859],\n",
       "         [0.6787, 0.9035, 0.5848],\n",
       "         ...,\n",
       "         [0.0239, 0.4203, 0.0404],\n",
       "         [0.4959, 0.6505, 0.0092],\n",
       "         [0.0062, 0.7776, 0.7717]],\n",
       "\n",
       "        [[0.2305, 0.2556, 0.3916],\n",
       "         [0.9741, 0.9292, 0.0335],\n",
       "         [0.1336, 0.1359, 0.1259],\n",
       "         ...,\n",
       "         [0.8121, 0.7337, 0.0246],\n",
       "         [0.3956, 0.9096, 0.7628],\n",
       "         [0.0982, 0.0058, 0.1031]],\n",
       "\n",
       "        ...,\n",
       "\n",
       "        [[0.6777, 0.0340, 0.2653],\n",
       "         [0.7490, 0.8149, 0.9989],\n",
       "         [0.9103, 0.3248, 0.3821],\n",
       "         ...,\n",
       "         [0.9958, 0.1034, 0.9198],\n",
       "         [0.0650, 0.3282, 0.2778],\n",
       "         [0.8871, 0.2215, 0.9054]],\n",
       "\n",
       "        [[0.0465, 0.8799, 0.1541],\n",
       "         [0.5313, 0.9580, 0.2733],\n",
       "         [0.5507, 0.6306, 0.7955],\n",
       "         ...,\n",
       "         [0.1989, 0.2849, 0.3588],\n",
       "         [0.4767, 0.1383, 0.4481],\n",
       "         [0.7693, 0.7293, 0.6142]],\n",
       "\n",
       "        [[0.6076, 0.0174, 0.1487],\n",
       "         [0.6057, 0.1654, 0.7962],\n",
       "         [0.7547, 0.2125, 0.7532],\n",
       "         ...,\n",
       "         [0.4501, 0.0236, 0.5018],\n",
       "         [0.8797, 0.4928, 0.4059],\n",
       "         [0.5882, 0.3675, 0.5650]]])"
      ]
     },
     "execution_count": 93,
     "metadata": {},
     "output_type": "execute_result"
    }
   ],
   "source": [
    "#pytorch way\n",
    "t=torch.rand((3,3,3))\n",
    "#create a tensor with random values of integers\n",
    "t1=torch.randint(0,10,(3,3,3))\n",
    "t1\n",
    "img_temp=torch.rand((1080,1080,3))\n",
    "img_temp"
   ]
  },
  {
   "cell_type": "code",
   "execution_count": 94,
   "metadata": {},
   "outputs": [
    {
     "name": "stdout",
     "output_type": "stream",
     "text": [
      "tensor([[0., 0., 0.],\n",
      "        [0., 0., 0.]])\n",
      "tensor([[1., 1., 1.],\n",
      "        [1., 1., 1.]])\n"
     ]
    }
   ],
   "source": [
    "z=torch.zeros(2,3)\n",
    "print(z)\n",
    "o=torch.ones(2,3)\n",
    "print(o)"
   ]
  },
  {
   "cell_type": "code",
   "execution_count": 96,
   "metadata": {},
   "outputs": [
    {
     "data": {
      "text/plain": [
       "tensor([ 1., 23.,  9.])"
      ]
     },
     "execution_count": 96,
     "metadata": {},
     "output_type": "execute_result"
    }
   ],
   "source": [
    "#allow to use like this\n",
    "torch.tensor([1,int('23'),9.0], dtype=torch.float32, device='cpu', requires_grad=False)\n",
    "# and not like this\n",
    "# torch.tensor([1,'23',9.0])"
   ]
  },
  {
   "cell_type": "code",
   "execution_count": 22,
   "metadata": {},
   "outputs": [
    {
     "name": "stdout",
     "output_type": "stream",
     "text": [
      "tensor([[0.8985, 0.0644],\n",
      "        [0.2164, 0.1901],\n",
      "        [0.9161, 0.5406]]) \n",
      " torch.float32\n",
      "----------------------------------------------------------------------------------------------------\n",
      "tensor([[0.3271, 0.4668],\n",
      "        [0.4414, 0.2588],\n",
      "        [0.5215, 0.9355]], dtype=torch.float16) \n",
      " torch.float16\n",
      "----------------------------------------------------------------------------------------------------\n",
      "tensor([[0.2939, 0.0300],\n",
      "        [0.0955, 0.0492],\n",
      "        [0.4777, 0.5057]]) \n",
      " torch.float32\n",
      "----------------------------------------------------------------------------------------------------\n",
      "tensor([[7, 1],\n",
      "        [8, 3],\n",
      "        [7, 6]]) \n",
      " torch.int64\n"
     ]
    }
   ],
   "source": [
    "tensor32=torch.rand(3, 2,dtype=torch.float32)\n",
    "print(tensor32,'\\n',tensor32.dtype)\n",
    "print('-'*100)\n",
    "tensor16=torch.rand(3,2,dtype=torch.float16)\n",
    "print(tensor16,'\\n',tensor16.dtype)\n",
    "print('-'*100)\n",
    "mul_tensor=tensor32*tensor16\n",
    "print(mul_tensor,'\\n',mul_tensor.dtype)\n",
    "print('-'*100)\n",
    "int_tensor=torch.randint(0,10,(3,2))\n",
    "print(int_tensor,'\\n',int_tensor.dtype)"
   ]
  }
 ],
 "metadata": {
  "kernelspec": {
   "display_name": "torch_env",
   "language": "python",
   "name": "python3"
  },
  "language_info": {
   "codemirror_mode": {
    "name": "ipython",
    "version": 3
   },
   "file_extension": ".py",
   "mimetype": "text/x-python",
   "name": "python",
   "nbconvert_exporter": "python",
   "pygments_lexer": "ipython3",
   "version": "3.10.12"
  },
  "orig_nbformat": 4
 },
 "nbformat": 4,
 "nbformat_minor": 2
}
