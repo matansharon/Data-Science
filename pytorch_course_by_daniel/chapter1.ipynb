{
 "cells": [
  {
   "cell_type": "markdown",
   "metadata": {},
   "source": [
    "<h5 ><b><italic></italic>machine learning is turning thigs(data) into numbers, and finding patterns in those numbers</h5>"
   ]
  },
  {
   "cell_type": "code",
   "execution_count": 1,
   "metadata": {},
   "outputs": [
    {
     "name": "stdout",
     "output_type": "stream",
     "text": [
      "2.0.1\n",
      "False\n"
     ]
    }
   ],
   "source": [
    "import torch\n",
    "import math\n",
    "import numpy as np\n",
    "import pandas \n",
    "import matplotlib.pyplot as plt\n",
    "print(torch.__version__)\n",
    "print(torch.cuda.is_available())\n",
    "def num_of_elements(t):\n",
    "    if type(t)!=torch.Tensor:\n",
    "        print(f\"not a tensor. see the type {type(t)}\")\n",
    "        return\n",
    "    return len(torch.flatten(t))"
   ]
  },
  {
   "cell_type": "code",
   "execution_count": 67,
   "metadata": {},
   "outputs": [
    {
     "name": "stdout",
     "output_type": "stream",
     "text": [
      "tensor([[1, 2],\n",
      "        [2, 3]])\n",
      "2\n",
      "<built-in method item of Tensor object at 0x14e8ed3a0>\n"
     ]
    }
   ],
   "source": [
    "scaler=torch.tensor([[1,2],[2,3]])\n",
    "print(scaler)\n",
    "print(scaler.ndim)\n",
    "print(scaler.item)\n"
   ]
  },
  {
   "cell_type": "code",
   "execution_count": 68,
   "metadata": {},
   "outputs": [
    {
     "data": {
      "text/plain": [
       "tensor([[[1, 2],\n",
       "         [2, 1]]])"
      ]
     },
     "execution_count": 68,
     "metadata": {},
     "output_type": "execute_result"
    }
   ],
   "source": [
    "vector=torch.tensor([[[1,2],[2,1]]])\n",
    "vector"
   ]
  },
  {
   "cell_type": "code",
   "execution_count": null,
   "metadata": {},
   "outputs": [],
   "source": []
  },
  {
   "cell_type": "code",
   "execution_count": 69,
   "metadata": {},
   "outputs": [
    {
     "data": {
      "text/plain": [
       "tensor([[76., 90., 82.],\n",
       "        [68.,  6., 38.]])"
      ]
     },
     "execution_count": 69,
     "metadata": {},
     "output_type": "execute_result"
    }
   ],
   "source": [
    "def rand_arr(rows,cols):\n",
    "    res=[]\n",
    "    if rows:\n",
    "        for i in range(rows):\n",
    "            temp=[]\n",
    "            for j in range(cols):\n",
    "                temp.append(np.random.randint(0,100))\n",
    "            res.append(temp)\n",
    "        return res\n",
    "t=rand_arr(2,3)\n",
    "t1=torch.Tensor(t)\n",
    "t1"
   ]
  },
  {
   "cell_type": "code",
   "execution_count": 70,
   "metadata": {},
   "outputs": [
    {
     "data": {
      "text/plain": [
       "tensor([[[0.9077, 0.1045, 0.7447],\n",
       "         [0.4996, 0.6791, 0.6251],\n",
       "         [0.1415, 0.1732, 0.5672],\n",
       "         ...,\n",
       "         [0.4698, 0.0271, 0.8386],\n",
       "         [0.1441, 0.0920, 0.3441],\n",
       "         [0.9565, 0.9096, 0.5314]],\n",
       "\n",
       "        [[0.2350, 0.2594, 0.5297],\n",
       "         [0.0427, 0.0309, 0.9759],\n",
       "         [0.6257, 0.2764, 0.8041],\n",
       "         ...,\n",
       "         [0.5606, 0.3108, 0.6786],\n",
       "         [0.5371, 0.5606, 0.1689],\n",
       "         [0.1597, 0.0837, 0.6576]],\n",
       "\n",
       "        [[0.2442, 0.8374, 0.5586],\n",
       "         [0.9787, 0.9377, 0.3923],\n",
       "         [0.1707, 0.6913, 0.8506],\n",
       "         ...,\n",
       "         [0.4960, 0.8099, 0.4155],\n",
       "         [0.0717, 0.2750, 0.3707],\n",
       "         [0.6053, 0.3082, 0.5786]],\n",
       "\n",
       "        ...,\n",
       "\n",
       "        [[0.4245, 0.8448, 0.3641],\n",
       "         [0.9982, 0.0517, 0.8296],\n",
       "         [0.7257, 0.5624, 0.6672],\n",
       "         ...,\n",
       "         [0.8256, 0.4279, 0.0276],\n",
       "         [0.3938, 0.4910, 0.6703],\n",
       "         [0.9248, 0.7888, 0.8625]],\n",
       "\n",
       "        [[0.2737, 0.6866, 0.1737],\n",
       "         [0.3654, 0.2587, 0.1059],\n",
       "         [0.1483, 0.6717, 0.8372],\n",
       "         ...,\n",
       "         [0.9115, 0.4448, 0.2498],\n",
       "         [0.0687, 0.1652, 0.3853],\n",
       "         [0.4306, 0.7119, 0.0084]],\n",
       "\n",
       "        [[0.9292, 0.0642, 0.4515],\n",
       "         [0.6448, 0.1833, 0.2976],\n",
       "         [0.0925, 0.2591, 0.8130],\n",
       "         ...,\n",
       "         [0.4856, 0.8796, 0.2261],\n",
       "         [0.5901, 0.1379, 0.7155],\n",
       "         [0.6844, 0.5409, 0.0826]]])"
      ]
     },
     "execution_count": 70,
     "metadata": {},
     "output_type": "execute_result"
    }
   ],
   "source": [
    "#pytorch way\n",
    "t=torch.rand((3,3,3))\n",
    "#create a tensor with random values of integers\n",
    "t1=torch.randint(0,10,(3,3,3))\n",
    "t1\n",
    "img_temp=torch.rand((1080,1080,3))\n",
    "img_temp"
   ]
  },
  {
   "cell_type": "code",
   "execution_count": 71,
   "metadata": {},
   "outputs": [
    {
     "name": "stdout",
     "output_type": "stream",
     "text": [
      "tensor([[0., 0., 0.],\n",
      "        [0., 0., 0.]])\n",
      "tensor([[1., 1., 1.],\n",
      "        [1., 1., 1.]])\n"
     ]
    }
   ],
   "source": [
    "z=torch.zeros(2,3)\n",
    "print(z)\n",
    "o=torch.ones(2,3)\n",
    "print(o)"
   ]
  },
  {
   "cell_type": "code",
   "execution_count": 72,
   "metadata": {},
   "outputs": [
    {
     "data": {
      "text/plain": [
       "tensor([ 1., 23.,  9.])"
      ]
     },
     "execution_count": 72,
     "metadata": {},
     "output_type": "execute_result"
    }
   ],
   "source": [
    "#allow to use like this\n",
    "torch.tensor([1,int('23'),9.0], dtype=torch.float32, device='cpu', requires_grad=False)\n",
    "# and not like this\n",
    "# torch.tensor([1,'23',9.0])"
   ]
  },
  {
   "cell_type": "code",
   "execution_count": 73,
   "metadata": {},
   "outputs": [
    {
     "name": "stdout",
     "output_type": "stream",
     "text": [
      "tensor([[0.4104, 0.2331],\n",
      "        [0.1790, 0.2572],\n",
      "        [0.2963, 0.6600]]) \n",
      " torch.float32\n",
      "----------------------------------------------------------------------------------------------------\n",
      "tensor([[0.2441, 0.1519],\n",
      "        [0.8423, 0.0928],\n",
      "        [0.9468, 0.0420]], dtype=torch.float16) \n",
      " torch.float16\n",
      "----------------------------------------------------------------------------------------------------\n",
      "tensor([[0.1002, 0.0354],\n",
      "        [0.1507, 0.0239],\n",
      "        [0.2806, 0.0277]]) \n",
      " torch.float32\n",
      "----------------------------------------------------------------------------------------------------\n",
      "tensor([[2, 6],\n",
      "        [2, 5],\n",
      "        [0, 3]]) \n",
      " torch.int64\n"
     ]
    }
   ],
   "source": [
    "tensor32=torch.rand(3, 2,dtype=torch.float32)\n",
    "print(tensor32,'\\n',tensor32.dtype)\n",
    "print('-'*100)\n",
    "tensor16=torch.rand(3,2,dtype=torch.float16)\n",
    "print(tensor16,'\\n',tensor16.dtype)\n",
    "print('-'*100)\n",
    "mul_tensor=tensor32*tensor16\n",
    "print(mul_tensor,'\\n',mul_tensor.dtype)\n",
    "print('-'*100)\n",
    "int_tensor=torch.randint(0,10,(3,2))\n",
    "print(int_tensor,'\\n',int_tensor.dtype)"
   ]
  },
  {
   "cell_type": "code",
   "execution_count": 74,
   "metadata": {},
   "outputs": [
    {
     "name": "stdout",
     "output_type": "stream",
     "text": [
      "tensor([[1, 0, 6],\n",
      "        [3, 1, 3],\n",
      "        [2, 1, 0]])\n",
      "tensor([[ 1,  0, 36],\n",
      "        [ 9,  1,  9],\n",
      "        [ 4,  1,  0]])\n",
      "tensor([[1, 0, 6],\n",
      "        [3, 1, 3],\n",
      "        [2, 1, 0]])\n",
      "tensor([[58.9414, 21.0332, 79.6358],\n",
      "        [11.4276, 12.4200, 60.4879]])\n",
      "[[58 21 79]\n",
      " [11 12 60]]\n"
     ]
    }
   ],
   "source": [
    "\n",
    "print(t1[0])\n",
    "print(t1[0]*t1[0])\n",
    "print(t1[0])\n",
    "t3=torch.rand(2,3)*100\n",
    "print(t3)\n",
    "print(np.int8(t3))"
   ]
  },
  {
   "cell_type": "code",
   "execution_count": 75,
   "metadata": {},
   "outputs": [
    {
     "name": "stdout",
     "output_type": "stream",
     "text": [
      "106110600\n"
     ]
    }
   ],
   "source": [
    "a=100\n",
    "b=a+1\n",
    "c=b+1\n",
    "d=c+1\n",
    "t4=torch.rand(a,b,c,d)*100\n",
    "print(len(t4.flatten()))\n",
    "for i in range(1000):\n",
    "    t5=t4*t4\n",
    "#it took 27.7 sec to do 1000 like this\n"
   ]
  },
  {
   "cell_type": "code",
   "execution_count": 76,
   "metadata": {},
   "outputs": [],
   "source": [
    "for i in range(1000):\n",
    "    t5=torch.mul(t4,t4)"
   ]
  },
  {
   "cell_type": "markdown",
   "metadata": {},
   "source": [
    "1. it took 27.7 sec to do 1000 like this :t4*t4\n",
    "2. it took 26.9 sec to do 100 like torch.mul(t4,t4)\n",
    "3. conclusion : not  very big imporovment "
   ]
  },
  {
   "cell_type": "code",
   "execution_count": null,
   "metadata": {},
   "outputs": [],
   "source": []
  },
  {
   "cell_type": "code",
   "execution_count": 77,
   "metadata": {},
   "outputs": [
    {
     "name": "stdout",
     "output_type": "stream",
     "text": [
      "tensor([1, 2, 3, 4, 5, 6, 7, 8, 9])\n",
      "tensor([10, 11, 12, 13, 14, 15, 16, 17, 18])\n",
      "tensor([ 10,  22,  36,  52,  70,  90, 112, 136, 162])\n",
      "tensor([[ 10,  22,  36],\n",
      "        [ 52,  70,  90],\n",
      "        [112, 136, 162]])\n"
     ]
    }
   ],
   "source": [
    "a1=np.arange(1,10)\n",
    "a2=np.arange(10,19)\n",
    "t6=torch.tensor(a1)\n",
    "t7=torch.tensor(a2)\n",
    "t8=(torch.mul(t6,t7))\n",
    "print(f\"{t6}\\n{t7}\\n{t8}\")\n",
    "t9=t8.reshape(3,3)\n",
    "print(t9)\n"
   ]
  },
  {
   "cell_type": "code",
   "execution_count": 78,
   "metadata": {},
   "outputs": [
    {
     "name": "stdout",
     "output_type": "stream",
     "text": [
      "200\n",
      "tensor([[[0.5632, 0.8233, 0.9791, 0.6955, 0.6665, 0.6708, 0.1815, 0.3568,\n",
      "          0.7814, 0.1015, 0.1477, 0.7449, 0.3426, 0.7536, 0.1002, 0.7145,\n",
      "          0.1630, 0.2066, 0.7470, 0.7690, 0.6106, 0.3493, 0.7537, 0.4251,\n",
      "          0.6285],\n",
      "         [0.6489, 0.8342, 0.9064, 0.1848, 0.9290, 0.3348, 0.5851, 0.0142,\n",
      "          0.5811, 0.4519, 0.5135, 0.8939, 0.0832, 0.1713, 0.6563, 0.4261,\n",
      "          0.9550, 0.9893, 0.0487, 0.8869, 0.6498, 0.4467, 0.6054, 0.7912,\n",
      "          0.4391],\n",
      "         [0.2084, 0.7804, 0.6228, 0.9408, 0.8661, 0.0863, 0.3834, 0.7536,\n",
      "          0.6511, 0.6006, 0.8070, 0.8479, 0.1209, 0.4720, 0.2614, 0.9801,\n",
      "          0.7603, 0.6216, 0.9354, 0.3656, 0.4982, 0.7260, 0.7928, 0.2941,\n",
      "          0.4957],\n",
      "         [0.4767, 0.2943, 0.7721, 0.7916, 0.9087, 0.1430, 0.8541, 0.6890,\n",
      "          0.7539, 0.1084, 0.7381, 0.2748, 0.6152, 0.0021, 0.3165, 0.5573,\n",
      "          0.2174, 0.7489, 0.6759, 0.2777, 0.4595, 0.6410, 0.7300, 0.9881,\n",
      "          0.6119]],\n",
      "\n",
      "        [[0.2898, 0.7279, 0.9226, 0.4664, 0.7244, 0.8677, 0.7325, 0.9684,\n",
      "          0.9990, 0.5649, 0.7934, 0.6745, 0.8488, 0.3765, 0.9600, 0.1836,\n",
      "          0.9166, 0.2789, 0.7056, 0.5272, 0.0211, 0.0568, 0.5712, 0.0263,\n",
      "          0.6673],\n",
      "         [0.4977, 0.9157, 0.7356, 0.4396, 0.4597, 0.0042, 0.5041, 0.3142,\n",
      "          0.8209, 0.4820, 0.0947, 0.5737, 0.9439, 0.9558, 0.9251, 0.2749,\n",
      "          0.4845, 0.0419, 0.3238, 0.9206, 0.1325, 0.2183, 0.7688, 0.7135,\n",
      "          0.1272],\n",
      "         [0.4928, 0.5781, 0.7037, 0.1663, 0.4163, 0.0855, 0.9940, 0.8288,\n",
      "          0.6418, 0.0516, 0.7264, 0.1004, 0.4585, 0.8406, 0.9389, 0.3299,\n",
      "          0.6636, 0.7478, 0.8895, 0.7822, 0.4534, 0.8432, 0.0940, 0.1655,\n",
      "          0.9679],\n",
      "         [0.1055, 0.9304, 0.6551, 0.1363, 0.9300, 0.4709, 0.9861, 0.9872,\n",
      "          0.4672, 0.9798, 0.5689, 0.5626, 0.6146, 0.5945, 0.7145, 0.6727,\n",
      "          0.8265, 0.0034, 0.5730, 0.8006, 0.4877, 0.6615, 0.1158, 0.2513,\n",
      "          0.0293]]])\n"
     ]
    }
   ],
   "source": [
    "\n",
    "\n",
    "t10=torch.rand(1,8,25)\n",
    "print(num_of_elements(t10))\n",
    "t11=torch.rand(2,4,25)\n",
    "t12=t10.reshape_as(t11)\n",
    "print(t12)\n"
   ]
  },
  {
   "cell_type": "code",
   "execution_count": 79,
   "metadata": {},
   "outputs": [
    {
     "ename": "KeyboardInterrupt",
     "evalue": "",
     "output_type": "error",
     "traceback": [
      "\u001b[0;31m---------------------------------------------------------------------------\u001b[0m",
      "\u001b[0;31mKeyboardInterrupt\u001b[0m                         Traceback (most recent call last)",
      "Cell \u001b[0;32mIn[79], line 7\u001b[0m\n\u001b[1;32m      5\u001b[0m t13\u001b[39m=\u001b[39mtorch\u001b[39m.\u001b[39mrand(c,d)\n\u001b[1;32m      6\u001b[0m t14\u001b[39m=\u001b[39mtorch\u001b[39m.\u001b[39mrand(d,c)\n\u001b[0;32m----> 7\u001b[0m t15\u001b[39m=\u001b[39mtorch\u001b[39m.\u001b[39;49mmatmul(t13,t14)\n",
      "\u001b[0;31mKeyboardInterrupt\u001b[0m: "
     ]
    }
   ],
   "source": [
    "\n",
    "a=100\n",
    "b=a*10\n",
    "c=b*10\n",
    "d=c*10\n",
    "t13=torch.rand(c,d)\n",
    "t14=torch.rand(d,c)\n",
    "t15=torch.matmul(t13,t14)"
   ]
  },
  {
   "cell_type": "markdown",
   "metadata": {},
   "source": [
    "/var/folders/hh/bn85jql94k9dkgccvt0vbxf40000gn/T/ipykernel_2846/4259908433.py:2: UserWarning: To copy construct from a tensor, it is recommended to use sourceTensor.clone().detach() or sourceTensor.clone().detach().requires_grad_(True), rather than torch.tensor(sourceTensor).\n"
   ]
  },
  {
   "cell_type": "code",
   "execution_count": null,
   "metadata": {},
   "outputs": [
    {
     "name": "stderr",
     "output_type": "stream",
     "text": [
      "/var/folders/hh/bn85jql94k9dkgccvt0vbxf40000gn/T/ipykernel_2846/4259908433.py:2: UserWarning: To copy construct from a tensor, it is recommended to use sourceTensor.clone().detach() or sourceTensor.clone().detach().requires_grad_(True), rather than torch.tensor(sourceTensor).\n",
      "  t16=torch.tensor(t15,dtype=torch.int32)\n"
     ]
    }
   ],
   "source": [
    "# t16=t15.clone.detach()\n",
    "t16=torch.tensor(t15,dtype=torch.int32)"
   ]
  },
  {
   "cell_type": "code",
   "execution_count": 2,
   "metadata": {},
   "outputs": [
    {
     "name": "stderr",
     "output_type": "stream",
     "text": [
      "/var/folders/hh/bn85jql94k9dkgccvt0vbxf40000gn/T/ipykernel_8289/2745301900.py:6: UserWarning: The use of `x.T` on tensors of dimension other than 2 to reverse their shape is deprecated and it will throw an error in a future release. Consider `x.mT` to transpose batches of matrices or `x.permute(*torch.arange(x.ndim - 1, -1, -1))` to reverse the dimensions of a tensor. (Triggered internally at /Users/runner/work/_temp/anaconda/conda-bld/pytorch_1682343686130/work/aten/src/ATen/native/TensorShape.cpp:3575.)\n",
      "  print(torch.mm(t17,t17.T))\n"
     ]
    },
    {
     "ename": "RuntimeError",
     "evalue": "self must be a matrix",
     "output_type": "error",
     "traceback": [
      "\u001b[0;31m---------------------------------------------------------------------------\u001b[0m",
      "\u001b[0;31mRuntimeError\u001b[0m                              Traceback (most recent call last)",
      "Cell \u001b[0;32mIn[2], line 6\u001b[0m\n\u001b[1;32m      3\u001b[0m t17\u001b[39m=\u001b[39mt17\u001b[39m.\u001b[39mreshape([\u001b[39m2\u001b[39m,\u001b[39m3\u001b[39m,\u001b[39m5\u001b[39m])\n\u001b[1;32m      4\u001b[0m \u001b[39m# print(t17)\u001b[39;00m\n\u001b[1;32m      5\u001b[0m \u001b[39m# print(t17.T)\u001b[39;00m\n\u001b[0;32m----> 6\u001b[0m \u001b[39mprint\u001b[39m(torch\u001b[39m.\u001b[39;49mmm(t17,t17\u001b[39m.\u001b[39;49mT))\n",
      "\u001b[0;31mRuntimeError\u001b[0m: self must be a matrix"
     ]
    }
   ],
   "source": [
    "np1=np.random.randint(1,10,30)\n",
    "t17=torch.tensor(np1)\n",
    "t17=t17.reshape([2,3,5])\n",
    "# print(t17)\n",
    "# print(t17.T)\n",
    "# print(torch.mm(t17,t17.T))"
   ]
  }
 ],
 "metadata": {
  "kernelspec": {
   "display_name": "torch_env",
   "language": "python",
   "name": "python3"
  },
  "language_info": {
   "codemirror_mode": {
    "name": "ipython",
    "version": 3
   },
   "file_extension": ".py",
   "mimetype": "text/x-python",
   "name": "python",
   "nbconvert_exporter": "python",
   "pygments_lexer": "ipython3",
   "version": "3.10.12"
  },
  "orig_nbformat": 4
 },
 "nbformat": 4,
 "nbformat_minor": 2
}
