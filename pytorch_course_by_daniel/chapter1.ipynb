{
 "cells": [
  {
   "cell_type": "markdown",
   "metadata": {},
   "source": [
    "<h5 ><b><italic></italic>machine learning is turning thigs(data) into numbers, and finding patterns in those numbers</h5>"
   ]
  },
  {
   "cell_type": "code",
   "execution_count": 3,
   "metadata": {},
   "outputs": [
    {
     "name": "stdout",
     "output_type": "stream",
     "text": [
      "2.0.1\n",
      "False\n"
     ]
    }
   ],
   "source": [
    "import torch\n",
    "import math\n",
    "import numpy as np\n",
    "import pandas \n",
    "import matplotlib.pyplot as plt\n",
    "print(torch.__version__)\n",
    "print(torch.cuda.is_available())\n",
    "def num_of_elements(t):\n",
    "    if type(t)!=torch.Tensor:\n",
    "        print(f\"not a tensor. see the type {type(t)}\")\n",
    "        return\n",
    "    return len(torch.flatten(t))"
   ]
  },
  {
   "cell_type": "code",
   "execution_count": 4,
   "metadata": {},
   "outputs": [
    {
     "name": "stdout",
     "output_type": "stream",
     "text": [
      "tensor([[1, 2],\n",
      "        [2, 3]])\n",
      "2\n",
      "<built-in method item of Tensor object at 0x14cfecfe0>\n"
     ]
    }
   ],
   "source": [
    "scaler=torch.tensor([[1,2],[2,3]])\n",
    "print(scaler)\n",
    "print(scaler.ndim)\n",
    "print(scaler.item)\n"
   ]
  },
  {
   "cell_type": "code",
   "execution_count": 5,
   "metadata": {},
   "outputs": [
    {
     "data": {
      "text/plain": [
       "tensor([[[1, 2],\n",
       "         [2, 1]]])"
      ]
     },
     "execution_count": 5,
     "metadata": {},
     "output_type": "execute_result"
    }
   ],
   "source": [
    "vector=torch.tensor([[[1,2],[2,1]]])\n",
    "vector"
   ]
  },
  {
   "cell_type": "code",
   "execution_count": null,
   "metadata": {},
   "outputs": [],
   "source": []
  },
  {
   "cell_type": "code",
   "execution_count": 6,
   "metadata": {},
   "outputs": [
    {
     "data": {
      "text/plain": [
       "tensor([[68., 30., 16.],\n",
       "        [92., 83., 34.]])"
      ]
     },
     "execution_count": 6,
     "metadata": {},
     "output_type": "execute_result"
    }
   ],
   "source": [
    "def rand_arr(rows,cols):\n",
    "    res=[]\n",
    "    if rows:\n",
    "        for i in range(rows):\n",
    "            temp=[]\n",
    "            for j in range(cols):\n",
    "                temp.append(np.random.randint(0,100))\n",
    "            res.append(temp)\n",
    "        return res\n",
    "t=rand_arr(2,3)\n",
    "t1=torch.Tensor(t)\n",
    "t1"
   ]
  },
  {
   "cell_type": "code",
   "execution_count": 7,
   "metadata": {},
   "outputs": [
    {
     "data": {
      "text/plain": [
       "tensor([[[0.3723, 0.0135, 0.4602],\n",
       "         [0.8010, 0.3759, 0.5991],\n",
       "         [0.6455, 0.6819, 0.0731],\n",
       "         ...,\n",
       "         [0.8923, 0.0335, 0.7516],\n",
       "         [0.7840, 0.4846, 0.6075],\n",
       "         [0.7337, 0.3186, 0.1265]],\n",
       "\n",
       "        [[0.4578, 0.3863, 0.7406],\n",
       "         [0.8957, 0.3421, 0.5759],\n",
       "         [0.3932, 0.9641, 0.7424],\n",
       "         ...,\n",
       "         [0.0534, 0.1044, 0.2016],\n",
       "         [0.8003, 0.3686, 0.0900],\n",
       "         [0.1872, 0.2021, 0.0835]],\n",
       "\n",
       "        [[0.1494, 0.4527, 0.6208],\n",
       "         [0.3318, 0.0562, 0.7353],\n",
       "         [0.7532, 0.6178, 0.5745],\n",
       "         ...,\n",
       "         [0.8500, 0.6616, 0.8610],\n",
       "         [0.5807, 0.5403, 0.6349],\n",
       "         [0.9253, 0.8363, 0.3380]],\n",
       "\n",
       "        ...,\n",
       "\n",
       "        [[0.7429, 0.1255, 0.8077],\n",
       "         [0.5679, 0.8568, 0.3762],\n",
       "         [0.6893, 0.2480, 0.3590],\n",
       "         ...,\n",
       "         [0.8522, 0.0399, 0.5037],\n",
       "         [0.6434, 0.2317, 0.9448],\n",
       "         [0.0499, 0.0677, 0.9664]],\n",
       "\n",
       "        [[0.5119, 0.0095, 0.8744],\n",
       "         [0.2871, 0.9810, 0.4979],\n",
       "         [0.7357, 0.7904, 0.9566],\n",
       "         ...,\n",
       "         [0.7546, 0.7819, 0.0858],\n",
       "         [0.4864, 0.7253, 0.8557],\n",
       "         [0.7670, 0.1261, 0.7357]],\n",
       "\n",
       "        [[0.6811, 0.9468, 0.4547],\n",
       "         [0.2688, 0.6796, 0.0357],\n",
       "         [0.2008, 0.7261, 0.7557],\n",
       "         ...,\n",
       "         [0.2415, 0.8794, 0.2610],\n",
       "         [0.7393, 0.8401, 0.3473],\n",
       "         [0.8018, 0.0742, 0.0777]]])"
      ]
     },
     "execution_count": 7,
     "metadata": {},
     "output_type": "execute_result"
    }
   ],
   "source": [
    "#pytorch way\n",
    "t=torch.rand((3,3,3))\n",
    "#create a tensor with random values of integers\n",
    "t1=torch.randint(0,10,(3,3,3))\n",
    "t1\n",
    "img_temp=torch.rand((1080,1080,3))\n",
    "img_temp"
   ]
  },
  {
   "cell_type": "code",
   "execution_count": 8,
   "metadata": {},
   "outputs": [
    {
     "name": "stdout",
     "output_type": "stream",
     "text": [
      "tensor([[0., 0., 0.],\n",
      "        [0., 0., 0.]])\n",
      "tensor([[1., 1., 1.],\n",
      "        [1., 1., 1.]])\n"
     ]
    }
   ],
   "source": [
    "z=torch.zeros(2,3)\n",
    "print(z)\n",
    "o=torch.ones(2,3)\n",
    "print(o)"
   ]
  },
  {
   "cell_type": "code",
   "execution_count": 9,
   "metadata": {},
   "outputs": [
    {
     "data": {
      "text/plain": [
       "tensor([ 1., 23.,  9.])"
      ]
     },
     "execution_count": 9,
     "metadata": {},
     "output_type": "execute_result"
    }
   ],
   "source": [
    "#allow to use like this\n",
    "torch.tensor([1,int('23'),9.0], dtype=torch.float32, device='cpu', requires_grad=False)\n",
    "# and not like this\n",
    "# torch.tensor([1,'23',9.0])"
   ]
  },
  {
   "cell_type": "code",
   "execution_count": 10,
   "metadata": {},
   "outputs": [
    {
     "name": "stdout",
     "output_type": "stream",
     "text": [
      "tensor([[0.8458, 0.6145],\n",
      "        [0.0536, 0.1652],\n",
      "        [0.6095, 0.3717]]) \n",
      " torch.float32\n",
      "----------------------------------------------------------------------------------------------------\n",
      "tensor([[0.2954, 0.2090],\n",
      "        [0.3086, 0.0615],\n",
      "        [0.6582, 0.3472]], dtype=torch.float16) \n",
      " torch.float16\n",
      "----------------------------------------------------------------------------------------------------\n",
      "tensor([[0.2498, 0.1284],\n",
      "        [0.0165, 0.0102],\n",
      "        [0.4012, 0.1290]]) \n",
      " torch.float32\n",
      "----------------------------------------------------------------------------------------------------\n",
      "tensor([[3, 0],\n",
      "        [9, 5],\n",
      "        [8, 5]]) \n",
      " torch.int64\n"
     ]
    }
   ],
   "source": [
    "tensor32=torch.rand(3, 2,dtype=torch.float32)\n",
    "print(tensor32,'\\n',tensor32.dtype)\n",
    "print('-'*100)\n",
    "tensor16=torch.rand(3,2,dtype=torch.float16)\n",
    "print(tensor16,'\\n',tensor16.dtype)\n",
    "print('-'*100)\n",
    "mul_tensor=tensor32*tensor16\n",
    "print(mul_tensor,'\\n',mul_tensor.dtype)\n",
    "print('-'*100)\n",
    "int_tensor=torch.randint(0,10,(3,2))\n",
    "print(int_tensor,'\\n',int_tensor.dtype)"
   ]
  },
  {
   "cell_type": "code",
   "execution_count": 11,
   "metadata": {},
   "outputs": [
    {
     "name": "stdout",
     "output_type": "stream",
     "text": [
      "tensor([[9, 9, 5],\n",
      "        [0, 4, 1],\n",
      "        [6, 9, 7]])\n",
      "tensor([[81, 81, 25],\n",
      "        [ 0, 16,  1],\n",
      "        [36, 81, 49]])\n",
      "tensor([[9, 9, 5],\n",
      "        [0, 4, 1],\n",
      "        [6, 9, 7]])\n",
      "tensor([[ 0.5501, 41.7304, 60.9480],\n",
      "        [44.7685, 19.5094, 57.5136]])\n",
      "[[ 0 41 60]\n",
      " [44 19 57]]\n"
     ]
    }
   ],
   "source": [
    "\n",
    "print(t1[0])\n",
    "print(t1[0]*t1[0])\n",
    "print(t1[0])\n",
    "t3=torch.rand(2,3)*100\n",
    "print(t3)\n",
    "print(np.int8(t3))"
   ]
  },
  {
   "cell_type": "code",
   "execution_count": 12,
   "metadata": {},
   "outputs": [
    {
     "name": "stdout",
     "output_type": "stream",
     "text": [
      "106110600\n"
     ]
    }
   ],
   "source": [
    "a=100\n",
    "b=a+1\n",
    "c=b+1\n",
    "d=c+1\n",
    "t4=torch.rand(a,b,c,d)*100\n",
    "print(len(t4.flatten()))\n",
    "for i in range(1000):\n",
    "    t5=t4*t4\n",
    "#it took 27.7 sec to do 1000 like this\n"
   ]
  },
  {
   "cell_type": "code",
   "execution_count": 13,
   "metadata": {},
   "outputs": [],
   "source": [
    "for i in range(1000):\n",
    "    t5=torch.mul(t4,t4)"
   ]
  },
  {
   "cell_type": "markdown",
   "metadata": {},
   "source": [
    "1. it took 27.7 sec to do 1000 like this :t4*t4\n",
    "2. it took 26.9 sec to do 100 like torch.mul(t4,t4)\n",
    "3. conclusion : not  very big imporovment "
   ]
  },
  {
   "cell_type": "code",
   "execution_count": null,
   "metadata": {},
   "outputs": [],
   "source": []
  },
  {
   "cell_type": "code",
   "execution_count": 14,
   "metadata": {},
   "outputs": [
    {
     "name": "stdout",
     "output_type": "stream",
     "text": [
      "tensor([1, 2, 3, 4, 5, 6, 7, 8, 9])\n",
      "tensor([10, 11, 12, 13, 14, 15, 16, 17, 18])\n",
      "tensor([ 10,  22,  36,  52,  70,  90, 112, 136, 162])\n",
      "tensor([[ 10,  22,  36],\n",
      "        [ 52,  70,  90],\n",
      "        [112, 136, 162]])\n"
     ]
    }
   ],
   "source": [
    "a1=np.arange(1,10)\n",
    "a2=np.arange(10,19)\n",
    "t6=torch.tensor(a1)\n",
    "t7=torch.tensor(a2)\n",
    "t8=(torch.mul(t6,t7))\n",
    "print(f\"{t6}\\n{t7}\\n{t8}\")\n",
    "t9=t8.reshape(3,3)\n",
    "print(t9)\n"
   ]
  },
  {
   "cell_type": "code",
   "execution_count": 15,
   "metadata": {},
   "outputs": [
    {
     "name": "stdout",
     "output_type": "stream",
     "text": [
      "200\n",
      "tensor([[[9.4906e-01, 7.3698e-01, 1.1030e-01, 4.7533e-01, 4.2643e-01,\n",
      "          8.8670e-01, 3.3270e-01, 8.8512e-01, 8.8647e-01, 6.4447e-01,\n",
      "          3.3993e-01, 3.4926e-01, 6.3579e-01, 4.8135e-02, 1.7880e-02,\n",
      "          6.1791e-01, 3.0991e-01, 1.4772e-01, 5.9903e-01, 4.2894e-01,\n",
      "          6.0534e-01, 1.0485e-01, 9.6305e-01, 7.2096e-01, 3.0883e-02],\n",
      "         [1.6279e-01, 2.1719e-01, 6.2704e-01, 5.8596e-01, 7.1115e-01,\n",
      "          8.1044e-01, 2.9675e-01, 2.8995e-02, 4.4053e-01, 7.9631e-02,\n",
      "          8.1762e-01, 8.2947e-02, 3.6626e-01, 6.2688e-01, 4.6676e-01,\n",
      "          4.9981e-02, 8.0117e-02, 1.0872e-01, 4.6920e-01, 4.9767e-01,\n",
      "          4.2980e-01, 3.1204e-01, 9.2212e-01, 6.2769e-01, 1.0662e-01],\n",
      "         [1.5705e-01, 8.4595e-01, 9.8373e-01, 2.2332e-01, 9.5178e-01,\n",
      "          8.2753e-01, 9.6286e-02, 4.0435e-01, 7.6488e-01, 7.0403e-01,\n",
      "          4.1985e-01, 7.2887e-01, 7.4652e-01, 9.6244e-01, 1.4342e-01,\n",
      "          6.3230e-02, 9.5831e-01, 5.2908e-01, 8.4643e-02, 9.9511e-01,\n",
      "          7.8010e-01, 6.1930e-01, 9.7402e-01, 4.5957e-01, 1.8968e-01],\n",
      "         [4.2124e-01, 9.3120e-01, 8.6932e-01, 1.4599e-01, 2.5673e-01,\n",
      "          3.8056e-01, 9.7748e-01, 4.9566e-01, 1.0772e-01, 8.5990e-01,\n",
      "          4.7288e-01, 7.3205e-02, 4.9617e-01, 6.3246e-01, 3.2907e-01,\n",
      "          8.5213e-01, 2.1959e-01, 6.1213e-02, 6.8134e-01, 5.0142e-01,\n",
      "          8.2956e-01, 7.1658e-01, 5.1268e-01, 4.9599e-01, 1.6602e-01]],\n",
      "\n",
      "        [[2.6101e-01, 1.6458e-01, 9.6728e-01, 3.8815e-01, 5.0469e-01,\n",
      "          9.7625e-01, 6.4556e-01, 6.6252e-02, 1.9385e-01, 5.8073e-04,\n",
      "          2.6446e-01, 5.7647e-01, 6.8887e-01, 6.3360e-01, 9.8482e-01,\n",
      "          2.7761e-01, 5.2517e-01, 6.7682e-01, 1.3172e-01, 4.6305e-01,\n",
      "          7.4140e-01, 1.7066e-01, 8.8223e-01, 4.8002e-01, 7.6593e-01],\n",
      "         [8.8414e-01, 7.8971e-01, 1.3017e-01, 2.5602e-01, 8.9961e-01,\n",
      "          2.3236e-01, 7.4479e-01, 5.2482e-01, 3.3922e-01, 9.4463e-01,\n",
      "          3.4298e-02, 9.7524e-01, 6.4453e-01, 7.9684e-01, 6.4556e-01,\n",
      "          4.1698e-01, 5.2172e-01, 6.3345e-01, 7.6454e-01, 7.1056e-01,\n",
      "          3.2371e-01, 1.9034e-02, 3.5911e-01, 3.1448e-01, 6.3023e-01],\n",
      "         [2.7298e-01, 4.6763e-01, 3.5834e-02, 8.8395e-01, 4.4075e-01,\n",
      "          9.7091e-01, 4.3563e-01, 6.0476e-01, 6.2657e-01, 5.1994e-03,\n",
      "          5.7349e-02, 2.8575e-01, 1.3541e-01, 7.6959e-01, 8.2272e-02,\n",
      "          9.3921e-01, 3.4267e-01, 9.3598e-01, 3.6679e-02, 2.6767e-01,\n",
      "          8.8633e-01, 9.8521e-01, 3.3460e-01, 1.2785e-01, 8.9728e-01],\n",
      "         [1.2200e-01, 4.2545e-01, 6.0705e-01, 6.2321e-01, 1.9851e-01,\n",
      "          8.5940e-01, 2.1234e-01, 8.6855e-01, 1.7909e-01, 2.9948e-01,\n",
      "          7.5411e-01, 5.8612e-01, 2.2582e-01, 1.9419e-01, 5.1018e-01,\n",
      "          4.2379e-02, 9.2851e-01, 4.9158e-01, 2.3732e-01, 8.9892e-01,\n",
      "          8.7180e-01, 6.7099e-01, 3.7922e-01, 5.6920e-01, 6.5016e-02]]])\n"
     ]
    }
   ],
   "source": [
    "\n",
    "\n",
    "t10=torch.rand(1,8,25)\n",
    "print(num_of_elements(t10))\n",
    "t11=torch.rand(2,4,25)\n",
    "t12=t10.reshape_as(t11)\n",
    "print(t12)\n"
   ]
  },
  {
   "cell_type": "code",
   "execution_count": 19,
   "metadata": {},
   "outputs": [],
   "source": [
    "\n",
    "a=100\n",
    "b=a*10\n",
    "c=b*10\n",
    "d=c*10\n",
    "t13=torch.rand(c,d)\n",
    "t14=torch.rand(d,c)\n",
    "t15=torch.matmul(t13,t14)"
   ]
  },
  {
   "cell_type": "markdown",
   "metadata": {},
   "source": [
    "/var/folders/hh/bn85jql94k9dkgccvt0vbxf40000gn/T/ipykernel_2846/4259908433.py:2: UserWarning: To copy construct from a tensor, it is recommended to use sourceTensor.clone().detach() or sourceTensor.clone().detach().requires_grad_(True), rather than torch.tensor(sourceTensor).\n"
   ]
  },
  {
   "cell_type": "code",
   "execution_count": 33,
   "metadata": {},
   "outputs": [
    {
     "name": "stderr",
     "output_type": "stream",
     "text": [
      "/var/folders/hh/bn85jql94k9dkgccvt0vbxf40000gn/T/ipykernel_2846/4259908433.py:2: UserWarning: To copy construct from a tensor, it is recommended to use sourceTensor.clone().detach() or sourceTensor.clone().detach().requires_grad_(True), rather than torch.tensor(sourceTensor).\n",
      "  t16=torch.tensor(t15,dtype=torch.int32)\n"
     ]
    }
   ],
   "source": [
    "# t16=t15.clone.detach()\n",
    "# t16=torch.tensor(t15,dtype=torch.int32)"
   ]
  },
  {
   "cell_type": "code",
   "execution_count": 29,
   "metadata": {},
   "outputs": [
    {
     "data": {
      "text/plain": [
       "tensor([], dtype=torch.int32)"
      ]
     },
     "execution_count": 29,
     "metadata": {},
     "output_type": "execute_result"
    }
   ],
   "source": [
    "t16"
   ]
  }
 ],
 "metadata": {
  "kernelspec": {
   "display_name": "torch_env",
   "language": "python",
   "name": "python3"
  },
  "language_info": {
   "codemirror_mode": {
    "name": "ipython",
    "version": 3
   },
   "file_extension": ".py",
   "mimetype": "text/x-python",
   "name": "python",
   "nbconvert_exporter": "python",
   "pygments_lexer": "ipython3",
   "version": "3.10.12"
  },
  "orig_nbformat": 4
 },
 "nbformat": 4,
 "nbformat_minor": 2
}
