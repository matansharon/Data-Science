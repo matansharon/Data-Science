{
 "cells": [
  {
   "cell_type": "markdown",
   "metadata": {},
   "source": [
    "<h5 ><b><italic></italic>machine learning is turning thigs(data) into numbers, and finding patterns in those numbers</h5>"
   ]
  },
  {
   "cell_type": "code",
   "execution_count": 16,
   "metadata": {},
   "outputs": [
    {
     "name": "stdout",
     "output_type": "stream",
     "text": [
      "2.0.1\n",
      "False\n"
     ]
    }
   ],
   "source": [
    "import torch\n",
    "import math\n",
    "import numpy as np\n",
    "import pandas \n",
    "import matplotlib.pyplot as plt\n",
    "print(torch.__version__)\n",
    "print(torch.cuda.is_available())"
   ]
  },
  {
   "cell_type": "code",
   "execution_count": 2,
   "metadata": {},
   "outputs": [
    {
     "name": "stdout",
     "output_type": "stream",
     "text": [
      "tensor([[1, 2],\n",
      "        [2, 3]])\n",
      "2\n",
      "<built-in method item of Tensor object at 0x13f60eac0>\n"
     ]
    }
   ],
   "source": [
    "scaler=torch.tensor([[1,2],[2,3]])\n",
    "print(scaler)\n",
    "print(scaler.ndim)\n",
    "print(scaler.item)\n"
   ]
  },
  {
   "cell_type": "code",
   "execution_count": 3,
   "metadata": {},
   "outputs": [
    {
     "data": {
      "text/plain": [
       "tensor([[[1, 2],\n",
       "         [2, 1]]])"
      ]
     },
     "execution_count": 3,
     "metadata": {},
     "output_type": "execute_result"
    }
   ],
   "source": [
    "vector=torch.tensor([[[1,2],[2,1]]])\n",
    "vector"
   ]
  },
  {
   "cell_type": "code",
   "execution_count": null,
   "metadata": {},
   "outputs": [],
   "source": []
  },
  {
   "cell_type": "code",
   "execution_count": 4,
   "metadata": {},
   "outputs": [
    {
     "data": {
      "text/plain": [
       "tensor([[ 5., 41., 85.],\n",
       "        [36., 51., 53.]])"
      ]
     },
     "execution_count": 4,
     "metadata": {},
     "output_type": "execute_result"
    }
   ],
   "source": [
    "def rand_arr(rows,cols):\n",
    "    res=[]\n",
    "    if rows:\n",
    "        for i in range(rows):\n",
    "            temp=[]\n",
    "            for j in range(cols):\n",
    "                temp.append(np.random.randint(0,100))\n",
    "            res.append(temp)\n",
    "        return res\n",
    "t=rand_arr(2,3)\n",
    "t1=torch.Tensor(t)\n",
    "t1"
   ]
  },
  {
   "cell_type": "code",
   "execution_count": 5,
   "metadata": {},
   "outputs": [
    {
     "data": {
      "text/plain": [
       "tensor([[[0.6906, 0.9907, 0.6087],\n",
       "         [0.0849, 0.5630, 0.9889],\n",
       "         [0.4565, 0.9837, 0.3398],\n",
       "         ...,\n",
       "         [0.2728, 0.5198, 0.8279],\n",
       "         [0.0896, 0.6942, 0.1848],\n",
       "         [0.2672, 0.0535, 0.2069]],\n",
       "\n",
       "        [[0.4071, 0.6216, 0.0756],\n",
       "         [0.7940, 0.2744, 0.0876],\n",
       "         [0.6263, 0.3943, 0.3084],\n",
       "         ...,\n",
       "         [0.7729, 0.3421, 0.0803],\n",
       "         [0.0141, 0.1438, 0.1864],\n",
       "         [0.1573, 0.6477, 0.5283]],\n",
       "\n",
       "        [[0.7418, 0.5818, 0.9864],\n",
       "         [0.8340, 0.4226, 0.1229],\n",
       "         [0.8605, 0.2399, 0.7072],\n",
       "         ...,\n",
       "         [0.5214, 0.2891, 0.0416],\n",
       "         [0.5794, 0.1093, 0.7145],\n",
       "         [0.7178, 0.4826, 0.5445]],\n",
       "\n",
       "        ...,\n",
       "\n",
       "        [[0.0071, 0.8876, 0.9428],\n",
       "         [0.2115, 0.4288, 0.8330],\n",
       "         [0.3308, 0.5459, 0.7165],\n",
       "         ...,\n",
       "         [0.7204, 0.5195, 0.9481],\n",
       "         [0.0615, 0.7726, 0.1284],\n",
       "         [0.7373, 0.1074, 0.2114]],\n",
       "\n",
       "        [[0.0128, 0.9433, 0.2315],\n",
       "         [0.1195, 0.9399, 0.2538],\n",
       "         [0.9497, 0.3993, 0.9334],\n",
       "         ...,\n",
       "         [0.0771, 0.8951, 0.0524],\n",
       "         [0.0663, 0.4820, 0.5942],\n",
       "         [0.2654, 0.7728, 0.6580]],\n",
       "\n",
       "        [[0.8262, 0.2041, 0.4279],\n",
       "         [0.1487, 0.6138, 0.3961],\n",
       "         [0.2818, 0.0952, 0.0209],\n",
       "         ...,\n",
       "         [0.9924, 0.5915, 0.8438],\n",
       "         [0.0210, 0.8201, 0.3439],\n",
       "         [0.5542, 0.0861, 0.6346]]])"
      ]
     },
     "execution_count": 5,
     "metadata": {},
     "output_type": "execute_result"
    }
   ],
   "source": [
    "#pytorch way\n",
    "t=torch.rand((3,3,3))\n",
    "#create a tensor with random values of integers\n",
    "t1=torch.randint(0,10,(3,3,3))\n",
    "t1\n",
    "img_temp=torch.rand((1080,1080,3))\n",
    "img_temp"
   ]
  },
  {
   "cell_type": "code",
   "execution_count": 6,
   "metadata": {},
   "outputs": [
    {
     "name": "stdout",
     "output_type": "stream",
     "text": [
      "tensor([[0., 0., 0.],\n",
      "        [0., 0., 0.]])\n",
      "tensor([[1., 1., 1.],\n",
      "        [1., 1., 1.]])\n"
     ]
    }
   ],
   "source": [
    "z=torch.zeros(2,3)\n",
    "print(z)\n",
    "o=torch.ones(2,3)\n",
    "print(o)"
   ]
  },
  {
   "cell_type": "code",
   "execution_count": 7,
   "metadata": {},
   "outputs": [
    {
     "data": {
      "text/plain": [
       "tensor([ 1., 23.,  9.])"
      ]
     },
     "execution_count": 7,
     "metadata": {},
     "output_type": "execute_result"
    }
   ],
   "source": [
    "#allow to use like this\n",
    "torch.tensor([1,int('23'),9.0], dtype=torch.float32, device='cpu', requires_grad=False)\n",
    "# and not like this\n",
    "# torch.tensor([1,'23',9.0])"
   ]
  },
  {
   "cell_type": "code",
   "execution_count": 8,
   "metadata": {},
   "outputs": [
    {
     "name": "stdout",
     "output_type": "stream",
     "text": [
      "tensor([[0.9271, 0.5410],\n",
      "        [0.4399, 0.0125],\n",
      "        [0.1010, 0.7970]]) \n",
      " torch.float32\n",
      "----------------------------------------------------------------------------------------------------\n",
      "tensor([[0.8726, 0.2739],\n",
      "        [0.4121, 0.4922],\n",
      "        [0.1587, 0.1206]], dtype=torch.float16) \n",
      " torch.float16\n",
      "----------------------------------------------------------------------------------------------------\n",
      "tensor([[0.8089, 0.1482],\n",
      "        [0.1813, 0.0061],\n",
      "        [0.0160, 0.0961]]) \n",
      " torch.float32\n",
      "----------------------------------------------------------------------------------------------------\n",
      "tensor([[0, 4],\n",
      "        [5, 6],\n",
      "        [1, 0]]) \n",
      " torch.int64\n"
     ]
    }
   ],
   "source": [
    "tensor32=torch.rand(3, 2,dtype=torch.float32)\n",
    "print(tensor32,'\\n',tensor32.dtype)\n",
    "print('-'*100)\n",
    "tensor16=torch.rand(3,2,dtype=torch.float16)\n",
    "print(tensor16,'\\n',tensor16.dtype)\n",
    "print('-'*100)\n",
    "mul_tensor=tensor32*tensor16\n",
    "print(mul_tensor,'\\n',mul_tensor.dtype)\n",
    "print('-'*100)\n",
    "int_tensor=torch.randint(0,10,(3,2))\n",
    "print(int_tensor,'\\n',int_tensor.dtype)"
   ]
  },
  {
   "cell_type": "code",
   "execution_count": 26,
   "metadata": {},
   "outputs": [
    {
     "name": "stdout",
     "output_type": "stream",
     "text": [
      "tensor([[4, 3, 8],\n",
      "        [4, 6, 3],\n",
      "        [4, 9, 7]])\n",
      "tensor([[16,  9, 64],\n",
      "        [16, 36,  9],\n",
      "        [16, 81, 49]])\n",
      "tensor([[4, 3, 8],\n",
      "        [4, 6, 3],\n",
      "        [4, 9, 7]])\n",
      "tensor([[96.6359, 86.1905, 10.8516],\n",
      "        [38.9025,  0.9264, 85.4507]])\n",
      "[[96 86 10]\n",
      " [38  0 85]]\n"
     ]
    }
   ],
   "source": [
    "print(t1[0])\n",
    "print(t1[0]*t1[0])\n",
    "print(t1[0])\n",
    "t3=torch.rand(2,3)*100\n",
    "print(t3)\n",
    "print(np.int8(t3))"
   ]
  }
 ],
 "metadata": {
  "kernelspec": {
   "display_name": "torch_env",
   "language": "python",
   "name": "python3"
  },
  "language_info": {
   "codemirror_mode": {
    "name": "ipython",
    "version": 3
   },
   "file_extension": ".py",
   "mimetype": "text/x-python",
   "name": "python",
   "nbconvert_exporter": "python",
   "pygments_lexer": "ipython3",
   "version": "3.10.12"
  },
  "orig_nbformat": 4
 },
 "nbformat": 4,
 "nbformat_minor": 2
}
