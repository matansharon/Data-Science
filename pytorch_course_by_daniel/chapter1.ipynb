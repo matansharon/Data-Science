{
 "cells": [
  {
   "cell_type": "markdown",
   "metadata": {},
   "source": [
    "<h5 ><b><italic></italic>machine learning is turning thigs(data) into numbers, and finding patterns in those numbers</h5>"
   ]
  },
  {
   "cell_type": "code",
   "execution_count": 23,
   "metadata": {},
   "outputs": [
    {
     "name": "stdout",
     "output_type": "stream",
     "text": [
      "2.0.1\n",
      "False\n"
     ]
    }
   ],
   "source": [
    "import torch\n",
    "import numpy as np\n",
    "import pandas \n",
    "import matplotlib.pyplot as plt\n",
    "print(torch.__version__)\n",
    "print(torch.cuda.is_available())"
   ]
  },
  {
   "cell_type": "code",
   "execution_count": 24,
   "metadata": {},
   "outputs": [
    {
     "name": "stdout",
     "output_type": "stream",
     "text": [
      "tensor([[1, 2],\n",
      "        [2, 3]])\n",
      "2\n",
      "<built-in method item of Tensor object at 0x15d8f54e0>\n"
     ]
    }
   ],
   "source": [
    "scaler=torch.tensor([[1,2],[2,3]])\n",
    "print(scaler)\n",
    "print(scaler.ndim)\n",
    "print(scaler.item)\n"
   ]
  },
  {
   "cell_type": "code",
   "execution_count": 25,
   "metadata": {},
   "outputs": [
    {
     "data": {
      "text/plain": [
       "tensor([[[1, 2],\n",
       "         [2, 1]]])"
      ]
     },
     "execution_count": 25,
     "metadata": {},
     "output_type": "execute_result"
    }
   ],
   "source": [
    "vector=torch.tensor([[[1,2],[2,1]]])\n",
    "vector"
   ]
  },
  {
   "cell_type": "code",
   "execution_count": null,
   "metadata": {},
   "outputs": [],
   "source": []
  },
  {
   "cell_type": "code",
   "execution_count": 26,
   "metadata": {},
   "outputs": [
    {
     "data": {
      "text/plain": [
       "tensor([[74., 29., 17.],\n",
       "        [17., 98., 96.]])"
      ]
     },
     "execution_count": 26,
     "metadata": {},
     "output_type": "execute_result"
    }
   ],
   "source": [
    "def rand_arr(rows,cols):\n",
    "    res=[]\n",
    "    if rows:\n",
    "        for i in range(rows):\n",
    "            temp=[]\n",
    "            for j in range(cols):\n",
    "                temp.append(np.random.randint(0,100))\n",
    "            res.append(temp)\n",
    "        return res\n",
    "t=rand_arr(2,3)\n",
    "t1=torch.Tensor(t)\n",
    "t1"
   ]
  },
  {
   "cell_type": "code",
   "execution_count": 27,
   "metadata": {},
   "outputs": [
    {
     "data": {
      "text/plain": [
       "tensor([[[0.5800, 0.1459, 0.5564],\n",
       "         [0.6931, 0.1784, 0.8337],\n",
       "         [0.6736, 0.7961, 0.8715],\n",
       "         ...,\n",
       "         [0.1983, 0.7695, 0.3675],\n",
       "         [0.6206, 0.9410, 0.1889],\n",
       "         [0.7023, 0.3649, 0.7902]],\n",
       "\n",
       "        [[0.6169, 0.6363, 0.1882],\n",
       "         [0.9949, 0.1601, 0.8504],\n",
       "         [0.9454, 0.0095, 0.9830],\n",
       "         ...,\n",
       "         [0.0211, 0.3708, 0.7157],\n",
       "         [0.1846, 0.6623, 0.7065],\n",
       "         [0.0486, 0.3219, 0.4426]],\n",
       "\n",
       "        [[0.8646, 0.3578, 0.0656],\n",
       "         [0.9436, 0.2486, 0.7014],\n",
       "         [0.9630, 0.3847, 0.3465],\n",
       "         ...,\n",
       "         [0.1135, 0.6134, 0.1061],\n",
       "         [0.2144, 0.7641, 0.9249],\n",
       "         [0.9774, 0.5740, 0.5275]],\n",
       "\n",
       "        ...,\n",
       "\n",
       "        [[0.4627, 0.6721, 0.3424],\n",
       "         [0.2002, 0.7640, 0.4649],\n",
       "         [0.0311, 0.3396, 0.8470],\n",
       "         ...,\n",
       "         [0.4717, 0.2197, 0.0980],\n",
       "         [0.5928, 0.2580, 0.5672],\n",
       "         [0.1993, 0.1842, 0.2356]],\n",
       "\n",
       "        [[0.5023, 0.8080, 0.1573],\n",
       "         [0.8634, 0.0324, 0.8753],\n",
       "         [0.9766, 0.6790, 0.9309],\n",
       "         ...,\n",
       "         [0.9917, 0.8947, 0.9587],\n",
       "         [0.5305, 0.7813, 0.2051],\n",
       "         [0.1031, 0.7166, 0.6170]],\n",
       "\n",
       "        [[0.2278, 0.8267, 0.6418],\n",
       "         [0.2473, 0.5058, 0.5563],\n",
       "         [0.7671, 0.6136, 0.7488],\n",
       "         ...,\n",
       "         [0.1167, 0.9535, 0.2257],\n",
       "         [0.3906, 0.3139, 0.6829],\n",
       "         [0.7641, 0.7917, 0.3311]]])"
      ]
     },
     "execution_count": 27,
     "metadata": {},
     "output_type": "execute_result"
    }
   ],
   "source": [
    "#pytorch way\n",
    "t=torch.rand((3,3,3))\n",
    "#create a tensor with random values of integers\n",
    "t1=torch.randint(0,10,(3,3,3))\n",
    "t1\n",
    "img_temp=torch.rand((1080,1080,3))\n",
    "img_temp"
   ]
  },
  {
   "cell_type": "code",
   "execution_count": 28,
   "metadata": {},
   "outputs": [
    {
     "name": "stdout",
     "output_type": "stream",
     "text": [
      "tensor([[0., 0., 0.],\n",
      "        [0., 0., 0.]])\n",
      "tensor([[1., 1., 1.],\n",
      "        [1., 1., 1.]])\n"
     ]
    }
   ],
   "source": [
    "z=torch.zeros(2,3)\n",
    "print(z)\n",
    "o=torch.ones(2,3)\n",
    "print(o)"
   ]
  },
  {
   "cell_type": "code",
   "execution_count": 29,
   "metadata": {},
   "outputs": [
    {
     "data": {
      "text/plain": [
       "tensor([ 1., 23.,  9.])"
      ]
     },
     "execution_count": 29,
     "metadata": {},
     "output_type": "execute_result"
    }
   ],
   "source": [
    "#allow to use like this\n",
    "torch.tensor([1,int('23'),9.0], dtype=torch.float32, device='cpu', requires_grad=False)\n",
    "# and not like this\n",
    "# torch.tensor([1,'23',9.0])"
   ]
  },
  {
   "cell_type": "code",
   "execution_count": 30,
   "metadata": {},
   "outputs": [
    {
     "name": "stdout",
     "output_type": "stream",
     "text": [
      "tensor([[0.6643, 0.7321],\n",
      "        [0.9160, 0.0618],\n",
      "        [0.7788, 0.0597]]) \n",
      " torch.float32\n",
      "----------------------------------------------------------------------------------------------------\n",
      "tensor([[0.8208, 0.3008],\n",
      "        [0.1392, 0.7656],\n",
      "        [0.9268, 0.3105]], dtype=torch.float16) \n",
      " torch.float16\n",
      "----------------------------------------------------------------------------------------------------\n",
      "tensor([[0.5452, 0.2202],\n",
      "        [0.1275, 0.0473],\n",
      "        [0.7217, 0.0185]]) \n",
      " torch.float32\n",
      "----------------------------------------------------------------------------------------------------\n",
      "tensor([[5, 8],\n",
      "        [3, 5],\n",
      "        [2, 3]]) \n",
      " torch.int64\n"
     ]
    }
   ],
   "source": [
    "tensor32=torch.rand(3, 2,dtype=torch.float32)\n",
    "print(tensor32,'\\n',tensor32.dtype)\n",
    "print('-'*100)\n",
    "tensor16=torch.rand(3,2,dtype=torch.float16)\n",
    "print(tensor16,'\\n',tensor16.dtype)\n",
    "print('-'*100)\n",
    "mul_tensor=tensor32*tensor16\n",
    "print(mul_tensor,'\\n',mul_tensor.dtype)\n",
    "print('-'*100)\n",
    "int_tensor=torch.randint(0,10,(3,2))\n",
    "print(int_tensor,'\\n',int_tensor.dtype)"
   ]
  },
  {
   "cell_type": "code",
   "execution_count": 31,
   "metadata": {},
   "outputs": [
    {
     "data": {
      "text/plain": [
       "device(type='cpu')"
      ]
     },
     "execution_count": 31,
     "metadata": {},
     "output_type": "execute_result"
    }
   ],
   "source": [
    "t1.device"
   ]
  }
 ],
 "metadata": {
  "kernelspec": {
   "display_name": "torch_env",
   "language": "python",
   "name": "python3"
  },
  "language_info": {
   "codemirror_mode": {
    "name": "ipython",
    "version": 3
   },
   "file_extension": ".py",
   "mimetype": "text/x-python",
   "name": "python",
   "nbconvert_exporter": "python",
   "pygments_lexer": "ipython3",
   "version": "3.10.12"
  },
  "orig_nbformat": 4
 },
 "nbformat": 4,
 "nbformat_minor": 2
}
