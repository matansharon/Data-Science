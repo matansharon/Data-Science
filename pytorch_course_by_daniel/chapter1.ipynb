{
 "cells": [
  {
   "cell_type": "markdown",
   "metadata": {},
   "source": [
    "<h5 ><b><italic></italic>machine learning is turning thigs(data) into numbers, and finding patterns in those numbers</h5>"
   ]
  },
  {
   "cell_type": "code",
   "execution_count": 80,
   "metadata": {},
   "outputs": [
    {
     "name": "stdout",
     "output_type": "stream",
     "text": [
      "2.0.1\n",
      "False\n"
     ]
    }
   ],
   "source": [
    "import torch\n",
    "import math\n",
    "import numpy as np\n",
    "import pandas \n",
    "import matplotlib.pyplot as plt\n",
    "print(torch.__version__)\n",
    "print(torch.cuda.is_available())\n",
    "def num_of_elements(t):\n",
    "    if type(t)!=torch.Tensor:\n",
    "        print(f\"not a tensor. see the type {type(t)}\")\n",
    "        return\n",
    "    return len(torch.flatten(t))"
   ]
  },
  {
   "cell_type": "code",
   "execution_count": 2,
   "metadata": {},
   "outputs": [
    {
     "name": "stdout",
     "output_type": "stream",
     "text": [
      "tensor([[1, 2],\n",
      "        [2, 3]])\n",
      "2\n",
      "<built-in method item of Tensor object at 0x13f60eac0>\n"
     ]
    }
   ],
   "source": [
    "scaler=torch.tensor([[1,2],[2,3]])\n",
    "print(scaler)\n",
    "print(scaler.ndim)\n",
    "print(scaler.item)\n"
   ]
  },
  {
   "cell_type": "code",
   "execution_count": 3,
   "metadata": {},
   "outputs": [
    {
     "data": {
      "text/plain": [
       "tensor([[[1, 2],\n",
       "         [2, 1]]])"
      ]
     },
     "execution_count": 3,
     "metadata": {},
     "output_type": "execute_result"
    }
   ],
   "source": [
    "vector=torch.tensor([[[1,2],[2,1]]])\n",
    "vector"
   ]
  },
  {
   "cell_type": "code",
   "execution_count": null,
   "metadata": {},
   "outputs": [],
   "source": []
  },
  {
   "cell_type": "code",
   "execution_count": 4,
   "metadata": {},
   "outputs": [
    {
     "data": {
      "text/plain": [
       "tensor([[ 5., 41., 85.],\n",
       "        [36., 51., 53.]])"
      ]
     },
     "execution_count": 4,
     "metadata": {},
     "output_type": "execute_result"
    }
   ],
   "source": [
    "def rand_arr(rows,cols):\n",
    "    res=[]\n",
    "    if rows:\n",
    "        for i in range(rows):\n",
    "            temp=[]\n",
    "            for j in range(cols):\n",
    "                temp.append(np.random.randint(0,100))\n",
    "            res.append(temp)\n",
    "        return res\n",
    "t=rand_arr(2,3)\n",
    "t1=torch.Tensor(t)\n",
    "t1"
   ]
  },
  {
   "cell_type": "code",
   "execution_count": 5,
   "metadata": {},
   "outputs": [
    {
     "data": {
      "text/plain": [
       "tensor([[[0.6906, 0.9907, 0.6087],\n",
       "         [0.0849, 0.5630, 0.9889],\n",
       "         [0.4565, 0.9837, 0.3398],\n",
       "         ...,\n",
       "         [0.2728, 0.5198, 0.8279],\n",
       "         [0.0896, 0.6942, 0.1848],\n",
       "         [0.2672, 0.0535, 0.2069]],\n",
       "\n",
       "        [[0.4071, 0.6216, 0.0756],\n",
       "         [0.7940, 0.2744, 0.0876],\n",
       "         [0.6263, 0.3943, 0.3084],\n",
       "         ...,\n",
       "         [0.7729, 0.3421, 0.0803],\n",
       "         [0.0141, 0.1438, 0.1864],\n",
       "         [0.1573, 0.6477, 0.5283]],\n",
       "\n",
       "        [[0.7418, 0.5818, 0.9864],\n",
       "         [0.8340, 0.4226, 0.1229],\n",
       "         [0.8605, 0.2399, 0.7072],\n",
       "         ...,\n",
       "         [0.5214, 0.2891, 0.0416],\n",
       "         [0.5794, 0.1093, 0.7145],\n",
       "         [0.7178, 0.4826, 0.5445]],\n",
       "\n",
       "        ...,\n",
       "\n",
       "        [[0.0071, 0.8876, 0.9428],\n",
       "         [0.2115, 0.4288, 0.8330],\n",
       "         [0.3308, 0.5459, 0.7165],\n",
       "         ...,\n",
       "         [0.7204, 0.5195, 0.9481],\n",
       "         [0.0615, 0.7726, 0.1284],\n",
       "         [0.7373, 0.1074, 0.2114]],\n",
       "\n",
       "        [[0.0128, 0.9433, 0.2315],\n",
       "         [0.1195, 0.9399, 0.2538],\n",
       "         [0.9497, 0.3993, 0.9334],\n",
       "         ...,\n",
       "         [0.0771, 0.8951, 0.0524],\n",
       "         [0.0663, 0.4820, 0.5942],\n",
       "         [0.2654, 0.7728, 0.6580]],\n",
       "\n",
       "        [[0.8262, 0.2041, 0.4279],\n",
       "         [0.1487, 0.6138, 0.3961],\n",
       "         [0.2818, 0.0952, 0.0209],\n",
       "         ...,\n",
       "         [0.9924, 0.5915, 0.8438],\n",
       "         [0.0210, 0.8201, 0.3439],\n",
       "         [0.5542, 0.0861, 0.6346]]])"
      ]
     },
     "execution_count": 5,
     "metadata": {},
     "output_type": "execute_result"
    }
   ],
   "source": [
    "#pytorch way\n",
    "t=torch.rand((3,3,3))\n",
    "#create a tensor with random values of integers\n",
    "t1=torch.randint(0,10,(3,3,3))\n",
    "t1\n",
    "img_temp=torch.rand((1080,1080,3))\n",
    "img_temp"
   ]
  },
  {
   "cell_type": "code",
   "execution_count": 6,
   "metadata": {},
   "outputs": [
    {
     "name": "stdout",
     "output_type": "stream",
     "text": [
      "tensor([[0., 0., 0.],\n",
      "        [0., 0., 0.]])\n",
      "tensor([[1., 1., 1.],\n",
      "        [1., 1., 1.]])\n"
     ]
    }
   ],
   "source": [
    "z=torch.zeros(2,3)\n",
    "print(z)\n",
    "o=torch.ones(2,3)\n",
    "print(o)"
   ]
  },
  {
   "cell_type": "code",
   "execution_count": 7,
   "metadata": {},
   "outputs": [
    {
     "data": {
      "text/plain": [
       "tensor([ 1., 23.,  9.])"
      ]
     },
     "execution_count": 7,
     "metadata": {},
     "output_type": "execute_result"
    }
   ],
   "source": [
    "#allow to use like this\n",
    "torch.tensor([1,int('23'),9.0], dtype=torch.float32, device='cpu', requires_grad=False)\n",
    "# and not like this\n",
    "# torch.tensor([1,'23',9.0])"
   ]
  },
  {
   "cell_type": "code",
   "execution_count": 8,
   "metadata": {},
   "outputs": [
    {
     "name": "stdout",
     "output_type": "stream",
     "text": [
      "tensor([[0.9271, 0.5410],\n",
      "        [0.4399, 0.0125],\n",
      "        [0.1010, 0.7970]]) \n",
      " torch.float32\n",
      "----------------------------------------------------------------------------------------------------\n",
      "tensor([[0.8726, 0.2739],\n",
      "        [0.4121, 0.4922],\n",
      "        [0.1587, 0.1206]], dtype=torch.float16) \n",
      " torch.float16\n",
      "----------------------------------------------------------------------------------------------------\n",
      "tensor([[0.8089, 0.1482],\n",
      "        [0.1813, 0.0061],\n",
      "        [0.0160, 0.0961]]) \n",
      " torch.float32\n",
      "----------------------------------------------------------------------------------------------------\n",
      "tensor([[0, 4],\n",
      "        [5, 6],\n",
      "        [1, 0]]) \n",
      " torch.int64\n"
     ]
    }
   ],
   "source": [
    "tensor32=torch.rand(3, 2,dtype=torch.float32)\n",
    "print(tensor32,'\\n',tensor32.dtype)\n",
    "print('-'*100)\n",
    "tensor16=torch.rand(3,2,dtype=torch.float16)\n",
    "print(tensor16,'\\n',tensor16.dtype)\n",
    "print('-'*100)\n",
    "mul_tensor=tensor32*tensor16\n",
    "print(mul_tensor,'\\n',mul_tensor.dtype)\n",
    "print('-'*100)\n",
    "int_tensor=torch.randint(0,10,(3,2))\n",
    "print(int_tensor,'\\n',int_tensor.dtype)"
   ]
  },
  {
   "cell_type": "code",
   "execution_count": 55,
   "metadata": {},
   "outputs": [
    {
     "name": "stdout",
     "output_type": "stream",
     "text": [
      "tensor([[4, 3, 8],\n",
      "        [4, 6, 3],\n",
      "        [4, 9, 7]])\n",
      "tensor([[16,  9, 64],\n",
      "        [16, 36,  9],\n",
      "        [16, 81, 49]])\n",
      "tensor([[4, 3, 8],\n",
      "        [4, 6, 3],\n",
      "        [4, 9, 7]])\n",
      "tensor([[87.4605, 31.1702, 53.6106],\n",
      "        [70.9740, 94.5568, 43.9755]])\n",
      "[[87 31 53]\n",
      " [70 94 43]]\n",
      "CPU times: user 2.11 ms, sys: 1.52 ms, total: 3.63 ms\n",
      "Wall time: 2.64 ms\n"
     ]
    }
   ],
   "source": [
    "\n",
    "print(t1[0])\n",
    "print(t1[0]*t1[0])\n",
    "print(t1[0])\n",
    "t3=torch.rand(2,3)*100\n",
    "print(t3)\n",
    "print(np.int8(t3))"
   ]
  },
  {
   "cell_type": "code",
   "execution_count": 65,
   "metadata": {},
   "outputs": [
    {
     "name": "stdout",
     "output_type": "stream",
     "text": [
      "106110600\n"
     ]
    }
   ],
   "source": [
    "a=100\n",
    "b=a+1\n",
    "c=b+1\n",
    "d=c+1\n",
    "t4=torch.rand(a,b,c,d)*100\n",
    "print(len(t4.flatten()))\n",
    "for i in range(1000):\n",
    "    t5=t4*t4\n",
    "#it took 27.7 sec to do 1000 like this\n"
   ]
  },
  {
   "cell_type": "code",
   "execution_count": 66,
   "metadata": {},
   "outputs": [],
   "source": [
    "for i in range(1000):\n",
    "    t5=torch.mul(t4,t4)"
   ]
  },
  {
   "cell_type": "markdown",
   "metadata": {},
   "source": [
    "1. it took 27.7 sec to do 1000 like this :t4*t4\n",
    "2. it took 26.9 sec to do 100 like torch.mul(t4,t4)\n",
    "3. conclusion : not  very big imporovment "
   ]
  },
  {
   "cell_type": "code",
   "execution_count": null,
   "metadata": {},
   "outputs": [],
   "source": []
  },
  {
   "cell_type": "code",
   "execution_count": 56,
   "metadata": {},
   "outputs": [
    {
     "name": "stdout",
     "output_type": "stream",
     "text": [
      "tensor([1, 2, 3, 4, 5, 6, 7, 8, 9])\n",
      "tensor([10, 11, 12, 13, 14, 15, 16, 17, 18])\n",
      "tensor([ 10,  22,  36,  52,  70,  90, 112, 136, 162])\n",
      "tensor([[ 10,  22,  36],\n",
      "        [ 52,  70,  90],\n",
      "        [112, 136, 162]])\n"
     ]
    }
   ],
   "source": [
    "a1=np.arange(1,10)\n",
    "a2=np.arange(10,19)\n",
    "t6=torch.tensor(a1)\n",
    "t7=torch.tensor(a2)\n",
    "t8=(torch.mul(t6,t7))\n",
    "print(f\"{t6}\\n{t7}\\n{t8}\")\n",
    "t9=t8.reshape(3,3)\n",
    "print(t9)\n"
   ]
  },
  {
   "cell_type": "code",
   "execution_count": 88,
   "metadata": {},
   "outputs": [
    {
     "name": "stdout",
     "output_type": "stream",
     "text": [
      "200\n",
      "tensor([[[0.2387, 0.9901, 0.6468, 0.0047, 0.7837, 0.1028, 0.7355, 0.9334,\n",
      "          0.9413, 0.1020, 0.3224, 0.4860, 0.4804, 0.6077, 0.9421, 0.9604,\n",
      "          0.2722, 0.0375, 0.7549, 0.8787, 0.6871, 0.9720, 0.5675, 0.7579,\n",
      "          0.8533],\n",
      "         [0.5496, 0.3905, 0.2124, 0.7106, 0.9708, 0.7095, 0.0430, 0.0179,\n",
      "          0.9948, 0.9496, 0.6738, 0.9580, 0.0908, 0.1362, 0.2170, 0.4295,\n",
      "          0.5510, 0.6583, 0.7039, 0.2153, 0.8372, 0.5144, 0.4806, 0.4492,\n",
      "          0.6686],\n",
      "         [0.9720, 0.9458, 0.5668, 0.3596, 0.5696, 0.5276, 0.7023, 0.0269,\n",
      "          0.3165, 0.5911, 0.4826, 0.6425, 0.1995, 0.9940, 0.0584, 0.5395,\n",
      "          0.5818, 0.8270, 0.9880, 0.1453, 0.3865, 0.7631, 0.8072, 0.5536,\n",
      "          0.8264],\n",
      "         [0.2096, 0.5483, 0.0627, 0.1791, 0.9504, 0.9812, 0.3072, 0.7723,\n",
      "          0.1112, 0.5921, 0.6282, 0.1994, 0.4380, 0.6960, 0.2500, 0.7323,\n",
      "          0.6575, 0.3030, 0.1322, 0.0202, 0.3967, 0.5767, 0.4232, 0.7945,\n",
      "          0.1025]],\n",
      "\n",
      "        [[0.5120, 0.8273, 0.3337, 0.1307, 0.5826, 0.2530, 0.0182, 0.9628,\n",
      "          0.9803, 0.0667, 0.3978, 0.4963, 0.0126, 0.2070, 0.1963, 0.9872,\n",
      "          0.9069, 0.6327, 0.2372, 0.8953, 0.9633, 0.0244, 0.3553, 0.5367,\n",
      "          0.5362],\n",
      "         [0.4223, 0.4253, 0.6206, 0.2342, 0.7501, 0.1343, 0.6096, 0.1856,\n",
      "          0.1426, 0.3300, 0.0932, 0.5127, 0.9344, 0.2056, 0.9911, 0.5881,\n",
      "          0.7284, 0.3476, 0.5430, 0.1739, 0.3711, 0.5368, 0.2999, 0.5099,\n",
      "          0.1281],\n",
      "         [0.5031, 0.3325, 0.4611, 0.6214, 0.2228, 0.7942, 0.8998, 0.4971,\n",
      "          0.0231, 0.3736, 0.8327, 0.1504, 0.7096, 0.2148, 0.0872, 0.8304,\n",
      "          0.6674, 0.1891, 0.4066, 0.0010, 0.3295, 0.3384, 0.2639, 0.1979,\n",
      "          0.4848],\n",
      "         [0.3355, 0.2106, 0.1079, 0.6512, 0.8082, 0.3360, 0.6852, 0.4789,\n",
      "          0.7586, 0.2472, 0.8866, 0.9727, 0.6934, 0.0143, 0.6892, 0.8566,\n",
      "          0.0034, 0.7111, 0.3977, 0.0716, 0.5112, 0.6045, 0.8145, 0.1909,\n",
      "          0.0258]]])\n"
     ]
    }
   ],
   "source": [
    "\n",
    "\n",
    "t10=torch.rand(1,8,25)\n",
    "print(num_of_elements(t10))\n",
    "t11=torch.rand(2,4,25)\n",
    "t12=t10.reshape_as(t11)\n",
    "print(t12)\n"
   ]
  },
  {
   "cell_type": "code",
   "execution_count": 108,
   "metadata": {},
   "outputs": [
    {
     "name": "stdout",
     "output_type": "stream",
     "text": [
      "tensor([[0.3997, 0.8162, 0.9719, 0.7677, 0.5502]])\n"
     ]
    }
   ],
   "source": [
    "t13=torch.rand(1,6)\n",
    "t14=torch.rand(6,5)\n",
    "# t14=t14.reshape_as(t13)\n",
    "print(torch.matmul(t13,t14))"
   ]
  }
 ],
 "metadata": {
  "kernelspec": {
   "display_name": "torch_env",
   "language": "python",
   "name": "python3"
  },
  "language_info": {
   "codemirror_mode": {
    "name": "ipython",
    "version": 3
   },
   "file_extension": ".py",
   "mimetype": "text/x-python",
   "name": "python",
   "nbconvert_exporter": "python",
   "pygments_lexer": "ipython3",
   "version": "3.10.12"
  },
  "orig_nbformat": 4
 },
 "nbformat": 4,
 "nbformat_minor": 2
}
