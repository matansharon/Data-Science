{
 "cells": [
  {
   "cell_type": "code",
   "execution_count": 14,
   "metadata": {},
   "outputs": [
    {
     "name": "stdout",
     "output_type": "stream",
     "text": [
      "\n"
     ]
    }
   ],
   "source": [
    "from PyPDF2 import PdfReader\n",
    "PATH='/Users/matansharon/python/Data_science/Machine Learning book/python-machine-learning-and-deep-learning-with-python-scikit-learn-and-tensorflow-2.pdf'\n",
    "\n",
    "reader = PdfReader(PATH)\n",
    "rpages=reader.pages\n",
    "pages=[]\n",
    "for page in rpages:\n",
    "    pages.append(page.extract_text())\n",
    "    \n",
    "print(pages[0])\n"
   ]
  },
  {
   "cell_type": "code",
   "execution_count": 16,
   "metadata": {},
   "outputs": [
    {
     "name": "stdout",
     "output_type": "stream",
     "text": [
      "Table of Contents[ iv ]Projecting new data points  183\n",
      "Kernel principal component analysis in scikit-learn  187\n",
      "Summary  188\n",
      "Chapter 6: Learning Best Practices for Model Evaluation \n",
      "and Hyperparameter Tuning  191\n",
      "Streamlining workflows with pipelines  191\n",
      "Loading the Breast Cancer Wisconsin dataset  192\n",
      "Combining transformers and estimators in a  pipeline  193\n",
      "Using k-fold cross-validation to assess model performance  195\n",
      "The holdout method  196\n",
      "K-fold cross-validation  197\n",
      "Debugging algorithms with learning and validation curves  201\n",
      "Diagnosing bias and variance problems with learning curves  201\n",
      "Addressing over- and underfitting with validation curves  205\n",
      "Fine-tuning machine learning models via  grid search  207\n",
      "Tuning hyperparameters via grid search  207\n",
      "Algorithm selection with nested cross-validation  209\n",
      "Looking at different performance evaluation metrics  211\n",
      "Reading a confusion matrix  211\n",
      "Optimizing the precision and recall of a  classification model  213\n",
      "Plotting a receiver operating characteristic  216\n",
      "Scoring metrics for multiclass classification  219\n",
      "Dealing with class imbalance  220\n",
      "Summary  222\n",
      "Chapter 7: Combining Different Models for Ensemble Learning  223\n",
      "Learning with ensembles  223\n",
      "Combining classifiers via majority vote  227\n",
      "Implementing a simple majority vote classifier  228\n",
      "Using the majority voting principle to make predictions  234\n",
      "Evaluating and tuning the ensemble classifier  237\n",
      "Bagging – building an ensemble of classifiers from  \n",
      "bootstrap samples  243\n",
      "Bagging in a nutshell  244\n",
      "Applying bagging to classify examples in the Wine dataset  245\n",
      "Leveraging weak learners via adaptive boosting  249\n",
      "How boosting works  250\n",
      "Applying AdaBoost using scikit-learn  254\n",
      "Summary  257\n",
      "Chapter 8: Applying Machine Learning to  Sentiment Analysis  259\n",
      "Preparing the IMDb movie review data for  text processing  259\n",
      "\n"
     ]
    }
   ],
   "source": [
    "\n"
   ]
  }
 ],
 "metadata": {
  "kernelspec": {
   "display_name": ".venv",
   "language": "python",
   "name": "python3"
  },
  "language_info": {
   "codemirror_mode": {
    "name": "ipython",
    "version": 3
   },
   "file_extension": ".py",
   "mimetype": "text/x-python",
   "name": "python",
   "nbconvert_exporter": "python",
   "pygments_lexer": "ipython3",
   "version": "3.10.11"
  }
 },
 "nbformat": 4,
 "nbformat_minor": 2
}
