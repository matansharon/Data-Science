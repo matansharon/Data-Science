{
 "cells": [
  {
   "cell_type": "code",
   "execution_count": 62,
   "metadata": {},
   "outputs": [],
   "source": [
    "class File:\n",
    "    import PyPDF2\n",
    "    import os\n",
    "    import pandas\n",
    "    def __init__(self,path):\n",
    "        self.path=path\n",
    "        self.type=path[-3:]\n",
    "        self.content=''\n",
    "        self.run()\n",
    "    \n",
    "    \n",
    "    def get_content(self):\n",
    "        if self.type=='pdf':\n",
    "            return self.get_pdf_content()\n",
    "        elif self.type=='txt':\n",
    "            return self.get_txt_content()\n",
    "        elif self.type=='csv':\n",
    "            return self.get_csv_content()\n",
    "        elif self.type=='xlsx':\n",
    "            return self.get_xlsx_content()\n",
    "        else:\n",
    "            return None\n",
    "    def get_pdf_content(self):\n",
    "        with open(self.path, 'rb') as file:\n",
    "            reader=self.PyPDF2.PdfReader(file)\n",
    "            text=\"\"\n",
    "            for i in range(len(reader.pages)):\n",
    "                text+=reader.pages[i].extract_text()\n",
    "            return text\n",
    "    def get_txt_content(self):\n",
    "        with open(self.path, 'r') as file:\n",
    "            return file.read()\n",
    "    def get_csv_content(self):\n",
    "        return self.pandas.read_csv(self.path)\n",
    "    def get_xlsx_content(self):\n",
    "        return self.pandas.read_excel(self.path)\n",
    "    def check_type(self):\n",
    "        if self.type=='pdf':\n",
    "            return 'pdf'\n",
    "        elif self.type=='txt':\n",
    "            return 'txt'\n",
    "        elif self.type=='csv':\n",
    "            return 'csv'\n",
    "        elif self.type=='xlsx':\n",
    "            return 'xlsx'\n",
    "        else:\n",
    "            return None\n",
    "    def run(self):\n",
    "        self.content=self.get_content()\n",
    "        self.type=self.check_type()\n",
    "        \n",
    "    \n",
    "        \n",
    "        \n",
    "        "
   ]
  },
  {
   "cell_type": "code",
   "execution_count": 63,
   "metadata": {},
   "outputs": [
    {
     "data": {
      "text/plain": [
       "'pdf'"
      ]
     },
     "execution_count": 63,
     "metadata": {},
     "output_type": "execute_result"
    }
   ],
   "source": [
    "path1='/Users/matansharon/Downloads/papers/instruct embedding.pdf'\n",
    "file1=File(path1)\n",
    "file1.get_content()\n",
    "file1.type"
   ]
  },
  {
   "cell_type": "code",
   "execution_count": null,
   "metadata": {},
   "outputs": [],
   "source": []
  }
 ],
 "metadata": {
  "kernelspec": {
   "display_name": ".venv",
   "language": "python",
   "name": "python3"
  },
  "language_info": {
   "codemirror_mode": {
    "name": "ipython",
    "version": 3
   },
   "file_extension": ".py",
   "mimetype": "text/x-python",
   "name": "python",
   "nbconvert_exporter": "python",
   "pygments_lexer": "ipython3",
   "version": "3.10.11"
  }
 },
 "nbformat": 4,
 "nbformat_minor": 2
}
