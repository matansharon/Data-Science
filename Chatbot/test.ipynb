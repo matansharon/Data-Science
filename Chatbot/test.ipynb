{
 "cells": [
  {
   "cell_type": "code",
   "execution_count": 22,
   "metadata": {},
   "outputs": [],
   "source": [
    "class File:\n",
    "    import PyPDF2\n",
    "    import os\n",
    "    import pandas\n",
    "    def __init__(self,path):\n",
    "        self.path=path\n",
    "        self.type=self.check_type()\n",
    "        self.content=self.get_content()\n",
    "    \n",
    "    \n",
    "    def get_content(self):\n",
    "        if self.type=='pdf':\n",
    "            return self.get_pdf_content()\n",
    "        elif self.type=='txt':\n",
    "            return self.get_txt_content()\n",
    "        elif self.type=='csv':\n",
    "            return self.get_csv_content()\n",
    "        elif self.type=='xlsx':\n",
    "            return self.get_xlsx_content()\n",
    "        else:\n",
    "            return None\n",
    "    def get_pdf_content(self):\n",
    "        with open(self.path, 'rb') as file:\n",
    "            reader=self.PyPDF2.PdfReader(file)\n",
    "            text=\"\"\n",
    "            for i in range(len(reader.pages)):\n",
    "                text+=reader.pages[i].extract_text()\n",
    "            return text\n",
    "    def get_txt_content(self):\n",
    "        with open(self.path, 'r') as file:\n",
    "            return file.read()\n",
    "    def get_csv_content(self):\n",
    "        return self.pandas.read_csv(self.path)\n",
    "    def get_xlsx_content(self):\n",
    "        return self.pandas.read_excel(self.path)\n",
    "    \n",
    "        \n",
    "        \n",
    "        \n",
    "    def check_type(self):\n",
    "        temp_end=self.path[:-4]\n",
    "        \n",
    "        if temp_end=='.pdf':\n",
    "            self.type='pdf'\n",
    "        elif temp_end=='.txt':\n",
    "            self.type='txt'\n",
    "        elif temp_end=='.csv':\n",
    "            self.type='csv'\n",
    "        elif temp_end=='.xlsx':\n",
    "            self.type='xlsx'\n",
    "        else:\n",
    "            self.type=''"
   ]
  },
  {
   "cell_type": "code",
   "execution_count": 26,
   "metadata": {},
   "outputs": [
    {
     "name": "stdout",
     "output_type": "stream",
     "text": [
      "None\n"
     ]
    }
   ],
   "source": [
    "path1='/Users/matansharon/Downloads/papers/instruct embedding.pdf'\n",
    "file1=File(path1)\n",
    "print(file1.type)"
   ]
  },
  {
   "cell_type": "code",
   "execution_count": null,
   "metadata": {},
   "outputs": [],
   "source": []
  }
 ],
 "metadata": {
  "kernelspec": {
   "display_name": ".venv",
   "language": "python",
   "name": "python3"
  },
  "language_info": {
   "codemirror_mode": {
    "name": "ipython",
    "version": 3
   },
   "file_extension": ".py",
   "mimetype": "text/x-python",
   "name": "python",
   "nbconvert_exporter": "python",
   "pygments_lexer": "ipython3",
   "version": "3.10.11"
  }
 },
 "nbformat": 4,
 "nbformat_minor": 2
}
