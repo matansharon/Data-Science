{
 "cells": [
  {
   "cell_type": "code",
   "execution_count": 3,
   "metadata": {},
   "outputs": [],
   "source": [
    "import os\n",
    "import datetime\n",
    "import pandas as pd"
   ]
  },
  {
   "cell_type": "code",
   "execution_count": 6,
   "metadata": {},
   "outputs": [
    {
     "ename": "FileNotFoundError",
     "evalue": "[Errno 2] No such file or directory: '.\\\\Data\\\\run3.csv'",
     "output_type": "error",
     "traceback": [
      "\u001b[0;31m---------------------------------------------------------------------------\u001b[0m",
      "\u001b[0;31mFileNotFoundError\u001b[0m                         Traceback (most recent call last)",
      "\u001b[1;32m/Users/matansharon/python/Data_science/Stryd/main.ipynb Cell 2\u001b[0m line \u001b[0;36m6\n\u001b[1;32m      <a href='vscode-notebook-cell:/Users/matansharon/python/Data_science/Stryd/main.ipynb#W1sZmlsZQ%3D%3D?line=3'>4</a>\u001b[0m \u001b[39m#filter out the files that are not .csv\u001b[39;00m\n\u001b[1;32m      <a href='vscode-notebook-cell:/Users/matansharon/python/Data_science/Stryd/main.ipynb#W1sZmlsZQ%3D%3D?line=4'>5</a>\u001b[0m files \u001b[39m=\u001b[39m [file \u001b[39mfor\u001b[39;00m file \u001b[39min\u001b[39;00m files \u001b[39mif\u001b[39;00m file[\u001b[39m-\u001b[39m\u001b[39m4\u001b[39m:] \u001b[39m==\u001b[39m \u001b[39m\"\u001b[39m\u001b[39m.csv\u001b[39m\u001b[39m\"\u001b[39m]\n\u001b[0;32m----> <a href='vscode-notebook-cell:/Users/matansharon/python/Data_science/Stryd/main.ipynb#W1sZmlsZQ%3D%3D?line=5'>6</a>\u001b[0m df1\u001b[39m=\u001b[39mpd\u001b[39m.\u001b[39;49mread_csv(\u001b[39m'\u001b[39;49m\u001b[39m.\u001b[39;49m\u001b[39m\\\u001b[39;49m\u001b[39mData\u001b[39;49m\u001b[39m\\\\\u001b[39;49;00m\u001b[39m'\u001b[39;49m\u001b[39m+\u001b[39;49mfiles[\u001b[39m0\u001b[39;49m])\n\u001b[1;32m      <a href='vscode-notebook-cell:/Users/matansharon/python/Data_science/Stryd/main.ipynb#W1sZmlsZQ%3D%3D?line=8'>9</a>\u001b[0m df1\u001b[39m.\u001b[39mtail()\n",
      "File \u001b[0;32m~/python/Data_science/.venv/lib/python3.10/site-packages/pandas/io/parsers/readers.py:948\u001b[0m, in \u001b[0;36mread_csv\u001b[0;34m(filepath_or_buffer, sep, delimiter, header, names, index_col, usecols, dtype, engine, converters, true_values, false_values, skipinitialspace, skiprows, skipfooter, nrows, na_values, keep_default_na, na_filter, verbose, skip_blank_lines, parse_dates, infer_datetime_format, keep_date_col, date_parser, date_format, dayfirst, cache_dates, iterator, chunksize, compression, thousands, decimal, lineterminator, quotechar, quoting, doublequote, escapechar, comment, encoding, encoding_errors, dialect, on_bad_lines, delim_whitespace, low_memory, memory_map, float_precision, storage_options, dtype_backend)\u001b[0m\n\u001b[1;32m    935\u001b[0m kwds_defaults \u001b[39m=\u001b[39m _refine_defaults_read(\n\u001b[1;32m    936\u001b[0m     dialect,\n\u001b[1;32m    937\u001b[0m     delimiter,\n\u001b[0;32m   (...)\u001b[0m\n\u001b[1;32m    944\u001b[0m     dtype_backend\u001b[39m=\u001b[39mdtype_backend,\n\u001b[1;32m    945\u001b[0m )\n\u001b[1;32m    946\u001b[0m kwds\u001b[39m.\u001b[39mupdate(kwds_defaults)\n\u001b[0;32m--> 948\u001b[0m \u001b[39mreturn\u001b[39;00m _read(filepath_or_buffer, kwds)\n",
      "File \u001b[0;32m~/python/Data_science/.venv/lib/python3.10/site-packages/pandas/io/parsers/readers.py:611\u001b[0m, in \u001b[0;36m_read\u001b[0;34m(filepath_or_buffer, kwds)\u001b[0m\n\u001b[1;32m    608\u001b[0m _validate_names(kwds\u001b[39m.\u001b[39mget(\u001b[39m\"\u001b[39m\u001b[39mnames\u001b[39m\u001b[39m\"\u001b[39m, \u001b[39mNone\u001b[39;00m))\n\u001b[1;32m    610\u001b[0m \u001b[39m# Create the parser.\u001b[39;00m\n\u001b[0;32m--> 611\u001b[0m parser \u001b[39m=\u001b[39m TextFileReader(filepath_or_buffer, \u001b[39m*\u001b[39;49m\u001b[39m*\u001b[39;49mkwds)\n\u001b[1;32m    613\u001b[0m \u001b[39mif\u001b[39;00m chunksize \u001b[39mor\u001b[39;00m iterator:\n\u001b[1;32m    614\u001b[0m     \u001b[39mreturn\u001b[39;00m parser\n",
      "File \u001b[0;32m~/python/Data_science/.venv/lib/python3.10/site-packages/pandas/io/parsers/readers.py:1448\u001b[0m, in \u001b[0;36mTextFileReader.__init__\u001b[0;34m(self, f, engine, **kwds)\u001b[0m\n\u001b[1;32m   1445\u001b[0m     \u001b[39mself\u001b[39m\u001b[39m.\u001b[39moptions[\u001b[39m\"\u001b[39m\u001b[39mhas_index_names\u001b[39m\u001b[39m\"\u001b[39m] \u001b[39m=\u001b[39m kwds[\u001b[39m\"\u001b[39m\u001b[39mhas_index_names\u001b[39m\u001b[39m\"\u001b[39m]\n\u001b[1;32m   1447\u001b[0m \u001b[39mself\u001b[39m\u001b[39m.\u001b[39mhandles: IOHandles \u001b[39m|\u001b[39m \u001b[39mNone\u001b[39;00m \u001b[39m=\u001b[39m \u001b[39mNone\u001b[39;00m\n\u001b[0;32m-> 1448\u001b[0m \u001b[39mself\u001b[39m\u001b[39m.\u001b[39m_engine \u001b[39m=\u001b[39m \u001b[39mself\u001b[39;49m\u001b[39m.\u001b[39;49m_make_engine(f, \u001b[39mself\u001b[39;49m\u001b[39m.\u001b[39;49mengine)\n",
      "File \u001b[0;32m~/python/Data_science/.venv/lib/python3.10/site-packages/pandas/io/parsers/readers.py:1705\u001b[0m, in \u001b[0;36mTextFileReader._make_engine\u001b[0;34m(self, f, engine)\u001b[0m\n\u001b[1;32m   1703\u001b[0m     \u001b[39mif\u001b[39;00m \u001b[39m\"\u001b[39m\u001b[39mb\u001b[39m\u001b[39m\"\u001b[39m \u001b[39mnot\u001b[39;00m \u001b[39min\u001b[39;00m mode:\n\u001b[1;32m   1704\u001b[0m         mode \u001b[39m+\u001b[39m\u001b[39m=\u001b[39m \u001b[39m\"\u001b[39m\u001b[39mb\u001b[39m\u001b[39m\"\u001b[39m\n\u001b[0;32m-> 1705\u001b[0m \u001b[39mself\u001b[39m\u001b[39m.\u001b[39mhandles \u001b[39m=\u001b[39m get_handle(\n\u001b[1;32m   1706\u001b[0m     f,\n\u001b[1;32m   1707\u001b[0m     mode,\n\u001b[1;32m   1708\u001b[0m     encoding\u001b[39m=\u001b[39;49m\u001b[39mself\u001b[39;49m\u001b[39m.\u001b[39;49moptions\u001b[39m.\u001b[39;49mget(\u001b[39m\"\u001b[39;49m\u001b[39mencoding\u001b[39;49m\u001b[39m\"\u001b[39;49m, \u001b[39mNone\u001b[39;49;00m),\n\u001b[1;32m   1709\u001b[0m     compression\u001b[39m=\u001b[39;49m\u001b[39mself\u001b[39;49m\u001b[39m.\u001b[39;49moptions\u001b[39m.\u001b[39;49mget(\u001b[39m\"\u001b[39;49m\u001b[39mcompression\u001b[39;49m\u001b[39m\"\u001b[39;49m, \u001b[39mNone\u001b[39;49;00m),\n\u001b[1;32m   1710\u001b[0m     memory_map\u001b[39m=\u001b[39;49m\u001b[39mself\u001b[39;49m\u001b[39m.\u001b[39;49moptions\u001b[39m.\u001b[39;49mget(\u001b[39m\"\u001b[39;49m\u001b[39mmemory_map\u001b[39;49m\u001b[39m\"\u001b[39;49m, \u001b[39mFalse\u001b[39;49;00m),\n\u001b[1;32m   1711\u001b[0m     is_text\u001b[39m=\u001b[39;49mis_text,\n\u001b[1;32m   1712\u001b[0m     errors\u001b[39m=\u001b[39;49m\u001b[39mself\u001b[39;49m\u001b[39m.\u001b[39;49moptions\u001b[39m.\u001b[39;49mget(\u001b[39m\"\u001b[39;49m\u001b[39mencoding_errors\u001b[39;49m\u001b[39m\"\u001b[39;49m, \u001b[39m\"\u001b[39;49m\u001b[39mstrict\u001b[39;49m\u001b[39m\"\u001b[39;49m),\n\u001b[1;32m   1713\u001b[0m     storage_options\u001b[39m=\u001b[39;49m\u001b[39mself\u001b[39;49m\u001b[39m.\u001b[39;49moptions\u001b[39m.\u001b[39;49mget(\u001b[39m\"\u001b[39;49m\u001b[39mstorage_options\u001b[39;49m\u001b[39m\"\u001b[39;49m, \u001b[39mNone\u001b[39;49;00m),\n\u001b[1;32m   1714\u001b[0m )\n\u001b[1;32m   1715\u001b[0m \u001b[39massert\u001b[39;00m \u001b[39mself\u001b[39m\u001b[39m.\u001b[39mhandles \u001b[39mis\u001b[39;00m \u001b[39mnot\u001b[39;00m \u001b[39mNone\u001b[39;00m\n\u001b[1;32m   1716\u001b[0m f \u001b[39m=\u001b[39m \u001b[39mself\u001b[39m\u001b[39m.\u001b[39mhandles\u001b[39m.\u001b[39mhandle\n",
      "File \u001b[0;32m~/python/Data_science/.venv/lib/python3.10/site-packages/pandas/io/common.py:863\u001b[0m, in \u001b[0;36mget_handle\u001b[0;34m(path_or_buf, mode, encoding, compression, memory_map, is_text, errors, storage_options)\u001b[0m\n\u001b[1;32m    858\u001b[0m \u001b[39melif\u001b[39;00m \u001b[39misinstance\u001b[39m(handle, \u001b[39mstr\u001b[39m):\n\u001b[1;32m    859\u001b[0m     \u001b[39m# Check whether the filename is to be opened in binary mode.\u001b[39;00m\n\u001b[1;32m    860\u001b[0m     \u001b[39m# Binary mode does not support 'encoding' and 'newline'.\u001b[39;00m\n\u001b[1;32m    861\u001b[0m     \u001b[39mif\u001b[39;00m ioargs\u001b[39m.\u001b[39mencoding \u001b[39mand\u001b[39;00m \u001b[39m\"\u001b[39m\u001b[39mb\u001b[39m\u001b[39m\"\u001b[39m \u001b[39mnot\u001b[39;00m \u001b[39min\u001b[39;00m ioargs\u001b[39m.\u001b[39mmode:\n\u001b[1;32m    862\u001b[0m         \u001b[39m# Encoding\u001b[39;00m\n\u001b[0;32m--> 863\u001b[0m         handle \u001b[39m=\u001b[39m \u001b[39mopen\u001b[39;49m(\n\u001b[1;32m    864\u001b[0m             handle,\n\u001b[1;32m    865\u001b[0m             ioargs\u001b[39m.\u001b[39;49mmode,\n\u001b[1;32m    866\u001b[0m             encoding\u001b[39m=\u001b[39;49mioargs\u001b[39m.\u001b[39;49mencoding,\n\u001b[1;32m    867\u001b[0m             errors\u001b[39m=\u001b[39;49merrors,\n\u001b[1;32m    868\u001b[0m             newline\u001b[39m=\u001b[39;49m\u001b[39m\"\u001b[39;49m\u001b[39m\"\u001b[39;49m,\n\u001b[1;32m    869\u001b[0m         )\n\u001b[1;32m    870\u001b[0m     \u001b[39melse\u001b[39;00m:\n\u001b[1;32m    871\u001b[0m         \u001b[39m# Binary mode\u001b[39;00m\n\u001b[1;32m    872\u001b[0m         handle \u001b[39m=\u001b[39m \u001b[39mopen\u001b[39m(handle, ioargs\u001b[39m.\u001b[39mmode)\n",
      "\u001b[0;31mFileNotFoundError\u001b[0m: [Errno 2] No such file or directory: '.\\\\Data\\\\run3.csv'"
     ]
    }
   ],
   "source": [
    "#get all the files in the data directory\n",
    "files = os.listdir(\"Data\")\n",
    "\n",
    "#filter out the files that are not .csv\n",
    "files = [file for file in files if file[-4:] == \".csv\"]\n",
    "df1=pd.read_csv('.\\Data\\\\'+files[0])\n",
    "\n",
    "\n",
    "df1.tail()"
   ]
  },
  {
   "cell_type": "code",
   "execution_count": 49,
   "metadata": {},
   "outputs": [
    {
     "data": {
      "text/html": [
       "<div>\n",
       "<style scoped>\n",
       "    .dataframe tbody tr th:only-of-type {\n",
       "        vertical-align: middle;\n",
       "    }\n",
       "\n",
       "    .dataframe tbody tr th {\n",
       "        vertical-align: top;\n",
       "    }\n",
       "\n",
       "    .dataframe thead th {\n",
       "        text-align: right;\n",
       "    }\n",
       "</style>\n",
       "<table border=\"1\" class=\"dataframe\">\n",
       "  <thead>\n",
       "    <tr style=\"text-align: right;\">\n",
       "      <th></th>\n",
       "      <th>Timestamp</th>\n",
       "      <th>Power (w/kg)</th>\n",
       "      <th>Form Power (w/kg)</th>\n",
       "      <th>Air Power (w/kg)</th>\n",
       "      <th>Watch Speed (m/s)</th>\n",
       "      <th>Stryd Speed (m/s)</th>\n",
       "      <th>Watch Distance (meters)</th>\n",
       "      <th>Stryd Distance (meters)</th>\n",
       "      <th>Stiffness</th>\n",
       "      <th>Stiffness/kg</th>\n",
       "      <th>Ground Time (ms)</th>\n",
       "      <th>Cadence (spm)</th>\n",
       "      <th>Vertical Oscillation (cm)</th>\n",
       "      <th>Watch Elevation (m)</th>\n",
       "      <th>Stryd Elevation (m)</th>\n",
       "    </tr>\n",
       "  </thead>\n",
       "  <tbody>\n",
       "    <tr>\n",
       "      <th>0</th>\n",
       "      <td>1692672351</td>\n",
       "      <td>0.000000</td>\n",
       "      <td>0.000000</td>\n",
       "      <td>0.000000</td>\n",
       "      <td>0.00000</td>\n",
       "      <td>0.00000</td>\n",
       "      <td>0</td>\n",
       "      <td>0</td>\n",
       "      <td>0.000</td>\n",
       "      <td>0.000000</td>\n",
       "      <td>0</td>\n",
       "      <td>0</td>\n",
       "      <td>0.0</td>\n",
       "      <td>733.26</td>\n",
       "      <td>733.26</td>\n",
       "    </tr>\n",
       "    <tr>\n",
       "      <th>1</th>\n",
       "      <td>1692672352</td>\n",
       "      <td>2.712329</td>\n",
       "      <td>0.821918</td>\n",
       "      <td>0.000000</td>\n",
       "      <td>2.65625</td>\n",
       "      <td>2.65625</td>\n",
       "      <td>0</td>\n",
       "      <td>0</td>\n",
       "      <td>0.000</td>\n",
       "      <td>0.000000</td>\n",
       "      <td>0</td>\n",
       "      <td>0</td>\n",
       "      <td>0.0</td>\n",
       "      <td>733.26</td>\n",
       "      <td>733.26</td>\n",
       "    </tr>\n",
       "    <tr>\n",
       "      <th>2</th>\n",
       "      <td>1692672353</td>\n",
       "      <td>3.082192</td>\n",
       "      <td>0.917808</td>\n",
       "      <td>0.000000</td>\n",
       "      <td>2.81641</td>\n",
       "      <td>2.81641</td>\n",
       "      <td>0</td>\n",
       "      <td>0</td>\n",
       "      <td>0.000</td>\n",
       "      <td>0.000000</td>\n",
       "      <td>862</td>\n",
       "      <td>170</td>\n",
       "      <td>24.9</td>\n",
       "      <td>731.83</td>\n",
       "      <td>731.83</td>\n",
       "    </tr>\n",
       "    <tr>\n",
       "      <th>3</th>\n",
       "      <td>1692672354</td>\n",
       "      <td>3.493151</td>\n",
       "      <td>1.027397</td>\n",
       "      <td>0.013699</td>\n",
       "      <td>3.07422</td>\n",
       "      <td>3.07422</td>\n",
       "      <td>4</td>\n",
       "      <td>4</td>\n",
       "      <td>14.000</td>\n",
       "      <td>0.191781</td>\n",
       "      <td>218</td>\n",
       "      <td>174</td>\n",
       "      <td>7.7</td>\n",
       "      <td>730.65</td>\n",
       "      <td>730.65</td>\n",
       "    </tr>\n",
       "    <tr>\n",
       "      <th>4</th>\n",
       "      <td>1692672355</td>\n",
       "      <td>3.164384</td>\n",
       "      <td>1.000000</td>\n",
       "      <td>0.013699</td>\n",
       "      <td>3.00391</td>\n",
       "      <td>3.00391</td>\n",
       "      <td>6</td>\n",
       "      <td>6</td>\n",
       "      <td>13.875</td>\n",
       "      <td>0.190068</td>\n",
       "      <td>222</td>\n",
       "      <td>174</td>\n",
       "      <td>7.6</td>\n",
       "      <td>730.60</td>\n",
       "      <td>730.60</td>\n",
       "    </tr>\n",
       "  </tbody>\n",
       "</table>\n",
       "</div>"
      ],
      "text/plain": [
       "    Timestamp  Power (w/kg)  Form Power (w/kg)  Air Power (w/kg)  \\\n",
       "0  1692672351      0.000000           0.000000          0.000000   \n",
       "1  1692672352      2.712329           0.821918          0.000000   \n",
       "2  1692672353      3.082192           0.917808          0.000000   \n",
       "3  1692672354      3.493151           1.027397          0.013699   \n",
       "4  1692672355      3.164384           1.000000          0.013699   \n",
       "\n",
       "   Watch Speed (m/s)  Stryd Speed (m/s)  Watch Distance (meters)  \\\n",
       "0            0.00000            0.00000                        0   \n",
       "1            2.65625            2.65625                        0   \n",
       "2            2.81641            2.81641                        0   \n",
       "3            3.07422            3.07422                        4   \n",
       "4            3.00391            3.00391                        6   \n",
       "\n",
       "   Stryd Distance (meters)  Stiffness  Stiffness/kg  Ground Time (ms)  \\\n",
       "0                        0      0.000      0.000000                 0   \n",
       "1                        0      0.000      0.000000                 0   \n",
       "2                        0      0.000      0.000000               862   \n",
       "3                        4     14.000      0.191781               218   \n",
       "4                        6     13.875      0.190068               222   \n",
       "\n",
       "   Cadence (spm)  Vertical Oscillation (cm)  Watch Elevation (m)  \\\n",
       "0              0                        0.0               733.26   \n",
       "1              0                        0.0               733.26   \n",
       "2            170                       24.9               731.83   \n",
       "3            174                        7.7               730.65   \n",
       "4            174                        7.6               730.60   \n",
       "\n",
       "   Stryd Elevation (m)  \n",
       "0               733.26  \n",
       "1               733.26  \n",
       "2               731.83  \n",
       "3               730.65  \n",
       "4               730.60  "
      ]
     },
     "execution_count": 49,
     "metadata": {},
     "output_type": "execute_result"
    }
   ],
   "source": [
    "\n",
    "# df1['Timestamp'] = df1['Timestamp'].apply(lambda x: datetime.datetime.fromtimestamp(x))\n",
    "df1.head()"
   ]
  },
  {
   "cell_type": "code",
   "execution_count": 50,
   "metadata": {},
   "outputs": [
    {
     "name": "stdout",
     "output_type": "stream",
     "text": [
      "Total time of the run: 1:19:57\n"
     ]
    }
   ],
   "source": [
    "#get the total time of the run\n",
    "total_time = df1['Timestamp'].iloc[-1] - df1['Timestamp'].iloc[0]\n",
    "h=int(total_time/3600)\n",
    "m=int((total_time-h*3600)/60)\n",
    "s=int(total_time-h*3600-m*60)\n",
    "print(\"Total time of the run: {}:{}:{}\".format(h,m,s))"
   ]
  },
  {
   "cell_type": "code",
   "execution_count": 56,
   "metadata": {},
   "outputs": [
    {
     "name": "stdout",
     "output_type": "stream",
     "text": [
      "Total power of the run: 960989.9178082192\n",
      "Total form power of the run: 4322.945205479452\n"
     ]
    }
   ],
   "source": [
    "#make the sum of the power column\n",
    "total_power = df1['Power (w/kg)'].sum()*72\n",
    "print(\"Total power of the run: {}\".format(total_power))\n",
    "form_power=df1['Form Power (w/kg)'].sum()\n",
    "print(\"Total form power of the run: {}\".format(form_power))"
   ]
  },
  {
   "cell_type": "code",
   "execution_count": 22,
   "metadata": {},
   "outputs": [
    {
     "name": "stdout",
     "output_type": "stream",
     "text": [
      "0       1.240000\n",
      "1       1.240000\n",
      "2       1.480000\n",
      "3       2.133333\n",
      "4       2.400000\n",
      "          ...   \n",
      "7992    3.040000\n",
      "7993    3.040000\n",
      "7994    3.053333\n",
      "7995    3.026667\n",
      "7996    2.960000\n",
      "Name: Power (w/kg), Length: 7997, dtype: float64\n"
     ]
    },
    {
     "data": {
      "text/plain": [
       "0.1766757667302938"
      ]
     },
     "execution_count": 22,
     "metadata": {},
     "output_type": "execute_result"
    }
   ],
   "source": [
    "df1=pd.read_csv('/Users/matansharon/python/Data_science/Stryd/Data/run3.csv')\n",
    "\n",
    "power=df1['Power (w/kg)']\n",
    "print(power)\n",
    "#write the power to a text file \n",
    "# for i in power:\n",
    "#     f = open(\"power.txt\", \"a\")\n",
    "#     f.write(str(i)+'\\n')\n",
    "#     f.close()\n",
    "\n",
    "#calculate the varinece of power\n",
    "variance = power.var()\n",
    "\n",
    "variance\n",
    "#explaning the variance\n"
   ]
  },
  {
   "cell_type": "code",
   "execution_count": 18,
   "metadata": {},
   "outputs": [
    {
     "data": {
      "image/png": "[encoded data removed]",
      "text/plain": [
       "<Figure size 640x480 with 1 Axes>"
      ]
     },
     "metadata": {},
     "output_type": "display_data"
    }
   ],
   "source": [
    "import matplotlib.pyplot as plt\n",
    "\n",
    "plt.hist(power, bins=30, alpha=0.5, color='g')\n",
    "plt.xlabel('Power (w/kg)')\n",
    "plt.ylabel('Frequency')\n",
    "plt.title('Histogram of Power')\n",
    "plt.grid(True)\n",
    "plt.show()"
   ]
  },
  {
   "cell_type": "code",
   "execution_count": 19,
   "metadata": {},
   "outputs": [
    {
     "data": {
      "image/png": "[encoded data removed]",
      "text/plain": [
       "<Figure size 640x480 with 2 Axes>"
      ]
     },
     "metadata": {},
     "output_type": "display_data"
    }
   ],
   "source": [
    "import numpy as np\n",
    "import matplotlib.pyplot as plt\n",
    "\n",
    "# Generate data with small variance\n",
    "small_variance = np.random.normal(0, 1, 1000)\n",
    "\n",
    "# Generate data with large variance\n",
    "large_variance = np.random.normal(0, 10, 1000)\n",
    "\n",
    "# Plot histograms\n",
    "fig, axs = plt.subplots(2)\n",
    "\n",
    "axs[0].hist(small_variance, bins=30, alpha=0.5, color='g')\n",
    "axs[0].set_title('Histogram of data with small variance')\n",
    "\n",
    "axs[1].hist(large_variance, bins=30, alpha=0.5, color='b')\n",
    "axs[1].set_title('Histogram of data with large variance')\n",
    "\n",
    "plt.tight_layout()\n",
    "plt.show()"
   ]
  },
  {
   "cell_type": "code",
   "execution_count": 6,
   "metadata": {},
   "outputs": [
    {
     "name": "stdout",
     "output_type": "stream",
     "text": [
      "0.1766757667302938\n",
      "0.15413716832633512\n",
      "0.12650015347113752\n"
     ]
    }
   ],
   "source": [
    "import os\n",
    "import pandas as pd\n",
    "dfs=[]\n",
    "files=os.listdir(os.getcwd())\n",
    "for file in files:\n",
    "    if file.endswith('.csv'):\n",
    "        df=pd.read_csv(file)\n",
    "        dfs.append(df)\n",
    "for df in dfs:\n",
    "    print(df['Power (w/kg)'].var())"
   ]
  }
 ],
 "metadata": {
  "kernelspec": {
   "display_name": "ai",
   "language": "python",
   "name": "python3"
  },
  "language_info": {
   "codemirror_mode": {
    "name": "ipython",
    "version": 3
   },
   "file_extension": ".py",
   "mimetype": "text/x-python",
   "name": "python",
   "nbconvert_exporter": "python",
   "pygments_lexer": "ipython3",
   "version": "3.10.11"
  },
  "orig_nbformat": 4
 },
 "nbformat": 4,
 "nbformat_minor": 2
}
