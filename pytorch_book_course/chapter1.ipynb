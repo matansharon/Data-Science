{
 "cells": [
  {
   "cell_type": "code",
   "execution_count": 38,
   "metadata": {},
   "outputs": [
    {
     "name": "stdout",
     "output_type": "stream",
     "text": [
      "False\n",
      "tensor([[0.8835, 0.8311],\n",
      "        [0.2414, 0.9528]])\n"
     ]
    }
   ],
   "source": [
    "import torch\n",
    "import numpy as np\n",
    "print(torch.cuda.is_available()) \n",
    "print(torch.rand(2,2))"
   ]
  },
  {
   "cell_type": "code",
   "execution_count": 57,
   "metadata": {},
   "outputs": [
    {
     "name": "stdout",
     "output_type": "stream",
     "text": [
      "<class 'torch.Tensor'>\n"
     ]
    },
    {
     "data": {
      "text/plain": [
       "tensor([[[[7., 3., 7., 9., 0.],\n",
       "          [7., 9., 8., 9., 3.],\n",
       "          [7., 0., 8., 6., 7.],\n",
       "          [3., 7., 7., 6., 4.]],\n",
       "\n",
       "         [[1., 3., 0., 2., 0.],\n",
       "          [1., 7., 3., 3., 1.],\n",
       "          [3., 4., 1., 2., 1.],\n",
       "          [7., 3., 5., 4., 5.]],\n",
       "\n",
       "         [[9., 7., 3., 1., 0.],\n",
       "          [5., 3., 5., 5., 8.],\n",
       "          [8., 8., 0., 5., 7.],\n",
       "          [9., 6., 4., 6., 1.]]],\n",
       "\n",
       "\n",
       "        [[[2., 7., 1., 4., 4.],\n",
       "          [4., 3., 6., 6., 7.],\n",
       "          [3., 3., 0., 3., 1.],\n",
       "          [0., 9., 1., 2., 5.]],\n",
       "\n",
       "         [[7., 2., 2., 5., 5.],\n",
       "          [5., 9., 5., 8., 1.],\n",
       "          [9., 3., 5., 2., 4.],\n",
       "          [7., 4., 3., 8., 4.]],\n",
       "\n",
       "         [[1., 0., 2., 1., 5.],\n",
       "          [8., 3., 4., 5., 3.],\n",
       "          [0., 1., 4., 9., 8.],\n",
       "          [7., 0., 2., 6., 1.]]]])"
      ]
     },
     "execution_count": 57,
     "metadata": {},
     "output_type": "execute_result"
    }
   ],
   "source": [
    "import math\n",
    "x=torch.rand([2,3,4,5])*10\n",
    "print(type(x))\n",
    "y=torch.tensor([1,2])\n",
    "dims=x.shape\n",
    "x1=x.flatten()\n",
    "\n",
    "for i in range(len(x1)):\n",
    "    x1[i]=math.floor(x1[i])\n",
    "x2=torch.Tensor(x1)\n",
    "x2=x2.reshape(2,3,4,5)\n",
    "x2"
   ]
  },
  {
   "cell_type": "code",
   "execution_count": 80,
   "metadata": {},
   "outputs": [
    {
     "name": "stdout",
     "output_type": "stream",
     "text": [
      "tensor([[2, 2, 5]])\n",
      "tensor([[3, 8, 9],\n",
      "        [7, 7, 8],\n",
      "        [2, 2, 4]])\n",
      "tensor([[ 5, 10, 14],\n",
      "        [ 9,  9, 13],\n",
      "        [ 4,  4,  9]])\n"
     ]
    }
   ],
   "source": [
    "t1=torch.randint(1,10,(1,3))\n",
    "t2=torch.randint(1,10,(3,3))\n",
    "print(t1)\n",
    "print(t2)\n",
    "print(t1+t2)"
   ]
  }
 ],
 "metadata": {
  "kernelspec": {
   "display_name": "torch_env",
   "language": "python",
   "name": "python3"
  },
  "language_info": {
   "codemirror_mode": {
    "name": "ipython",
    "version": 3
   },
   "file_extension": ".py",
   "mimetype": "text/x-python",
   "name": "python",
   "nbconvert_exporter": "python",
   "pygments_lexer": "ipython3",
   "version": "3.10.12"
  },
  "orig_nbformat": 4
 },
 "nbformat": 4,
 "nbformat_minor": 2
}
