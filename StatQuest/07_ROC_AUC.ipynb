{
 "cells": [
  {
   "cell_type": "markdown",
   "metadata": {},
   "source": [
    "## Key Concepts of ROC and AUC in Logistic Regression\n",
    "\n",
    "1. **Logistic Regression for Classification:**\n",
    "   - Logistic regression models predict the probability of a class (e.g., 'obese' vs 'not obese').\n",
    "   - A threshold, often set at 0.5, is used to classify samples based on these predicted probabilities.\n",
    "\n",
    "2. **Creating Confusion Matrices for Different Thresholds:**\n",
    "   - Adjusting the threshold for classification leads to different sets of predictions and consequently different confusion matrices.\n",
    "   - From these matrices, we calculate Sensitivity (True Positive Rate) and Specificity (1 - False Positive Rate).\n",
    "\n",
    "3. **ROC Curves:**\n",
    "   - The Receiver Operating Characteristic (ROC) curve plots the True Positive Rate (Sensitivity) against the False Positive Rate (1 - Specificity) for various thresholds.\n",
    "   - Each point on the ROC curve represents a sensitivity/specificity trade-off for a particular threshold.\n",
    "\n",
    "4. **Area Under the Curve (AUC):**\n",
    "   - The Area Under the Curve (AUC) provides a single, aggregate measure of the entire ROC curve.\n",
    "   - A higher AUC value indicates better model performance, with a value of 1.0 representing a perfect model and 0.5 representing a model with no discriminative ability.\n",
    "\n",
    "By varying the threshold and observing the changes in the ROC curve and AUC, we can gain insights into the trade-offs between correctly identifying true positives and incorrectly labeling negatives as positives. This evaluation method is crucial in fields where the costs of false positives and false negatives carry different weights.\n"
   ]
  },
  {
   "cell_type": "code",
   "execution_count": null,
   "metadata": {},
   "outputs": [],
   "source": [
    "import numpy as np\n",
    "import matplotlib.pyplot as plt\n",
    "from sklearn.datasets import make_classification\n",
    "from sklearn.linear_model import LogisticRegression\n",
    "from sklearn.metrics import roc_curve, auc\n",
    "\n",
    "# Create a synthetic dataset\n",
    "X, y = make_classification(n_samples=1000, n_features=2, n_classes=2, random_state=42)\n",
    "\n",
    "# Logistic Regression Model\n",
    "model = LogisticRegression()\n",
    "model.fit(X, y)\n",
    "\n",
    "# Predict probabilities\n",
    "y_probs = model.predict_proba(X)[:, 1]\n",
    "\n",
    "# Calculate ROC Curve and AUC\n",
    "fpr, tpr, thresholds = roc_curve(y, y_probs)\n",
    "roc_auc = auc(fpr, tpr)\n",
    "\n",
    "# Plot ROC Curve\n",
    "plt.figure()\n",
    "plt.plot(fpr, tpr, color='darkorange', lw=2, label=f'ROC curve (area = {roc_auc:.2f})')\n",
    "plt.plot([0, 1], [0, 1], color='navy', lw=2, linestyle='--')\n",
    "plt.xlim([0.0, 1.0])\n",
    "plt.ylim([0.0, 1.05])\n",
    "plt.xlabel('False Positive Rate')\n",
    "plt.ylabel('True Positive Rate')\n",
    "plt.title('Receiver Operating Characteristic')\n",
    "plt.legend(loc=\"lower right\")\n",
    "plt.show()\n"
   ]
  }
 ],
 "metadata": {
  "language_info": {
   "name": "python"
  }
 },
 "nbformat": 4,
 "nbformat_minor": 2
}
