{
 "cells": [
  {
   "cell_type": "code",
   "execution_count": 13,
   "metadata": {},
   "outputs": [
    {
     "name": "stdout",
     "output_type": "stream",
     "text": [
      "[TextBlock(text='שלום! אני שמח לעזור לך. מה אפשר לעזור לך?', type='text')]\n"
     ]
    }
   ],
   "source": [
    "import anthropic\n",
    "import os\n",
    "from dotenv import load_dotenv\n",
    "load_dotenv()\n",
    "client = anthropic.Anthropic(\n",
    "    # defaults to os.environ.get(\"ANTHROPIC_API_KEY\")\n",
    "    api_key=os.environ.get(\"ANTHROPIC_API_KEY\"),\n",
    ")\n",
    "# print(client.api_key)\n",
    "message = client.messages.create(\n",
    "    model=\"claude-3-haiku-20240307\",\n",
    "    max_tokens=1000,\n",
    "    temperature=0.0,\n",
    "    system=\"translate the input into English and respond in Hebrew\",\n",
    "    messages=[\n",
    "        {\"role\": \"user\", \"content\": \"מה קורה?\"}\n",
    "    ]\n",
    ")\n",
    "\n",
    "print(message.content)"
   ]
  },
  {
   "cell_type": "code",
   "execution_count": 18,
   "metadata": {},
   "outputs": [],
   "source": [
    "def get_response(input):\n",
    "    message = client.messages.create(\n",
    "        model=\"claude-3-haiku-20240307\",\n",
    "        max_tokens=1000,\n",
    "        temperature=0.0,\n",
    "        system=\"answer in Hebrew to the user question\",\n",
    "        messages=[\n",
    "            {\"role\": \"user\", \"content\": input}\n",
    "        ]\n",
    "    )\n",
    "    return message.content"
   ]
  },
  {
   "cell_type": "code",
   "execution_count": 20,
   "metadata": {},
   "outputs": [
    {
     "name": "stdout",
     "output_type": "stream",
     "text": [
      "[TextBlock(text='להלן סיכום של המלחמה בין ישראל וחמאס בשנת 2023:\\n\\n• הסלמה החלה בעקבות עימותים באזור ירושלים והר הבית, שהובילו לעימותים צבאיים בין ישראל לחמאס ברצועת עזה.\\n\\n• חמאס ירה מאות רקטות לעבר ערים בישראל, בעוד ישראל תקפה מטרות צבאיות ברצועה בתגובה.\\n\\n• הלחימה נמשכה כשבועיים, תוך הרס נרחב בעזה והרוגים משני הצדדים. ישראל הפעילה את מערכת ההגנה האווירית \"כיפת ברזל\" להתמודדות עם הרקטות.\\n\\n• בסופו של דבר, הושג הסכם הפסקת אש בתיווך בינלאומי. הצדדים הסכימו על הפסקת אש, תמורת הקלות על המצור הישראלי על עזה ושיקום התשתיות שנהרסו.\\n\\n• המלחמה הביאה לנזקים כבדים בעזה ואבדות אנושיות משני הצדדים, אך לא הובילה לפריצת דרך משמעותית בסכסוך הישראלי-פלסטיני.', type='text')]\n"
     ]
    }
   ],
   "source": [
    "print(get_response(\"ספר לי על המלחמה של ישראל וחמאס בשנת 2023\"))"
   ]
  },
  {
   "cell_type": "code",
   "execution_count": 14,
   "metadata": {},
   "outputs": [],
   "source": [
    "def translate_into_hebrew(input_text):\n",
    "    message = client.messages.create(\n",
    "        model=\"claude-3-haiku-20240307\",\n",
    "        max_tokens=4000,\n",
    "        temperature=0.0,\n",
    "        system=\"translate the input into Hebrew return the translated text\",\n",
    "        messages=[\n",
    "            {\"role\": \"user\", \"content\": input_text}\n",
    "        ]\n",
    "    )\n",
    "    return message.content"
   ]
  },
  {
   "cell_type": "code",
   "execution_count": 15,
   "metadata": {},
   "outputs": [],
   "source": [
    "import PyPDF2\n",
    "def read_pdf_file(file_path):\n",
    "    reader=PyPDF2.PdfReader(file_path)\n",
    "    pages=[]\n",
    "    for page in reader.pages:\n",
    "        pages.append(page.extract_text())\n",
    "    return pages\n"
   ]
  },
  {
   "cell_type": "code",
   "execution_count": 16,
   "metadata": {},
   "outputs": [],
   "source": [
    "pages=read_pdf_file(\"/Users/matansharon/python/Data_science/some tests/ivrit_ai.pdf\")"
   ]
  },
  {
   "cell_type": "code",
   "execution_count": 17,
   "metadata": {},
   "outputs": [],
   "source": [
    "translated_text=translate_into_hebrew(pages[2])"
   ]
  },
  {
   "cell_type": "code",
   "execution_count": null,
   "metadata": {},
   "outputs": [],
   "source": [
    "print(translated_text[0].text)"
   ]
  }
 ],
 "metadata": {
  "kernelspec": {
   "display_name": ".venv",
   "language": "python",
   "name": "python3"
  },
  "language_info": {
   "codemirror_mode": {
    "name": "ipython",
    "version": 3
   },
   "file_extension": ".py",
   "mimetype": "text/x-python",
   "name": "python",
   "nbconvert_exporter": "python",
   "pygments_lexer": "ipython3",
   "version": "3.10.11"
  }
 },
 "nbformat": 4,
 "nbformat_minor": 2
}
