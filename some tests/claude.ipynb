{
 "cells": [
  {
   "cell_type": "code",
   "execution_count": null,
   "metadata": {},
   "outputs": [],
   "source": [
    "import anthropic\n",
    "import os\n",
    "from groq import Groq\n",
    "\n",
    "# print(os.getenv(\"ANTHROPIC_API_KEY\"))\n",
    "claude_client = anthropic.Anthropic(\n",
    "    # defaults to os.environ.get(\"ANTHROPIC_API_KEY\")\n",
    "    api_key=os.environ.get(\"ANTHROPIC_API_KEY\"),\n",
    ")\n",
    "groq_client = Groq(\n",
    "        api_key=os.environ.get(\"GROQ_API_KEY\"),\n",
    "    )\n"
   ]
  },
  {
   "cell_type": "code",
   "execution_count": null,
   "metadata": {},
   "outputs": [],
   "source": [
    "def translate_into_hebrew(input_text):\n",
    "    message = claude_client.messages.create(\n",
    "        model=\"claude-3-opus-20240229\",\n",
    "        max_tokens=4000,\n",
    "        temperature=0.0,\n",
    "        system=\"translate the input into Hebrew return the translated text\",\n",
    "        messages=[\n",
    "            {\"role\": \"user\", \"content\": input_text}\n",
    "        ]\n",
    "    )\n",
    "    return message.content"
   ]
  },
  {
   "cell_type": "code",
   "execution_count": null,
   "metadata": {},
   "outputs": [],
   "source": [
    "def translate_into_english(input_text):\n",
    "    message = claude_client.messages.create(\n",
    "        model=\"claude-3-opus-20240229\",\n",
    "        max_tokens=4000,\n",
    "        temperature=0.0,\n",
    "        system=\"translate the input into English return the translated text\",\n",
    "        messages=[\n",
    "            {\"role\": \"user\", \"content\": input_text}\n",
    "        ]\n",
    "    )\n",
    "    return message.content"
   ]
  },
  {
   "cell_type": "code",
   "execution_count": null,
   "metadata": {},
   "outputs": [],
   "source": [
    "import PyPDF2\n",
    "def read_pdf_file(file_path):\n",
    "    reader=PyPDF2.PdfReader(file_path)\n",
    "    pages=[]\n",
    "    for page in reader.pages:\n",
    "        pages.append(page.extract_text())\n",
    "    return pages\n"
   ]
  },
  {
   "cell_type": "code",
   "execution_count": null,
   "metadata": {},
   "outputs": [],
   "source": [
    "pages=read_pdf_file(\"cleaning_sop.pdf\")"
   ]
  },
  {
   "cell_type": "code",
   "execution_count": null,
   "metadata": {},
   "outputs": [],
   "source": [
    "print(pages[2])"
   ]
  },
  {
   "cell_type": "code",
   "execution_count": 21,
   "metadata": {},
   "outputs": [],
   "source": [
    "translated_text=[]\n",
    "for page in pages:\n",
    "    res=translate_into_english(page)\n",
    "    translated_text.append(res[0].text)"
   ]
  },
  {
   "cell_type": "code",
   "execution_count": 26,
   "metadata": {},
   "outputs": [],
   "source": [
    "def summerize_pages(pages):\n",
    "    res=[]\n",
    "    for page in pages:\n",
    "        chat_completion = groq_client.chat.completions.create(\n",
    "            messages=[\n",
    "                {\n",
    "                    \"role\": \"user\",\n",
    "                    \"content\": \"summarize the following text: \"+page,\n",
    "                }\n",
    "            ],\n",
    "            # model=\"mixtral-8x7b-32768\"\n",
    "            model=\"llama3-70b-8192\",\n",
    "        )\n",
    "        res.append(chat_completion.choices[0].message.content)\n",
    "    return res"
   ]
  },
  {
   "cell_type": "code",
   "execution_count": 33,
   "metadata": {},
   "outputs": [],
   "source": [
    "def summerize_text(text):\n",
    "    chat_completion = groq_client.chat.completions.create(\n",
    "        messages=[\n",
    "            {\n",
    "                \"role\": \"user\",\n",
    "                \"content\": \"summarize the following text: \"+text,\n",
    "            }\n",
    "        ],\n",
    "        # model=\"mixtral-8x7b-32768\"\n",
    "        model=\"llama3-70b-8192\",\n",
    "    )\n",
    "    return chat_completion.choices[0].message.content"
   ]
  },
  {
   "cell_type": "code",
   "execution_count": 27,
   "metadata": {},
   "outputs": [],
   "source": [
    "summerized_pages=summerize_pages(translated_text)"
   ]
  },
  {
   "cell_type": "code",
   "execution_count": 32,
   "metadata": {},
   "outputs": [
    {
     "name": "stdout",
     "output_type": "stream",
     "text": [
      "636\n"
     ]
    }
   ],
   "source": [
    "#concatenate the summerized pages\n",
    "final_text=\"\"\n",
    "for page in summerized_pages:\n",
    "    final_text+=page+\"\\n\\n\"\n",
    "    \n",
    "from nltk.tokenize import word_tokenize\n",
    "print(len(word_tokenize(final_text)))"
   ]
  },
  {
   "cell_type": "code",
   "execution_count": 34,
   "metadata": {},
   "outputs": [
    {
     "name": "stdout",
     "output_type": "stream",
     "text": [
      "Here is a summary of the text:\n",
      "\n",
      "The document outlines the cleaning procedures for Elcam Medical's sites, with the goal of maintaining a clean and controlled environment in accordance with Good Manufacturing Practice (GMP) rules. The procedures cover various areas, including clean rooms, preparation rooms, and public areas, and specify:\n",
      "\n",
      "* Cleaning schedules for different areas, including daily, twice daily, weekly, and biweekly cleaning\n",
      "* Use of approved cleaning materials and equipment\n",
      "* Safety rules during cleaning\n",
      "* Documentation and monitoring of cleaning procedures\n",
      "\n",
      "The document is valid from March 21, 2024, to April 25, 2024, and outlines specific procedures for:\n",
      "\n",
      "* Clean room cleaning\n",
      "* Preparation room cleaning\n",
      "* Public area cleaning\n",
      "* Logistics warehouse and gray packaging area cleaning\n",
      "* Control and inspection of cleaning\n",
      "* Cleaning of production baths\n",
      "* Record keeping\n",
      "\n",
      "The document is distributed to various personnel, including production managers, logistics managers, and quality assurance personnel.\n"
     ]
    }
   ],
   "source": [
    "print(summerize_text(final_text))"
   ]
  }
 ],
 "metadata": {
  "kernelspec": {
   "display_name": ".venv",
   "language": "python",
   "name": "python3"
  },
  "language_info": {
   "codemirror_mode": {
    "name": "ipython",
    "version": 3
   },
   "file_extension": ".py",
   "mimetype": "text/x-python",
   "name": "python",
   "nbconvert_exporter": "python",
   "pygments_lexer": "ipython3",
   "version": "3.10.11"
  }
 },
 "nbformat": 4,
 "nbformat_minor": 2
}
