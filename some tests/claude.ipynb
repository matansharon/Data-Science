{
 "cells": [
  {
   "cell_type": "code",
   "execution_count": 13,
   "metadata": {},
   "outputs": [
    {
     "name": "stdout",
     "output_type": "stream",
     "text": [
      "[TextBlock(text='שלום! אני שמח לעזור לך. מה אפשר לעזור לך?', type='text')]\n"
     ]
    }
   ],
   "source": [
    "import anthropic\n",
    "import os\n",
    "from dotenv import load_dotenv\n",
    "load_dotenv()\n",
    "client = anthropic.Anthropic(\n",
    "    # defaults to os.environ.get(\"ANTHROPIC_API_KEY\")\n",
    "    api_key=os.environ.get(\"ANTHROPIC_API_KEY\"),\n",
    ")\n",
    "# print(client.api_key)\n",
    "message = client.messages.create(\n",
    "    model=\"claude-3-haiku-20240307\",\n",
    "    max_tokens=1000,\n",
    "    temperature=0.0,\n",
    "    system=\"translate the input into English and respond in Hebrew\",\n",
    "    messages=[\n",
    "        {\"role\": \"user\", \"content\": \"מה קורה?\"}\n",
    "    ]\n",
    ")\n",
    "\n",
    "print(message.content)"
   ]
  },
  {
   "cell_type": "code",
   "execution_count": 18,
   "metadata": {},
   "outputs": [],
   "source": [
    "def get_response(input):\n",
    "    message = client.messages.create(\n",
    "        model=\"claude-3-haiku-20240307\",\n",
    "        max_tokens=1000,\n",
    "        temperature=0.0,\n",
    "        system=\"answer in Hebrew to the user question\",\n",
    "        messages=[\n",
    "            {\"role\": \"user\", \"content\": input}\n",
    "        ]\n",
    "    )\n",
    "    return message.content"
   ]
  },
  {
   "cell_type": "code",
   "execution_count": 20,
   "metadata": {},
   "outputs": [
    {
     "name": "stdout",
     "output_type": "stream",
     "text": [
      "[TextBlock(text='להלן סיכום של המלחמה בין ישראל וחמאס בשנת 2023:\\n\\n• הסלמה החלה בעקבות עימותים באזור ירושלים והר הבית, שהובילו לעימותים צבאיים בין ישראל לחמאס ברצועת עזה.\\n\\n• חמאס ירה מאות רקטות לעבר ערים בישראל, בעוד ישראל תקפה מטרות צבאיות ברצועה בתגובה.\\n\\n• הלחימה נמשכה כשבועיים, תוך הרס נרחב בעזה והרוגים משני הצדדים. ישראל הפעילה את מערכת ההגנה האווירית \"כיפת ברזל\" להתמודדות עם הרקטות.\\n\\n• בסופו של דבר, הושג הסכם הפסקת אש בתיווך בינלאומי. הצדדים הסכימו על הפסקת אש, תמורת הקלות על המצור הישראלי על עזה ושיקום התשתיות שנהרסו.\\n\\n• המלחמה הביאה לנזקים כבדים בעזה ואבדות אנושיות משני הצדדים, אך לא הובילה לפריצת דרך משמעותית בסכסוך הישראלי-פלסטיני.', type='text')]\n"
     ]
    }
   ],
   "source": [
    "print(get_response(\"ספר לי על המלחמה של ישראל וחמאס בשנת 2023\"))"
   ]
  },
  {
   "cell_type": "code",
   "execution_count": 14,
   "metadata": {},
   "outputs": [],
   "source": [
    "def translate_into_hebrew(input_text):\n",
    "    message = client.messages.create(\n",
    "        model=\"claude-3-haiku-20240307\",\n",
    "        max_tokens=4000,\n",
    "        temperature=0.0,\n",
    "        system=\"translate the input into Hebrew return the translated text\",\n",
    "        messages=[\n",
    "            {\"role\": \"user\", \"content\": input_text}\n",
    "        ]\n",
    "    )\n",
    "    return message.content"
   ]
  },
  {
   "cell_type": "code",
   "execution_count": 13,
   "metadata": {},
   "outputs": [],
   "source": [
    "import PyPDF2\n",
    "def extract_pages_as_text_in_list(file_path):\n",
    "    reader=PyPDF2.PdfReader(file_path)\n",
    "    pages=[]\n",
    "    for page in reader.pages:\n",
    "        pages.append(page.extract_text())\n",
    "    return pages\n",
    "def extract_all_text(file_path):\n",
    "    reader=PyPDF2.PdfReader(file_path)\n",
    "    text=\"\"\n",
    "    for page in reader.pages:\n",
    "        text+=page.extract_text()\n",
    "    return text\n"
   ]
  },
  {
   "cell_type": "code",
   "execution_count": 16,
   "metadata": {},
   "outputs": [],
   "source": [
    "pages=extract_pages_as_text_in_list(\"/Users/matansharon/python/Data_science/some tests/ivrit_ai.pdf\")"
   ]
  },
  {
   "cell_type": "code",
   "execution_count": 17,
   "metadata": {},
   "outputs": [],
   "source": [
    "translated_text=translate_into_hebrew(pages[2])"
   ]
  },
  {
   "cell_type": "code",
   "execution_count": 21,
   "metadata": {},
   "outputs": [],
   "source": [
    "import pandas as pd\n",
    "import anthropic\n",
    "import os\n",
    "def analyze_excel(file_path):\n",
    "    \n",
    "    df=pd.read_excel(file_path)\n",
    "    df_as_string=df.to_string()\n",
    "    client=anthropic.Anthropic(\n",
    "        api_key=os.environ.get(\"ANTHROPIC_API_KEY\")\n",
    "    )\n",
    "    message = client.messages.create(\n",
    "        model=\"claude-3-haiku-20240307\",\n",
    "        max_tokens=1000,\n",
    "        temperature=0.0,\n",
    "        system=\"this is an excel file that contains data about the company, please summarize the data and analyze it\",\n",
    "        messages=[\n",
    "            {\"role\": \"user\", \"content\": df_as_string}\n",
    "        ]\n",
    "    )\n",
    "    return message.content\n",
    "\n",
    "def summarize_text(file_path):\n",
    "    text=extract_all_text(file_path)\n",
    "    client=anthropic.Anthropic(\n",
    "        api_key=os.environ.get(\"ANTHROPIC_API_KEY\")\n",
    "    )\n",
    "    message = client.messages.create(\n",
    "        model=\"claude-3-haiku-20240307\",\n",
    "        max_tokens=1000,\n",
    "        temperature=0.0,\n",
    "        system=\"summarize the text\",\n",
    "        messages=[\n",
    "            {\"role\": \"user\", \"content\": text}\n",
    "        ]\n",
    "    )\n",
    "    return message.content[0].text"
   ]
  },
  {
   "cell_type": "code",
   "execution_count": 11,
   "metadata": {},
   "outputs": [
    {
     "data": {
      "text/plain": [
       "[TextBlock(text='להלן סיכום והערכה של הנתונים בקובץ:\\n\\n1. הקובץ מכיל 58 רעיונות שונים שהוצעו על ידי עובדי אלכם לשיפור שרשרת האספקה והתהליכים הארגוניים.\\n\\n2. הרעיונות מכסים מגוון רחב של תחומים, כולל:\\n   - שרשרת אספקה מקצה לקצה (16 רעיונות)\\n   - צמצום בירוקרטיה (4 רעיונות)\\n   - ניהול ספקים (10 רעיונות)\\n   - ניהול לקוחות (5 רעיונות) \\n   - תחזיות (2 רעיונות)\\n   - ניהול הזמנות (7 רעיונות)\\n   - ניהול מלאי (8 רעיונות)\\n   - ניהול משלוחים (9 רעיונות)\\n   - פיתוח מוצרים למיטוב שרשרת האספקה (4 רעיונות)\\n   - נושאים כלליים (3 רעיונות)\\n\\n3. הרעיונות מציעים מגוון פתרונות, כולל אוטומציה של תהליכים, שיפור תקשורת ושקיפות, ייעול תהליכים, הרחבת גמישות, חיסכון בעלויות ובזמן, שיפור שירות ללקוחות ועוד.\\n\\n4. רוב הרעיונות מדורגים כבעלי פוטנציאל גבוה להשפעה חיובית על אלכם, הלקוחות והספקים. חלקם מוערכים כבעלי אתגרים משמעותיים ליישום.\\n\\n5. רוב הרעיונות מוערכים כניתנים ליישום בטווח של שישה חודשים עד שנה וחצי, אך חלקם מוערכים כדורשים יותר מכך.\\n\\n6. הרעיונות מציעים שיתוף פעולה בין מחלקות שונות באלכם, כולל רכש, תפעול, הנדסה, בקרת איכות ועוד.\\n\\nבסיכום, קובץ זה מציג מגוון רחב של רעיונות חדשניים ופוטנציאליים לשיפור שרשרת האספקה והתהליכים הארגוניים באלכם. הרעיונות מכסים תחומים שונים ומציעים פתרונות מגוונים, חלקם בעלי פוטנציאל גבוה להשפעה חיובית. יישום חלק מהרעיונות עשוי להוביל לשיפורים משמעותיים בביצועי החברה.', type='text')]"
      ]
     },
     "execution_count": 11,
     "metadata": {},
     "output_type": "execute_result"
    }
   ],
   "source": [
    "\n",
    "analyze_excel('ideas.xlsx')"
   ]
  },
  {
   "cell_type": "code",
   "execution_count": 22,
   "metadata": {},
   "outputs": [],
   "source": [
    "s=summarize_text(\"/Users/matansharon/python/Data_science/some tests/ivrit_ai.pdf\")\n"
   ]
  },
  {
   "cell_type": "code",
   "execution_count": 23,
   "metadata": {},
   "outputs": [
    {
     "name": "stdout",
     "output_type": "stream",
     "text": [
      "Here is a summary of the key points from the text:\n",
      "\n",
      "1. The ivrit.ai dataset is a comprehensive Hebrew speech dataset designed to advance Automated Speech Recognition (ASR) technology for the Hebrew language. It contains over 3,300 hours of speech from over 1,000 diverse speakers.\n",
      "\n",
      "2. The dataset is provided in three forms: raw unprocessed audio, data post-Voice Activity Detection (VAD) processing, and partially transcribed data. This caters to varying research needs.\n",
      "\n",
      "3. The dataset stands out for its legal accessibility - it is available for use at no cost, including for commercial purposes, under an augmented CC-BY 4.0 license.\n",
      "\n",
      "4. The dataset covers a wide range of speech styles (e.g. lectures, conversations) and topics (e.g. economy, politics, science), offering a substantial compilation of Hebrew speech to enhance AI capabilities in the language.\n",
      "\n",
      "5. The authors aim to further expand the ivrit.ai dataset and promote its use to advance Hebrew's standing in AI research and technology.\n",
      "\n",
      "6. The availability of this large, high-quality Hebrew speech dataset is expected to significantly benefit the development of robust ASR models and other speech and language processing applications for the Hebrew language.\n"
     ]
    }
   ],
   "source": [
    "print(s)"
   ]
  }
 ],
 "metadata": {
  "kernelspec": {
   "display_name": ".venv",
   "language": "python",
   "name": "python3"
  },
  "language_info": {
   "codemirror_mode": {
    "name": "ipython",
    "version": 3
   },
   "file_extension": ".py",
   "mimetype": "text/x-python",
   "name": "python",
   "nbconvert_exporter": "python",
   "pygments_lexer": "ipython3",
   "version": "3.10.11"
  }
 },
 "nbformat": 4,
 "nbformat_minor": 2
}
