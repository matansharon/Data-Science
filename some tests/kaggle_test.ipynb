{
 "cells": [
  {
   "attachments": {},
   "cell_type": "markdown",
   "metadata": {},
   "source": [
    "Goal of the Competition\n",
    "Another year, another chance to predict the upsets, call the probabilities, and put your bracketology skills to the leaderboard test. In our ninth annual March Machine Learning Mania competition, Kagglers will once again join the millions of fans who attempt to predict the outcomes of this year's college basketball tournaments. Unlike most fans, you will pick the winners and losers using a combination of rich historical data and computing power, while the ground truth unfolds on television.\n",
    "\n",
    "Context\n",
    "You are provided data of historical NCAA games to forecast the outcomes of the Division 1 Men's and Women's basketball tournaments. This competition is the official 2023 edition, with points, medals, prizes, and basketball glory at stake.\n",
    "\n",
    "We have made several updates to the competition format compared to prior editions:\n",
    "\n",
    "There is a change in evaluation metric from log loss to Brier scores. See the Evaluation Page for full details.\n",
    "We are combining the Men's and Women's tournament into one single competition, instead of running separate tracks. The competition will award full points/medals as a result.\n",
    "We have changed the prediction format so that you may forecast the 2023 tournaments right away, instead of having to wait to see which teams are selected for the tournament.\n",
    "We have also launched a companion warmup competition, which is setup as a practice leaderboard covering the previous five tournaments. Because its only for practice and the ground historical game outcomes are public information, the warmup competition does not count for points/medals and will be taken down once it has served its purpose. Prior to the start of the tournaments, the leaderboard of this competition will reflect all zero scores. Kaggle will periodically fill in the outcomes and rescore once games begin.\n",
    "\n",
    "Good luck and happy forecasting!"
   ]
  },
  {
   "attachments": {},
   "cell_type": "markdown",
   "metadata": {},
   "source": [
    "The evaluation methodology for 2023 has changed from prior editions of this competition. Submissions are now evaluated on the Brier score between the predicted probabilities and the actual game outcomes (this is equivalent to mean squared error in this context). This change was made to reduce the competitive \"distractions\" caused by the 0 and 1 boundaries of the previous log-loss metric (e.g. submitting rounded predictions to gamble on a given upset, or caring deeply about the 0.99 vs 0.999 distinction that log loss would reward/punish).\n",
    "\n",
    "Submission File\n",
    "The submission file format also has a revised format for 2023:\n",
    "\n",
    "We have combined the Men's and Women's tournaments into one single competition. Your submission file should contain predictions for both.\n",
    "You will now be predicting the hypothetical results for every possible team matchup, not just teams that are selected for the NCAA tournament. This change was enacted to provide a longer time window to submit predictions for the 2023 tournament. Previously, the short time between Selection Sunday and the tournament tipoffs would require participants to quickly turn around updated predictions. By forecasting every possible outcome between every team, you can now submit a valid prediction at any point leading up to the tournaments.\n",
    "You may submit as many times as you wish before the tournaments start, but make sure to select the two submissions you want to count towards scoring. Do not rely on automatic selection to pick your submissions, as there is no public leaderboard score and the system will select your earliest two submissions.\n",
    "As with prior years, each game has a unique ID created by concatenating the season in which the game was played and the two team's respective TeamIds. For example, \"2023_1101_1102\" indicates a hypothetical matchup between team 1101 and 1102 in the year 2023. You must predict the probability that the team with the lower TeamId beats the team with the higher TeamId. Note that the men's teams and women's TeamIds do not overlap.\n",
    "\n",
    "The resulting submission format looks like the following, where Pred represents the predicted probability that the first team will win:\n",
    "\n",
    "ID,Pred\n",
    "2023_1101_1102,0.5\n",
    "2023_1101_1103,0.5\n",
    "2023_1101_1104,0.5\n",
    "...\n",
    "Your 2023 submissions will score 0.0 if you have submitted predictions in the right format. The leaderboard of this competition will be only meaningful once the 2023 tournaments begin and Kaggle rescores your predictions!"
   ]
  },
  {
   "cell_type": "code",
   "execution_count": 5,
   "metadata": {},
   "outputs": [],
   "source": [
    "import pandas as pd\n",
    "import numpy as np\n",
    "import matplotlib.pyplot as plt\n",
    "import seaborn as sns\n",
    "import os\n",
    "import warnings\n",
    "warnings.filterwarnings('ignore')\n",
    "%matplotlib inline"
   ]
  },
  {
   "cell_type": "code",
   "execution_count": 6,
   "metadata": {},
   "outputs": [],
   "source": [
    "#can you generate a random sqlite database?\n",
    "import sqlite3\n",
    "conn = sqlite3.connect('test.db')\n",
    "c = conn.cursor()\n",
    "c.execute('CREATE TABLE test (id INTEGER PRIMARY KEY, name TEXT, age INTEGER)')\n",
    "c.execute('INSERT INTO test (name, age) VALUES (?, ?)', ('John', 23))\n",
    "c.execute('INSERT INTO test (name, age) VALUES (?, ?)', ('Mary', 19))\n",
    "c.execute('INSERT INTO test (name, age) VALUES (?, ?)', ('Peter', 28))\n",
    "c.execute('INSERT INTO test (name, age) VALUES (?, ?)', ('John', 23))\n",
    "\n",
    "conn.commit()\n",
    "conn.close()"
   ]
  },
  {
   "cell_type": "code",
   "execution_count": 7,
   "metadata": {},
   "outputs": [
    {
     "name": "stdout",
     "output_type": "stream",
     "text": [
      "[(1, 'John', 23), (2, 'Mary', 19), (3, 'Peter', 28), (4, 'John', 23)]\n"
     ]
    }
   ],
   "source": [
    "#can you read it back?\n",
    "conn = sqlite3.connect('test.db')\n",
    "c = conn.cursor()\n",
    "c.execute('SELECT * FROM test')\n",
    "print(c.fetchall())\n",
    "conn.close()"
   ]
  }
 ],
 "metadata": {
  "kernelspec": {
   "display_name": "base",
   "language": "python",
   "name": "python3"
  },
  "language_info": {
   "codemirror_mode": {
    "name": "ipython",
    "version": 3
   },
   "file_extension": ".py",
   "mimetype": "text/x-python",
   "name": "python",
   "nbconvert_exporter": "python",
   "pygments_lexer": "ipython3",
   "version": "3.9.13"
  },
  "orig_nbformat": 4
 },
 "nbformat": 4,
 "nbformat_minor": 2
}
