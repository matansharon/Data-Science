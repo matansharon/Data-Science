{
 "cells": [
  {
   "cell_type": "code",
   "execution_count": 1,
   "metadata": {},
   "outputs": [],
   "source": [
    "import pandas as pd\n",
    "import numpy as np\n",
    "import matplotlib.pyplot as plt\n",
    "import seaborn as sns\n",
    "%matplotlib inline"
   ]
  },
  {
   "cell_type": "code",
   "execution_count": null,
   "metadata": {},
   "outputs": [],
   "source": [
    "d=pd.read_html('https://www.basketball-reference.com/playoffs/NBA_2000.html#all_all_playoffs')\n"
   ]
  },
  {
   "cell_type": "code",
   "execution_count": 18,
   "metadata": {},
   "outputs": [
    {
     "data": {
      "text/html": [
       "<div>\n",
       "<style scoped>\n",
       "    .dataframe tbody tr th:only-of-type {\n",
       "        vertical-align: middle;\n",
       "    }\n",
       "\n",
       "    .dataframe tbody tr th {\n",
       "        vertical-align: top;\n",
       "    }\n",
       "\n",
       "    .dataframe thead th {\n",
       "        text-align: right;\n",
       "    }\n",
       "</style>\n",
       "<table border=\"1\" class=\"dataframe\">\n",
       "  <thead>\n",
       "    <tr style=\"text-align: right;\">\n",
       "      <th></th>\n",
       "      <th>0</th>\n",
       "      <th>1</th>\n",
       "      <th>2</th>\n",
       "      <th>3</th>\n",
       "      <th>4</th>\n",
       "      <th>5</th>\n",
       "    </tr>\n",
       "  </thead>\n",
       "  <tbody>\n",
       "    <tr>\n",
       "      <th>0</th>\n",
       "      <td>Game 1</td>\n",
       "      <td>Wed, June 7</td>\n",
       "      <td>Indiana Pacers</td>\n",
       "      <td>87</td>\n",
       "      <td>@ Los Angeles Lakers</td>\n",
       "      <td>104</td>\n",
       "    </tr>\n",
       "    <tr>\n",
       "      <th>1</th>\n",
       "      <td>Game 2</td>\n",
       "      <td>Fri, June 9</td>\n",
       "      <td>Indiana Pacers</td>\n",
       "      <td>104</td>\n",
       "      <td>@ Los Angeles Lakers</td>\n",
       "      <td>111</td>\n",
       "    </tr>\n",
       "    <tr>\n",
       "      <th>2</th>\n",
       "      <td>Game 3</td>\n",
       "      <td>Sun, June 11</td>\n",
       "      <td>Los Angeles Lakers</td>\n",
       "      <td>91</td>\n",
       "      <td>@ Indiana Pacers</td>\n",
       "      <td>100</td>\n",
       "    </tr>\n",
       "    <tr>\n",
       "      <th>3</th>\n",
       "      <td>Game 4</td>\n",
       "      <td>Wed, June 14</td>\n",
       "      <td>Los Angeles Lakers</td>\n",
       "      <td>120</td>\n",
       "      <td>@ Indiana Pacers</td>\n",
       "      <td>118</td>\n",
       "    </tr>\n",
       "    <tr>\n",
       "      <th>4</th>\n",
       "      <td>Game 5</td>\n",
       "      <td>Fri, June 16</td>\n",
       "      <td>Los Angeles Lakers</td>\n",
       "      <td>87</td>\n",
       "      <td>@ Indiana Pacers</td>\n",
       "      <td>120</td>\n",
       "    </tr>\n",
       "    <tr>\n",
       "      <th>5</th>\n",
       "      <td>Game 6</td>\n",
       "      <td>Mon, June 19</td>\n",
       "      <td>Indiana Pacers</td>\n",
       "      <td>111</td>\n",
       "      <td>@ Los Angeles Lakers</td>\n",
       "      <td>116</td>\n",
       "    </tr>\n",
       "  </tbody>\n",
       "</table>\n",
       "</div>"
      ],
      "text/plain": [
       "        0             1                   2    3                     4    5\n",
       "0  Game 1   Wed, June 7      Indiana Pacers   87  @ Los Angeles Lakers  104\n",
       "1  Game 2   Fri, June 9      Indiana Pacers  104  @ Los Angeles Lakers  111\n",
       "2  Game 3  Sun, June 11  Los Angeles Lakers   91      @ Indiana Pacers  100\n",
       "3  Game 4  Wed, June 14  Los Angeles Lakers  120      @ Indiana Pacers  118\n",
       "4  Game 5  Fri, June 16  Los Angeles Lakers   87      @ Indiana Pacers  120\n",
       "5  Game 6  Mon, June 19      Indiana Pacers  111  @ Los Angeles Lakers  116"
      ]
     },
     "execution_count": 18,
     "metadata": {},
     "output_type": "execute_result"
    }
   ],
   "source": [
    "d[1]"
   ]
  }
 ],
 "metadata": {
  "kernelspec": {
   "display_name": "base",
   "language": "python",
   "name": "python3"
  },
  "language_info": {
   "codemirror_mode": {
    "name": "ipython",
    "version": 3
   },
   "file_extension": ".py",
   "mimetype": "text/x-python",
   "name": "python",
   "nbconvert_exporter": "python",
   "pygments_lexer": "ipython3",
   "version": "3.9.13"
  },
  "orig_nbformat": 4
 },
 "nbformat": 4,
 "nbformat_minor": 2
}
