{
 "cells": [
  {
   "cell_type": "code",
   "execution_count": 28,
   "metadata": {},
   "outputs": [
    {
     "data": {
      "text/plain": [
       "0"
      ]
     },
     "execution_count": 28,
     "metadata": {},
     "output_type": "execute_result"
    }
   ],
   "source": [
    "import requests\n",
    "from bs4 import BeautifulSoup\n",
    "\n",
    "# Get your GitHub username.\n",
    "username = \"matansharon\"\n",
    "\n",
    "# Request your contributions data from the GitHub API.\n",
    "url = \"https://github.com/matansharon?tab=overview&from=2023-04-01&to=2023-04-22\"\n",
    "url='https://www.facebook.com/'\n",
    "response = requests.get(url)\n",
    "\n",
    "# Parse the response data using BeautifulSoup.\n",
    "soup = BeautifulSoup(response.content, \"html.parser\")\n",
    "#count all the divs in the page\n",
    "divs = soup.find_all(\"div\")\n",
    "len(divs)\n",
    "#count all the divs with class \"js-calendar-graph-svg\"\n",
    "divs = soup.find_all(\"div\", class_=\"js-calendar-graph-svg\")\n",
    "len(divs)\n",
    "#count all the tr in the page\n",
    "trs = soup.find_all(\"tr\")\n",
    "len(trs)"
   ]
  },
  {
   "cell_type": "code",
   "execution_count": 29,
   "metadata": {},
   "outputs": [],
   "source": [
    "import requests\n",
    "from bs4 import BeautifulSoup\n"
   ]
  },
  {
   "cell_type": "code",
   "execution_count": 30,
   "metadata": {},
   "outputs": [],
   "source": [
    "def get_td_elements(url):\n",
    "    response = requests.get(url)\n",
    "    soup = BeautifulSoup(response.content, 'html.parser')\n",
    "    td_elements = soup.find_all('td')\n",
    "    return td_elements\n"
   ]
  },
  {
   "cell_type": "code",
   "execution_count": 31,
   "metadata": {},
   "outputs": [],
   "source": [
    "def get_elements_with_class(url, class_name):\n",
    "    response = requests.get(url)\n",
    "    soup = BeautifulSoup(response.content, 'html.parser')\n",
    "    elements = soup.find_all(class_=class_name)\n",
    "    return elements\n"
   ]
  },
  {
   "cell_type": "code",
   "execution_count": null,
   "metadata": {},
   "outputs": [],
   "source": []
  },
  {
   "cell_type": "code",
   "execution_count": 32,
   "metadata": {},
   "outputs": [],
   "source": [
    "url = \"https://github.com/matansharon?tab=overview&from=2023-04-01&to=2023-04-23\"  # Replace this with the URL of the web page you want to scrape\n",
    "class_name='ContributionCalendar-day'\n",
    "elements = get_elements_with_class(url, class_name)\n",
    "\n",
    "# for i, element in enumerate(elements):\n",
    "#     print(f\"Element {i + 1}: {element}\")\n"
   ]
  },
  {
   "cell_type": "code",
   "execution_count": 33,
   "metadata": {},
   "outputs": [
    {
     "name": "stdout",
     "output_type": "stream",
     "text": [
      "{'width': '11', 'height': '11', 'x': '16', 'y': '0', 'class': ['ContributionCalendar-day'], 'data-date': '2023-01-01', 'data-level': '4', 'rx': '2', 'ry': '2'}\n",
      "13 contributions on Sunday, January 1, 2023\n"
     ]
    }
   ],
   "source": [
    "print(elements[0].attrs)\n",
    "print(elements[0].text)"
   ]
  },
  {
   "cell_type": "code",
   "execution_count": 35,
   "metadata": {},
   "outputs": [
    {
     "name": "stdout",
     "output_type": "stream",
     "text": [
      "2023-01-01\n",
      "4\n"
     ]
    }
   ],
   "source": [
    "print(elements[0].attrs['data-date'])\n",
    "print(elements[0].attrs['data-level'])\n"
   ]
  }
 ],
 "metadata": {
  "kernelspec": {
   "display_name": "base",
   "language": "python",
   "name": "python3"
  },
  "language_info": {
   "codemirror_mode": {
    "name": "ipython",
    "version": 3
   },
   "file_extension": ".py",
   "mimetype": "text/x-python",
   "name": "python",
   "nbconvert_exporter": "python",
   "pygments_lexer": "ipython3",
   "version": "3.9.13"
  },
  "orig_nbformat": 4,
  "vscode": {
   "interpreter": {
    "hash": "3d5db532c048f37cc8487068e8e1c41ac5ce63d1b52e8a8c32ff882c22c4c18a"
   }
  }
 },
 "nbformat": 4,
 "nbformat_minor": 2
}
