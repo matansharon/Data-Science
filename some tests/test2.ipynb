{
 "cells": [
  {
   "cell_type": "code",
   "execution_count": 30,
   "metadata": {},
   "outputs": [
    {
     "name": "stdout",
     "output_type": "stream",
     "text": [
      "[]\n",
      "None\n",
      "None\n",
      "[]\n",
      "[]\n"
     ]
    }
   ],
   "source": [
    "import requests\n",
    "from bs4 import BeautifulSoup\n",
    "\n",
    "# Get your GitHub username.\n",
    "username = \"matansharon\"\n",
    "\n",
    "# Request your contributions data from the GitHub API.\n",
    "url = \"https://github.com/matansharon?tab=overview&from=2023-04-01&to=2023-04-22\"\n",
    "response = requests.get(url)\n",
    "\n",
    "# Parse the response data using BeautifulSoup.\n",
    "soup = BeautifulSoup(response.content, \"html.parser\")\n",
    "# Find all td elements in the document\n",
    "td_elements = soup.find_all(\"td\")\n",
    "\n",
    "# Find the first td element in the document\n",
    "first_td_element = soup.find(\"td\")\n",
    "\n",
    "# Find the first td element that has the class \"my-class\" attribute\n",
    "first_my_class_td_element = soup.find(\"td\", class_=\"my-class\")\n",
    "\n",
    "# Find all td elements that have the class \"my-class\" attribute\n",
    "my_class_td_elements = soup.find_all(\"td\", class_=\"my-class\")\n",
    "\n",
    "# Find all td elements that are visible\n",
    "visible_td_elements = soup.find_all(\"td\", visible=True)\n",
    "\n",
    "print(td_elements)\n",
    "\n",
    "print(first_td_element)\n",
    "\n",
    "print(first_my_class_td_element)\n",
    "\n",
    "print(my_class_td_elements)\n",
    "\n",
    "print(visible_td_elements)\n",
    "\n",
    "\n"
   ]
  }
 ],
 "metadata": {
  "kernelspec": {
   "display_name": "base",
   "language": "python",
   "name": "python3"
  },
  "language_info": {
   "name": "python",
   "version": "3.9.13"
  },
  "orig_nbformat": 4,
  "vscode": {
   "interpreter": {
    "hash": "3d5db532c048f37cc8487068e8e1c41ac5ce63d1b52e8a8c32ff882c22c4c18a"
   }
  }
 },
 "nbformat": 4,
 "nbformat_minor": 2
}
