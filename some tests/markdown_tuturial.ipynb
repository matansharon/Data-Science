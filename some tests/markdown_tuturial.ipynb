{
 "cells": [
  {
   "cell_type": "markdown",
   "metadata": {},
   "source": [
    "# Headings\n",
    "The Headings starts with '#,' i.e., hash symbol followed by the space, and there are six Headings with the largest heading only using one hash symbol and the smallest titles using six hash symbols.\n",
    "\n",
    "# (Header 1, title)\n",
    "\n",
    "## (Header 2, major headings)\n",
    "\n",
    "### (Header 3, subheadings)\n",
    "\n",
    "#### (Header 4)\n",
    "\n",
    "##### (Header 5)\n",
    "\n",
    "###### (Header 6)``\n",
    "\n",
    "Alternatively, the headings can start with Markup Tags, i.e., from h1 to h6 with the following syntaxes.\n",
    "\n",
    "<h1>Header 1,title<h1>\n",
    "<h2>Header 2,major headings<h2>\n",
    "<h3>Header 3,subheadings<h3>\n",
    "<h4>Header 4<h4>\n",
    "<h5>Header 5<h5>\n",
    "<h6>Header 6<h6>\n",
    "\n",
    "Both of the syntaxes above can render the headings from h1 to h6 after clicking the 'Run' in the toolbar."
   ]
  },
  {
   "cell_type": "markdown",
   "metadata": {},
   "source": [
    "Blockquotes\n",
    "Blockquotes can hold the large chunk of text and are generally indented. They can be obtained by using Markdown symbol '>' or with <blockquote>text for blockquote</blockquote>\n",
    "\n",
    ">This is good\n",
    "<blockquote>This is good</blockquote>\n",
    "Both of the syntaxes above can render the text in indented form after clicking 'Run' in the toolbar."
   ]
  },
  {
   "cell_type": "markdown",
   "metadata": {},
   "source": [
    "# Code Section\n",
    "The Code section is the part that specifies the code of different programming languages and can be rendered where inline code starts with ' `inline code goes here` ' back-ticks around it, but the block of code starts with three back-ticks ' ``` block line code goes here ``` '. Also,the Markup tag for a Code section is ' <code>code goes here<code> '.\n",
    "\n",
    "The inline code example is given below:\n",
    "`x =5`\n",
    "\n",
    "You can see after clicking \"Run\" the inline code renders with highlighting the code.\n",
    "\n",
    "Code Section\n",
    "\n",
    "Code section examples are given below:\n",
    "\n",
    "Using Markdown\n",
    "```Python\n",
    "str = \"This is block level code\"\n",
    "print(str)\n",
    "```\n",
    "Using Markup Tags\n",
    "<code>Python\n",
    "str = \"This is a block level code\"\n",
    "print(str)\n",
    "</code>\n",
    "Using Markdown, you can get the syntax highlighting of code if programming language name is mentioned after the '```' three ticks and the example is given below:\\"
   ]
  },
  {
   "cell_type": "markdown",
   "metadata": {},
   "source": [
    "# The mathematical \n",
    "symbol in Markdown is included in '\\$ mathematical expression goes here \\$' enclosed in a dollar symbol and in Markup you can follow this link for more detail: Mathematical Operators. You can see the example of using the mathematical symbols below.\n",
    "\n",
    "\\$\\sqrt{k}$\n",
    "\n",
    "The above example will render the mathematical expression in a bold format."
   ]
  },
  {
   "cell_type": "markdown",
   "metadata": {},
   "source": [
    "# new line \n",
    "# <br>"
   ]
  },
  {
   "cell_type": "markdown",
   "metadata": {},
   "source": [
    "# Bold and Italic Text\n",
    "You can use <b> tags, '**' i.e. 'double asterisk' or '__' i.e. 'double underscore' to get bold text with the following syntax.\n",
    "\n",
    "<b>This is bold text </b>\n",
    "** This is bold text\n",
    "__ This is bold text\n",
    "All of the syntaxes above can render bold text after clicking 'Run' in the toolbar.\n",
    "\n"
   ]
  },
  {
   "cell_type": "markdown",
   "metadata": {},
   "source": [
    "You can use <i> tags, '*' i.e., single asterisk or '_' i.e., single underscore to get the italic text for the following syntax.\n",
    "\n",
    "<i>This is italic text </i>\n",
    "* This is italic text\n",
    "_ This is italic text\n",
    "All of the syntaxes above can render the italic text after clicking 'Run' in the toolbar."
   ]
  },
  {
   "cell_type": "markdown",
   "metadata": {},
   "source": [
    "# Horizontal Line\n",
    "You can obtain a horizontal line by using Markdown '---' three hyphens or Markup tags <hr>\n",
    "\n",
    "Both of the syntax above will render the horizontal line across from one end to another end after clicking \"Run\"."
   ]
  },
  {
   "cell_type": "markdown",
   "metadata": {},
   "source": [
    "# Ordered List\n",
    "The Ordered List is the numbered list which is obtained by starting <ol> tag and ending with </ol> tag with the required item in between <li> and </li> tags. The tag, i.e., 'ol,' is the short form for an ordered list and 'li' is the short form for the list item. For example, you can see the Ordered List below containing the item for the grocery list.\n",
    "\n",
    "<ol>\n",
    "<li>Fish</li>\n",
    "<li>Eggs</li>\n",
    "<li>Cheese</li>\n",
    "</ol>\n",
    "\n",
    "Alternatively, you can list by '1. ' i.e., the required number followed by space with the example given below.\n",
    "\n",
    "Fish\n",
    "Eggs\n",
    "Cheese\n",
    "Both of the syntaxes above can render the numbered list after clicking 'Run' in the toolbar."
   ]
  },
  {
   "cell_type": "markdown",
   "metadata": {},
   "source": [
    "# Unordered List\n",
    "The Unordered list is a bullet list which is obtained by using the <ul> tag and ending with the </ul> tag, see the example below:\n",
    "\n",
    "<ul>\n",
    "<li>Fish</li>\n",
    "<li>Eggs</li>\n",
    "<li>Cheese</li>\n",
    "</ul>\n",
    "\n",
    "Alternatively, the Unordered list can start with the '-' symbol with space, which gives the black circle symbol and can also start with the '*' symbol with space, which gives the black square symbol.\n",
    "\n",
    "-   Fish\n",
    "-   Eggs\n",
    "-   Cheese\n",
    "\n",
    "The above example shows the bullet list contains the '-' symbol followed by space with the items which gives the black circle symbol.\n",
    "\n",
    "Both of the syntaxes above can render the same following result where the items in the list appear in the black circle, after clicking 'Run' in the toolbar."
   ]
  },
  {
   "cell_type": "markdown",
   "metadata": {},
   "source": [
    "# Internal and External Link\n",
    "Internal Link in Markdown starts with <a> tag with unique id defined by the attribute 'id' which can be linked in the notebook with the example below:\n",
    "\n",
    "<a id = \"division_ID\"text goes here></a>\n",
    "\n",
    "Also, the id defined above can be linked to the section of the notebook by following the code which makes the link clickable.\n",
    "\n",
    "[Section title](#division_ID)\n",
    "\n",
    "The example of the above can be seen below where the id defined is linked with the section and clickable link obtained after clicking \"Run\" in the toolbar."
   ]
  },
  {
   "cell_type": "markdown",
   "metadata": {},
   "source": [
    "# Table\n",
    "The Table contains the information in rows and columns and is built by the combination of '|' i.e. 'vertical pipe' to separate each column and '-' i.e., hyphen symbol to create the header where the blank line, i.e., a combination of vertical pipe and dashes to render the table format.\n",
    "\n",
    "Also, you can vary the cells by roughly aligning with the columns, and the notebook will automatically resize the content in the given cell.\n",
    "\n",
    "|Name|Address|Salary| |-----|-------|------| |Hanna|Brisbane|4000| |Adam|Sydney|5000|\n",
    "\n",
    "Alternatively, the Markdown can be used to build tables where < table > is used to define a table with its width in percentages.<tr> sets table row which gives the bold with centered text along with table heading is described by <th> is at the top of the table with the other entries in the table are set by the <td> i.e., table data tag.\n",
    "\n",
    "<table style=\"width:20%\">\n",
    "<tr>\n",
    "<th><Name></th>\n",
    "<th><Address></th>\n",
    "<th><Salary></th>\n",
    "</tr>\n",
    "\n",
    "<tr>\n",
    "<td><Hanna></td>\n",
    "<td><Brisbane></td>\n",
    "<td><4000></td>\n",
    "</tr>\n",
    "\n",
    "<tr>\n",
    "<td><Adam></td>\n",
    "<td><Sydney></td>\n",
    "<td><5000></td>\n",
    "</tr>\n",
    "</table>\n",
    "\n",
    "Both of the syntaxes above can render the same following result after clicking 'Run' in the toolbar."
   ]
  },
  {
   "cell_type": "markdown",
   "metadata": {},
   "source": [
    "# Images\n",
    "You can insert an image from the toolbar by choosing the 'Insert Image' from an Edit menu and can browse the required image as shown below.\n",
    "\n",
    "Images\n",
    "\n",
    "Images\n",
    "\n",
    "The image can contain Markdown tag <img> with source, i.e.src as an attribute which consists the link to image with optional properties like width and height, and the example of it is below.\n",
    "\n",
    "<img> <src=\"https://i.imgur.com/WWrydEh.png\" width =\"500\" height=500 >\n",
    "\n",
    "Both of the processes above can render the same image after clicking the 'Run' in the toolbar.\n",
    "\n",
    "image"
   ]
  },
  {
   "cell_type": "markdown",
   "metadata": {},
   "source": [
    "# Conclusion\n",
    "<p> In this tutorial, you have learned about different Markup tags, which is defined by Markup language and also syntax related to Markdown cells specific to the Jupyter Notebook which is used side by side along with code to describe the content more effectively.</p>\n",
    "\n",
    "If you would like to learn more about Markdown, have a look at Markdown Guide."
   ]
  }
 ],
 "metadata": {
  "language_info": {
   "name": "python"
  },
  "orig_nbformat": 4
 },
 "nbformat": 4,
 "nbformat_minor": 2
}
