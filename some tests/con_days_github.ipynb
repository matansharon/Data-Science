{
 "cells": [
  {
   "cell_type": "code",
   "execution_count": 8,
   "metadata": {},
   "outputs": [],
   "source": [
    "#run1\n",
    "import requests\n",
    "from bs4 import BeautifulSoup\n",
    "from datetime import datetime\n",
    "\n",
    "def get_elements_with_class(url, class_name):\n",
    "    response = requests.get(url)\n",
    "    soup = BeautifulSoup(response.content, 'html.parser')\n",
    "    elements = soup.find_all(class_=class_name)\n",
    "    return elements\n"
   ]
  },
  {
   "cell_type": "code",
   "execution_count": 4,
   "metadata": {},
   "outputs": [
    {
     "data": {
      "text/plain": [
       "<rect class=\"ContributionCalendar-day\" data-date=\"2023-01-01\" data-level=\"4\" height=\"11\" rx=\"2\" ry=\"2\" width=\"11\" x=\"16\" y=\"0\">13 contributions on Sunday, January 1, 2023</rect>"
      ]
     },
     "execution_count": 4,
     "metadata": {},
     "output_type": "execute_result"
    }
   ],
   "source": [
    "url = \"https://github.com/matansharon?tab=overview&from=2023-04-01&to=2023-04-23\"  # Replace this with the URL of the web page you want to scrape\n",
    "class_name='ContributionCalendar-day'\n",
    "elements = get_elements_with_class(url, class_name)\n",
    "elements[0]\n"
   ]
  },
  {
   "cell_type": "code",
   "execution_count": 10,
   "metadata": {},
   "outputs": [],
   "source": [
    "\n"
   ]
  },
  {
   "cell_type": "code",
   "execution_count": 6,
   "metadata": {},
   "outputs": [],
   "source": [
    "# # print(elements[0].attrs['data-date'])\n",
    "# # print(elements[0].attrs['data-level'])\n",
    "# # print(datetime.now()<datetime(2020, 1, 1))\n",
    "# res=[]\n",
    "# #convert this string date 01-01-2020 to datetime object\n",
    "# print()\n",
    "# for i in range(0, len(elements)):\n",
    "#     try:\n",
    "#         if elements[i].attrs['class']==['ContributionCalendar-day'] and datetime.strptime(elements[i].attrs['data-date'], '%Y-%m-%d')<datetime.now() :\n",
    "#             # print(elements[i].attrs['data-date'])\n",
    "#             res.append(elements[i].attrs['data-level'])\n",
    "#     except:\n",
    "#         pass\n",
    "# #print the average of the contributions\n",
    "\n",
    "# #make a lambda function to convert the numbers of res from string to int\n",
    "# res=list(map(lambda x: int(x), res))\n",
    "# print(\"the mean is: {}\".format(sum(res)/len(res)))\n",
    "# import numpy as np\n",
    "# res=np.array(res)\n",
    "# print(np.count_nonzero(res==0))"
   ]
  },
  {
   "cell_type": "code",
   "execution_count": 32,
   "metadata": {},
   "outputs": [],
   "source": [
    "# def break_down_elements(url):\n",
    "#     response = requests.get(url)\n",
    "#     soup = BeautifulSoup(response.content, \"html.parser\")\n",
    "\n",
    "#     page_text=soup.prettify()\n",
    "#     page_text=page_text.split('\\n')\n",
    "#     #make a lambda function to print all the rows that contain the word \"ContributionCalendar-day\"\n",
    "#     r=[]\n",
    "\n",
    "\n",
    "\n",
    "\n",
    "\n",
    "\n",
    "#     for i in page_text:\n",
    "#         # if 'ContributionCalendar-day'  in i:\n",
    "#             # temp=i.strip()\n",
    "#             # temp=temp.split(' ')\n",
    "#             # r.append(temp)\n",
    "#         temp=i.strip()\n",
    "#         temp=temp.split(' ')\n",
    "#         r.append(temp)\n",
    "#     return r"
   ]
  },
  {
   "cell_type": "code",
   "execution_count": 7,
   "metadata": {},
   "outputs": [],
   "source": [
    "# res=break_down_elements(url)\n",
    "# for i in res:\n",
    "#     for j in i:\n",
    "#         if 'ContributionCalendar-day' in j:\n",
    "#             print(i)\n",
    "#     # print(i)\n"
   ]
  },
  {
   "cell_type": "code",
   "execution_count": 7,
   "metadata": {},
   "outputs": [
    {
     "name": "stdout",
     "output_type": "stream",
     "text": [
      "matan\n"
     ]
    }
   ],
   "source": [
    "print('matan')"
   ]
  }
 ],
 "metadata": {
  "kernelspec": {
   "display_name": "base",
   "language": "python",
   "name": "python3"
  },
  "language_info": {
   "codemirror_mode": {
    "name": "ipython",
    "version": 3
   },
   "file_extension": ".py",
   "mimetype": "text/x-python",
   "name": "python",
   "nbconvert_exporter": "python",
   "pygments_lexer": "ipython3",
   "version": "3.9.13"
  },
  "orig_nbformat": 4,
  "vscode": {
   "interpreter": {
    "hash": "3d5db532c048f37cc8487068e8e1c41ac5ce63d1b52e8a8c32ff882c22c4c18a"
   }
  }
 },
 "nbformat": 4,
 "nbformat_minor": 2
}
