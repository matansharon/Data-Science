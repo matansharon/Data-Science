{
 "cells": [
  {
   "cell_type": "code",
   "execution_count": 63,
   "metadata": {},
   "outputs": [],
   "source": [
    "import os\n",
    "\n",
    "from groq import Groq\n",
    "import nltk\n",
    "from nltk.tokenize import word_tokenize\n",
    "import PyPDF2\n"
   ]
  },
  {
   "cell_type": "code",
   "execution_count": 65,
   "metadata": {},
   "outputs": [],
   "source": [
    "def summeriztion(file_path:str=\"\",start_page:int=0,end_page:int=10):\n",
    "    file=PyPDF2.PdfReader(file_path)\n",
    "    text=\"\"\n",
    "    for pos in range(start_page,end_page):\n",
    "        if len(word_tokenize(text))<4000:\n",
    "            text+=file.pages[pos].extract_text()\n",
    "        \n",
    "    client = Groq(\n",
    "    api_key=os.environ.get(\"GROQ_API_KEY\"),\n",
    ")\n",
    "    chat_completion = client.chat.completions.create(\n",
    "        messages=[\n",
    "            {\n",
    "                \"role\": \"user\",\n",
    "                \"content\": \"summarize the following \"+text,\n",
    "            }\n",
    "        ],\n",
    "        model=\"llama3-70b-8192\",\n",
    "    )\n",
    "    return chat_completion.choices[0].message.content"
   ]
  },
  {
   "cell_type": "code",
   "execution_count": 66,
   "metadata": {},
   "outputs": [
    {
     "name": "stdout",
     "output_type": "stream",
     "text": [
      "Here is a summary of Figure 3-5, which is not provided in the text:\n",
      "\n",
      "Since Figure 3-5 is not provided, I assume it is related to finding the intersection points between two functions.\n",
      "\n",
      "The text discusses interpolation, which is a technique used to estimate intermediate values between data points. SciPy offers various functions for interpolation, including univariate and multivariate interpolation.\n",
      "\n",
      "The text provides examples of interpolation using `interp1d` and `UnivariateSpline` functions. It also demonstrates how to interpolate noisy data and how to use `griddata` function for multivariate interpolation.\n",
      "\n",
      "Additionally, the text discusses integration, which is a crucial tool in math and science. SciPy provides functions for numerical integration, and the text explains how to use the `quad` function to integrate a function.\n",
      "\n",
      "Here is a summary of the main points:\n",
      "\n",
      "* Interpolation is used to estimate intermediate values between data points.\n",
      "* SciPy offers various functions for interpolation, including `interp1d` and `UnivariateSpline`.\n",
      "* Interpolation can be used to estimate values between data points in univariate and multivariate datasets.\n",
      "* Noisy data can be interpolated using the `UnivariateSpline` function with a smoothing factor.\n",
      "* The `griddata` function can be used for multivariate interpolation.\n",
      "* Integration is a crucial tool in math and science.\n",
      "* SciPy provides functions for numerical integration, including the `quad` function.\n",
      "* The `quad` function can be used to integrate a function and estimate the error in the solution.\n"
     ]
    }
   ],
   "source": [
    "res=summeriztion('/Users/matansharon/python/Data_science/papers/SciPy and NumPy pdf - EBook Free Download ( PDFDrive ).pdf',30,35)\n",
    "\n",
    "print(res)"
   ]
  }
 ],
 "metadata": {
  "kernelspec": {
   "display_name": ".venv",
   "language": "python",
   "name": "python3"
  },
  "language_info": {
   "codemirror_mode": {
    "name": "ipython",
    "version": 3
   },
   "file_extension": ".py",
   "mimetype": "text/x-python",
   "name": "python",
   "nbconvert_exporter": "python",
   "pygments_lexer": "ipython3",
   "version": "3.10.11"
  }
 },
 "nbformat": 4,
 "nbformat_minor": 2
}
