{
 "cells": [
  {
   "cell_type": "code",
   "execution_count": 69,
   "metadata": {},
   "outputs": [],
   "source": [
    "import os\n",
    "\n",
    "from groq import Groq\n",
    "import nltk\n",
    "from nltk.tokenize import word_tokenize\n",
    "import PyPDF2\n",
    "\n",
    "\n",
    "client = Groq(\n",
    "    api_key=os.environ.get(\"GROQ_API_KEY\"),\n",
    ")\n"
   ]
  },
  {
   "cell_type": "code",
   "execution_count": 68,
   "metadata": {},
   "outputs": [],
   "source": [
    "def summeriztion(file_path:str=\"\",start_page:int=0,end_page:int=10):\n",
    "    file=PyPDF2.PdfReader(file_path)\n",
    "    text=\"\"\n",
    "    for pos in range(start_page,end_page):\n",
    "        if len(word_tokenize(text))<4000:\n",
    "            text+=file.pages[pos].extract_text()\n",
    "    print(len(word_tokenize(text)))\n",
    "        \n",
    "    \n",
    "    chat_completion = client.chat.completions.create(\n",
    "        messages=[\n",
    "            {\n",
    "                \"role\": \"user\",\n",
    "                \"content\": \"summarize the following \"+text,\n",
    "            }\n",
    "        ],\n",
    "        model=\"mixtral-8x7b-32768\"\n",
    "        # model=\"llama3-70b-8192\",\n",
    "    )\n",
    "    return chat_completion.choices[0].message.content"
   ]
  },
  {
   "cell_type": "code",
   "execution_count": 77,
   "metadata": {},
   "outputs": [],
   "source": [
    "def simple_chat(text):\n",
    "    chat_completion = client.chat.completions.create(\n",
    "        messages=[\n",
    "            {\n",
    "                \"role\": \"user\",\n",
    "                \"content\":f\"answer the following question: {text}\",\n",
    "            }\n",
    "        ],\n",
    "        model=\"mixtral-8x7b-32768\"\n",
    "        # model=\"llama3-70b-8192\",\n",
    "    )\n",
    "    \n",
    "    return chat_completion.choices[0].message.content"
   ]
  },
  {
   "cell_type": "code",
   "execution_count": 80,
   "metadata": {},
   "outputs": [],
   "source": [
    "res=simple_chat(\"write me a python function that recive a device name and return and output from the FDA API\")"
   ]
  },
  {
   "cell_type": "code",
   "execution_count": 82,
   "metadata": {},
   "outputs": [
    {
     "name": "stdout",
     "output_type": "stream",
     "text": [
      "To write a Python function that receives a device name and returns output from the FDA API, you will need to use the requests library to make an API request to the FDA's OpenFDA device database. Here is an example of how you might write this function:\n",
      "```\n",
      "import requests\n",
      "\n",
      "def get_device_info(device_name):\n",
      "    # The base URL for the OpenFDA device database\n",
      "    base_url = \"https://api.fda.gov/device/enforcement.json\"\n",
      "\n",
      "    # The parameters for the API request\n",
      "    params = {\n",
      "        \"search\": f\"device.device_name:{device_name}\",\n",
      "        \"limit\": 10\n",
      "    }\n",
      "\n",
      "    # Make the API request\n",
      "    response = requests.get(base_url, params=params)\n",
      "\n",
      "    # Check if the request was successful\n",
      "    if response.status_code == 200:\n",
      "        # Return the JSON response\n",
      "        return response.json()\n",
      "    else:\n",
      "        # If the request was not successful, return an error message\n",
      "        return {\"error\": \"Failed to retrieve data from FDA API\"}\n",
      "```\n",
      "This function takes a device name as input and makes a request to the OpenFDA device database for enforcement reports related to that device. The request includes a limit of 10 results. If the request is successful, the function returns the JSON response. If the request is not successful, the function returns an error message.\n",
      "\n",
      "You can then call this function by passing in a device name as an argument, like this:\n",
      "```\n",
      "device_info = get_device_info(\"Syringe\")\n",
      "print(device_info)\n",
      "```\n",
      "I hope this helps! Let me know if you have any questions.\n"
     ]
    }
   ],
   "source": [
    "print(res)"
   ]
  },
  {
   "cell_type": "code",
   "execution_count": null,
   "metadata": {},
   "outputs": [],
   "source": [
    "import requests\n",
    "\n",
    "def get_device_info(device_name):\n",
    "    # The base URL for the OpenFDA device database\n",
    "    base_url = \"https://api.fda.gov/device/classifction.json\"\n",
    "\n",
    "    # The parameters for the API request\n",
    "    params = {\n",
    "        \"search\": f\"device.device_name:{device_name}\",\n",
    "        \"limit\": 10\n",
    "    }\n",
    "\n",
    "    # Make the API request\n",
    "    response = requests.get(base_url, params=params)\n",
    "\n",
    "    # Check if the request was successful\n",
    "    if response.status_code == 200:\n",
    "        # Return the JSON response\n",
    "        return response.json()\n",
    "    else:\n",
    "        # If the request was not successful, return an error message\n",
    "        return {\"error\": \"Failed to retrieve data from FDA API\"}"
   ]
  },
  {
   "cell_type": "code",
   "execution_count": 72,
   "metadata": {},
   "outputs": [
    {
     "name": "stdout",
     "output_type": "stream",
     "text": [
      "4171\n",
      "The text discusses various topics in scientific computing using the SciPy library in Python. Here's a summary of the topics covered:\n",
      "\n",
      "**Interpolation**: Interpolation is a technique used to estimate unknown values between known data points. SciPy provides several interpolation functions, including `interp1d` for univariate interpolation and `griddata` for multivariate interpolation. The example code demonstrates interpolation of a sinusoidal function using linear and quadratic fits.\n",
      "\n",
      "**Integration**: SciPy provides functions for numerical integration, including `quad` for definite integrals and `trapz` for numerical integration of discrete data. The example code calculates the definite integral of a function using `quad` and `trapz`.\n",
      "\n",
      "**Statistics**: SciPy's `stats` module provides various statistical functions, including probability distributions, statistical tests, and descriptive statistics. The example code demonstrates how to use statistical functions, such as calculating the mean, standard deviation, and skewness of a dataset.\n",
      "\n",
      "**Spatial and Clustering Analysis**: SciPy provides functions for spatial analysis and clustering, including `scipy.spatial` for distance calculations and `scipy.cluster` for clustering algorithms. The example code demonstrates k-means clustering and hierarchical clustering using `vq` and `hierarchy` modules, respectively.\n",
      "\n",
      "Overall, the text showcases SciPy's capabilities in scientific computing, covering topics such as interpolation, integration, statistics, and spatial and clustering analysis.\n"
     ]
    }
   ],
   "source": [
    "res=summeriztion('/Users/matansharon/python/Data_science/papers/SciPy and NumPy pdf - EBook Free Download ( PDFDrive ).pdf',30,50)\n",
    "\n",
    "print(res)"
   ]
  }
 ],
 "metadata": {
  "kernelspec": {
   "display_name": ".venv",
   "language": "python",
   "name": "python3"
  },
  "language_info": {
   "codemirror_mode": {
    "name": "ipython",
    "version": 3
   },
   "file_extension": ".py",
   "mimetype": "text/x-python",
   "name": "python",
   "nbconvert_exporter": "python",
   "pygments_lexer": "ipython3",
   "version": "3.10.11"
  }
 },
 "nbformat": 4,
 "nbformat_minor": 2
}
