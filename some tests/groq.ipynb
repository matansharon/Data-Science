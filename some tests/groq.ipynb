{
 "cells": [
  {
   "cell_type": "code",
   "execution_count": 17,
   "metadata": {},
   "outputs": [
    {
     "name": "stdout",
     "output_type": "stream",
     "text": [
      "A token is a unit of text, such as a word, character, or subword, depending on the context and the task at hand. Calculating the number of tokens in a given text involves breaking down the text into its constituent parts. Here are some common ways to calculate the number of tokens:\n",
      "\n",
      "**Method 1: Word-level tokenization**\n",
      "\n",
      "Split the text into individual words, separated by spaces, punctuation, or special characters. This is the most common approach.\n",
      "\n",
      "Example: \"Hello, how are you?\" → [\"Hello,\", \"how\", \"are\", \"you?\"]\n",
      "\n",
      "Tokens: 4\n",
      "\n",
      "**Method 2: Character-level tokenization**\n",
      "\n",
      "Split the text into individual characters.\n",
      "\n",
      "Example: \"Hello\" → [\"H\", \"e\", \"l\", \"l\", \"o\"]\n",
      "\n",
      "Tokens: 5\n",
      "\n",
      "**Method 3: Subword-level tokenization**\n",
      "\n",
      "Split the text into subwords, which are smaller units of text, such as word pieces or morphemes.\n",
      "\n",
      "Example: \"unbreakable\" → [\"un-\", \"break-\", \"able\"]\n",
      "\n",
      "Tokens: 3\n",
      "\n",
      "**Method 4: Tokenization using NLTK (Natural Language Toolkit)**\n",
      "\n",
      "Use a library like NLTK, which provides a tokenization function that splits the text into tokens based on word boundaries.\n",
      "\n",
      "Example (Python code):\n",
      "```python\n",
      "import nltk\n",
      "from nltk.tokenize import word_tokenize\n",
      "\n",
      "text = \"Hello, how are you?\"\n",
      "tokens = word_tokenize(text)\n",
      "print(len(tokens))  # Output: 4\n",
      "```\n",
      "**Method 5: Tokenization using spaCy**\n",
      "\n",
      "Use a library like spaCy, which provides a tokenization function that splits the text into tokens based on word boundaries.\n",
      "\n",
      "Example (Python code):\n",
      "```python\n",
      "import spacy\n",
      "\n",
      "nlp = spacy.load(\"en_core_web_sm\")\n",
      "text = \"Hello, how are you?\"\n",
      "doc = nlp(text)\n",
      "print(len(doc))  # Output: 4\n",
      "```\n",
      "The choice of tokenization method depends on the specific task, the type of text data, and the requirements of your project.\n"
     ]
    }
   ],
   "source": [
    "import os\n",
    "\n",
    "from groq import Groq\n",
    "\n",
    "client = Groq(\n",
    "    api_key=os.environ.get(\"GROQ_API_KEY\"),\n",
    ")\n",
    "\n",
    "chat_completion = client.chat.completions.create(\n",
    "    messages=[\n",
    "        {\n",
    "            \"role\": \"user\",\n",
    "            \"content\": \"how to calculate the number of tokens of given text?\",\n",
    "        }\n",
    "    ],\n",
    "    model=\"llama3-70b-8192\",\n",
    ")\n",
    "\n",
    "print(chat_completion.choices[0].message.content)"
   ]
  },
  {
   "cell_type": "code",
   "execution_count": null,
   "metadata": {},
   "outputs": [],
   "source": [
    "import pygame\n",
    "import sys\n",
    "import random\n",
    "import time\n",
    "\n",
    "# Direction constants\n",
    "UP = 1\n",
    "RIGHT = 2\n",
    "DOWN = 3\n",
    "LEFT = 4\n",
    "\n",
    "class SnakeGame:\n",
    "    def __init__(self):\n",
    "        pygame.init()\n",
    "        self.width, self.height = 800, 600\n",
    "        self.screen = pygame.display.set_mode((self.width, self.height))\n",
    "        pygame.display.set_caption(\"Snake Game\")\n",
    "        self.clock = pygame.time.Clock()\n",
    "        self.reset()\n",
    "\n",
    "    def reset(self):\n",
    "        self.direction = RIGHT\n",
    "        self.snake = [(200, 200), (220, 200), (240, 200)]\n",
    "        self.apple = self.get_random_apple()\n",
    "        self.score = 0\n",
    "\n",
    "    def get_random_apple(self):\n",
    "        x = random.randint(0, (self.width - 10) // 10) * 10\n",
    "        y = random.randint(0, (self.height - 10) // 10) * 10\n",
    "        return (x, y)\n",
    "\n",
    "    def play(self):\n",
    "        while True:\n",
    "            for event in pygame.event.get():\n",
    "                if event.type == pygame.QUIT:\n",
    "                    pygame.quit()\n",
    "                    sys.exit()\n",
    "                elif event.type == pygame.KEYDOWN:\n",
    "                    if event.key == pygame.K_UP and self.direction != DOWN:\n",
    "                        self.direction = UP\n",
    "                    elif event.key == pygame.K_DOWN and self.direction != UP:\n",
    "                        self.direction = DOWN\n",
    "                    elif event.key == pygame.K_LEFT and self.direction != RIGHT:\n",
    "                        self.direction = LEFT\n",
    "                    elif event.key == pygame.K_RIGHT and self.direction != LEFT:\n",
    "                        self.direction = RIGHT\n",
    "\n",
    "            self.move_snake()\n",
    "            self.check_collision()\n",
    "            self.draw_game()\n",
    "\n",
    "            pygame.display.update()\n",
    "            self.clock.tick(10)\n",
    "\n",
    "    def move_snake(self):\n",
    "        head = self.snake[0]\n",
    "        if self.direction == UP:\n",
    "            new_head = (head[0], head[1] - 10)\n",
    "        elif self.direction == RIGHT:\n",
    "            new_head = (head[0] + 10, head[1])\n",
    "        elif self.direction == DOWN:\n",
    "            new_head = (head[0], head[1] + 10)\n",
    "        elif self.direction == LEFT:\n",
    "            new_head = (head[0] - 10, head[1])\n",
    "\n",
    "        self.snake.insert(0, new_head)\n",
    "\n",
    "        if self.snake[0] == self.apple:\n",
    "            self.score += 1\n",
    "            self.apple = self.get_random_apple()\n",
    "        else:\n",
    "            self.snake.pop()\n",
    "\n",
    "    def check_collision(self):\n",
    "        if (self.snake[0][0] < 0 or self.snake[0][0] > self.width - 10 or\n",
    "            self.snake[0][1] < 0 or self.snake[0][1] > self.height - 10):\n",
    "            self.game_over()\n",
    "        for i in range(1, len(self.snake)):\n",
    "            if self.snake[0] == self.snake[i]:\n",
    "                self.game_over()\n",
    "\n",
    "    def game_over(self):\n",
    "        print(\"Game Over! Your score is\", self.score)\n",
    "        self.reset()\n",
    "\n",
    "    def draw_game(self):\n",
    "        self.screen.fill((255, 255, 255))\n",
    "        for pos in self.snake:\n",
    "            pygame.draw.rect(self.screen, (0, 255, 0), pygame.Rect(pos[0], pos[1], 10, 10))\n",
    "        pygame.draw.rect(self.screen, (255, 0, 0), pygame.Rect(self.apple[0], self.apple[1], 10, 10))\n",
    "        pygame.display.update()\n",
    "\n",
    "if __name__ == \"__main__\":\n",
    "    game = SnakeGame()\n",
    "    game.play()"
   ]
  },
  {
   "cell_type": "code",
   "execution_count": 2,
   "metadata": {},
   "outputs": [],
   "source": [
    "import PyPDF2\n",
    "\n",
    "def extract_text_from_pdf(pdf_path):\n",
    "    file=PyPDF2.PdfReader(pdf_path)\n",
    "    return file\n",
    "\n",
    "file=extract_text_from_pdf('/Users/matansharon/python/Data_science/papers/attention is all you need.pdf')"
   ]
  },
  {
   "cell_type": "code",
   "execution_count": 6,
   "metadata": {},
   "outputs": [
    {
     "name": "stdout",
     "output_type": "stream",
     "text": [
      "399\n"
     ]
    }
   ],
   "source": [
    "all_words=[]\n",
    "for word in (file.pages[10].extract_text().split(\" \")):\n",
    "    all_words.append(word)\n",
    "print(len(all_words))"
   ]
  },
  {
   "cell_type": "code",
   "execution_count": 10,
   "metadata": {},
   "outputs": [],
   "source": [
    "import nltk\n",
    "from nltk.tokenize import word_tokenize\n"
   ]
  },
  {
   "cell_type": "code",
   "execution_count": 11,
   "metadata": {},
   "outputs": [
    {
     "name": "stdout",
     "output_type": "stream",
     "text": [
      "10\n"
     ]
    }
   ],
   "source": [
    "\n",
    "# nltk.download('punkt')  # Download the required model if not already downloaded\n",
    "\n",
    "def count_tokens_nltk(text):\n",
    "    tokens = word_tokenize(text)\n",
    "    return len(tokens)\n",
    "\n",
    "# Example usage\n",
    "text = \"Hello, world! Isn't this a test?\"\n",
    "token_count = count_tokens_nltk(text)\n",
    "print(token_count)\n"
   ]
  },
  {
   "cell_type": "code",
   "execution_count": 9,
   "metadata": {},
   "outputs": [
    {
     "name": "stdout",
     "output_type": "stream",
     "text": [
      "5493\n"
     ]
    }
   ],
   "source": [
    "exat_pages=\"\"\n",
    "for i in range(10):\n",
    "    exat_pages+=file.pages[i].extract_text()\n",
    "print(count_tokens_nltk(exat_pages))    "
   ]
  }
 ],
 "metadata": {
  "kernelspec": {
   "display_name": ".venv",
   "language": "python",
   "name": "python3"
  },
  "language_info": {
   "codemirror_mode": {
    "name": "ipython",
    "version": 3
   },
   "file_extension": ".py",
   "mimetype": "text/x-python",
   "name": "python",
   "nbconvert_exporter": "python",
   "pygments_lexer": "ipython3",
   "version": "3.10.11"
  }
 },
 "nbformat": 4,
 "nbformat_minor": 2
}
