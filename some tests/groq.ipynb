{
 "cells": [
  {
   "cell_type": "code",
   "execution_count": 69,
   "metadata": {},
   "outputs": [],
   "source": [
    "import os\n",
    "\n",
    "from groq import Groq\n",
    "import nltk\n",
    "from nltk.tokenize import word_tokenize\n",
    "import PyPDF2\n",
    "\n",
    "\n",
    "client = Groq(\n",
    "    api_key=os.environ.get(\"GROQ_API_KEY\"),\n",
    ")\n"
   ]
  },
  {
   "cell_type": "code",
   "execution_count": 68,
   "metadata": {},
   "outputs": [],
   "source": [
    "def summeriztion(file_path:str=\"\",start_page:int=0,end_page:int=10):\n",
    "    file=PyPDF2.PdfReader(file_path)\n",
    "    text=\"\"\n",
    "    for pos in range(start_page,end_page):\n",
    "        if len(word_tokenize(text))<4000:\n",
    "            text+=file.pages[pos].extract_text()\n",
    "    print(len(word_tokenize(text)))\n",
    "        \n",
    "    \n",
    "    chat_completion = client.chat.completions.create(\n",
    "        messages=[\n",
    "            {\n",
    "                \"role\": \"user\",\n",
    "                \"content\": \"summarize the following \"+text,\n",
    "            }\n",
    "        ],\n",
    "        model=\"llama3-70b-8192\",\n",
    "    )\n",
    "    return chat_completion.choices[0].message.content"
   ]
  },
  {
   "cell_type": "code",
   "execution_count": 70,
   "metadata": {},
   "outputs": [
    {
     "name": "stdout",
     "output_type": "stream",
     "text": [
      "1584\n",
      "The text describes the concept of interpolation and integration using SciPy, a scientific computing library for Python. Here's a summary of Figure 3-5, which is not provided, but the surrounding text explains the concept of interpolation:\n",
      "\n",
      "**Interpolation**:\n",
      "\n",
      "Interpolation is a method of finding intermediate values between known data points. SciPy provides several functions for interpolation, including `interp1d` for univariate interpolation and `griddata` for multivariate interpolation.\n",
      "\n",
      "**Univariate Interpolation**:\n",
      "\n",
      "* `interp1d` is used for univariate interpolation, which involves finding intermediate values between known data points in a single variable.\n",
      "* The function can be fitted with different parameters, such as \"linear\" or \"quadratic\", to achieve better interpolation results.\n",
      "\n",
      "**Multivariate Interpolation**:\n",
      "\n",
      "* `griddata` is used for multivariate interpolation, which involves finding intermediate values between known data points in multiple variables.\n",
      "* This function is useful for reconstructing images from a set of points.\n",
      "\n",
      "**Example Code**:\n",
      "\n",
      "The provided code examples demonstrate how to use `interp1d` and `griddata` for univariate and multivariate interpolation, respectively.\n",
      "\n",
      "**Integration**:\n",
      "\n",
      "The text also briefly introduces integration, which is another crucial concept in calculus. SciPy provides functions for numerical integration, including `quad` for definite integrals. The example code shows how to use `quad` to integrate a function.\n",
      "\n",
      "Overall, the text explains how to use SciPy for interpolation and integration, providing examples and code snippets to illustrate these concepts.\n"
     ]
    }
   ],
   "source": [
    "res=summeriztion('/Users/matansharon/python/Data_science/papers/SciPy and NumPy pdf - EBook Free Download ( PDFDrive ).pdf',30,35)\n",
    "\n",
    "print(res)"
   ]
  }
 ],
 "metadata": {
  "kernelspec": {
   "display_name": ".venv",
   "language": "python",
   "name": "python3"
  },
  "language_info": {
   "codemirror_mode": {
    "name": "ipython",
    "version": 3
   },
   "file_extension": ".py",
   "mimetype": "text/x-python",
   "name": "python",
   "nbconvert_exporter": "python",
   "pygments_lexer": "ipython3",
   "version": "3.10.11"
  }
 },
 "nbformat": 4,
 "nbformat_minor": 2
}
