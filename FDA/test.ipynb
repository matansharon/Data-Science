{
 "cells": [
  {
   "cell_type": "code",
   "execution_count": null,
   "metadata": {},
   "outputs": [],
   "source": [
    "import requests\n",
    "import pandas as pd\n",
    "\n",
    "def query_fda_for_device(api_key, device_name, limit=10):\n",
    "    \"\"\"\n",
    "    Fetches device event data from openFDA for a specified device name and converts it to a pandas DataFrame.\n",
    "    \n",
    "    Args:\n",
    "    - api_key (str): Your API key for accessing openFDA.\n",
    "    - device_name (str): Name of the device to search for.\n",
    "    - limit (int): Number of results to return.\n",
    "\n",
    "    Returns:\n",
    "    - DataFrame: A DataFrame containing the device event data.\n",
    "    \"\"\"\n",
    "    base_url = \"https://api.fda.gov/device/event.json\"\n",
    "    query_params = {\n",
    "        'search': f'device.generic_name:{device_name}',\n",
    "        'limit': limit\n",
    "    }\n",
    "    response = requests.get(base_url, headers={'Content-Type': 'application/json'}, params=query_params)\n",
    "    if response.status_code == 200:\n",
    "        data = response.json()\n",
    "        # Extract results and convert to DataFrame\n",
    "        results = data['results'] if 'results' in data else []\n",
    "        df = pd.DataFrame(results)\n",
    "        return df\n",
    "    else:\n",
    "        print(f\"Failed to retrieve data: {response.status_code}, {response.text}\")\n",
    "        return pd.DataFrame()  # Returns an empty DataFrame in case of an error\n",
    "\n",
    "# Usage\n",
    "api_key = 'YOUR_API_KEY'  # Replace with your actual API key\n",
    "device_name = '\"Stopcock, I.V. Set\"'\n",
    "df = query_fda_for_device(api_key, device_name, limit=5)\n",
    "\n"
   ]
  },
  {
   "cell_type": "code",
   "execution_count": 8,
   "metadata": {},
   "outputs": [
    {
     "data": {
      "text/plain": [
       "Index(['manufacturer_contact_zip_ext', 'manufacturer_g1_address_2',\n",
       "       'event_location', 'report_to_fda', 'manufacturer_contact_t_name',\n",
       "       'manufacturer_contact_state', 'manufacturer_link_flag',\n",
       "       'manufacturer_contact_address_2', 'manufacturer_g1_city',\n",
       "       'manufacturer_contact_address_1', 'manufacturer_contact_pcity',\n",
       "       'event_type', 'report_number', 'type_of_report', 'product_problem_flag',\n",
       "       'date_received', 'manufacturer_address_2', 'pma_pmn_number',\n",
       "       'date_of_event', 'reprocessed_and_reused_flag',\n",
       "       'manufacturer_address_1', 'exemption_number',\n",
       "       'manufacturer_contact_zip_code', 'reporter_occupation_code',\n",
       "       'manufacturer_contact_plocal', 'noe_summarized',\n",
       "       'manufacturer_contact_l_name', 'source_type',\n",
       "       'distributor_zip_code_ext', 'manufacturer_g1_postal_code',\n",
       "       'manufacturer_g1_state', 'reporter_country_code',\n",
       "       'manufacturer_contact_area_code', 'date_added',\n",
       "       'manufacturer_contact_f_name', 'device_date_of_manufacturer',\n",
       "       'previous_use_code', 'device', 'product_problems',\n",
       "       'manufacturer_zip_code', 'manufacturer_contact_country', 'date_changed',\n",
       "       'health_professional', 'summary_report_flag',\n",
       "       'manufacturer_g1_zip_code_ext', 'manufacturer_contact_extension',\n",
       "       'manufacturer_city', 'manufacturer_contact_phone_number', 'patient',\n",
       "       'distributor_city', 'date_report', 'initial_report_to_fda',\n",
       "       'distributor_state', 'event_key', 'manufacturer_g1_country',\n",
       "       'manufacturer_contact_city', 'mdr_report_key',\n",
       "       'removal_correction_number', 'number_devices_in_event',\n",
       "       'date_manufacturer_received', 'manufacturer_name', 'report_source_code',\n",
       "       'remedial_action', 'manufacturer_g1_zip_code', 'report_to_manufacturer',\n",
       "       'manufacturer_zip_code_ext', 'manufacturer_g1_name',\n",
       "       'adverse_event_flag', 'distributor_address_1', 'manufacturer_state',\n",
       "       'distributor_address_2', 'manufacturer_postal_code', 'single_use_flag',\n",
       "       'manufacturer_country', 'mdr_text', 'number_patients_in_event',\n",
       "       'distributor_name', 'manufacturer_g1_address_1', 'distributor_zip_code',\n",
       "       'manufacturer_contact_postal_code', 'manufacturer_contact_exchange',\n",
       "       'manufacturer_contact_pcountry'],\n",
       "      dtype='object')"
      ]
     },
     "execution_count": 8,
     "metadata": {},
     "output_type": "execute_result"
    }
   ],
   "source": [
    "df.columns"
   ]
  }
 ],
 "metadata": {
  "kernelspec": {
   "display_name": ".venv",
   "language": "python",
   "name": "python3"
  },
  "language_info": {
   "codemirror_mode": {
    "name": "ipython",
    "version": 3
   },
   "file_extension": ".py",
   "mimetype": "text/x-python",
   "name": "python",
   "nbconvert_exporter": "python",
   "pygments_lexer": "ipython3",
   "version": "3.10.11"
  }
 },
 "nbformat": 4,
 "nbformat_minor": 2
}
