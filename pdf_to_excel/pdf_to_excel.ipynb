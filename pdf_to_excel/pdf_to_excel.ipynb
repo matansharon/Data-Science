{
 "cells": [
  {
   "cell_type": "code",
   "execution_count": 8,
   "metadata": {},
   "outputs": [],
   "source": [
    "#read the text from pdf file using pypdf2\n",
    "import PyPDF2\n",
    "import re\n",
    "import pandas as pd\n",
    "import numpy as np\n",
    "import os\n",
    "import sys\n",
    "import glob\n",
    "import time\n",
    "import datetime\n",
    "\n",
    "# Path: pdf_to_excel.ipynb\n",
    "#read the text from pdf file using pypdf2\n",
    "\n",
    "def read_pdf(file):\n",
    "    pdfFileObj = open(file, 'rb')\n",
    "    pdfReader = PyPDF2.PdfReader(pdfFileObj)\n",
    "    pageObj = pdfReader.pages[0]\n",
    "    return pageObj.extract_text()\n",
    "\n",
    "\n"
   ]
  },
  {
   "cell_type": "code",
   "execution_count": 9,
   "metadata": {},
   "outputs": [],
   "source": [
    "text2=read_pdf('2009.pdf')\n",
    "text3=read_pdf('2020.pdf')\n"
   ]
  },
  {
   "cell_type": "code",
   "execution_count": 10,
   "metadata": {},
   "outputs": [
    {
     "data": {
      "text/plain": [
       "'01/08/23 קיבוץ ברעם \\n08:08 כלבו ח ש ב ו ן   פ נ י מ יח ש ב ו ן   פ נ י מ יח ש ב ו ן   פ נ י מ יח ש ב ו ן   פ נ י מ י **העתק** \\n31/07/23 עד תאריך 01/07/23 מתאריך 1\\nעדי בח שם קופאי 05/07/23 מתאריך 14335701 אסמכתת מכירה מספר \\nענפים () אלכם דלתון 2009 ללקוח \\nסכום מחיר יח\\' כמות תאור פריט מספר פריט \\n117.00 11.70 יח 10.00 יח 4263  טחינה אחלה 500  גרם \\n117.00 11.70 יח 10.00 יח 4263  טחינה אחלה 500  גרם \\n117.00 11.70 יח 10.00 יח 4263  טחינה אחלה 500  גרם \\n351.00 סה\"כ תעודת מכירה 351.00 טרם שולם \\n351.00 סה\"כ קניות לתקופה \\nעדי בח שם קופאי 10/07/23 מתאריך 09464901 אסמכתת מכירה מספר \\nענפים () אלכם דלתון 2009 ללקוח \\nרגידה \\nסכום מחיר יח\\' כמות תאור פריט מספר פריט \\n83.00 8.30 יח 10.00 יח 40665  טחינה 400  גרם מבצע \\n16.60 8.30 יח 2.00 יח 40665  טחינה 400  גרם מבצע \\n99.60 סה\"כ תעודת מכירה 450.60 טרם שולם \\n450.60 סה\"כ קניות לתקופה \\nעדי בח שם קופאי 10/07/23 מתאריך 10011701 אסמכתת מכירה מספר \\nענפים () אלכם דלתון 2009 ללקוח \\nסכום מחיר יח\\' כמות תאור פריט מספר פריט \\n125.40 20.90 יח 6.00 יח 8161  אג\\'קס חלונות 750 * 2  יח \\n125.40 סה\"כ תעודת מכירה 576.00 טרם שולם \\n576.00 סה\"כ קניות לתקופה \\nיוחאי א שם קופאי 10/07/23 מתאריך 14102701 אסמכתת מכירה מספר \\nענפים () אלכם דלתון 2009 ללקוח \\nסכום מחיר יח\\' כמות תאור פריט מספר פריט \\n15.00 15.00 ל 1.00 ל 119767  גלבוע 5%  200 גר \\n41.00 20.50 קג 2.00 קג ) 1( יח 26891  גבינה צהובה גלבוע 22%  400 ג\\n56.00 סה\"כ תעודת מכירה 632.00 טרם שולם \\n632.00 סה\"כ קניות לתקופה \\nעדי בח שם קופאי 13/07/23 מתאריך 07385201 אסמכתת מכירה מספר \\nענפים () אלכם דלתון 2009 ללקוח \\nפאתינה \\nסכום מחיר יח\\' כמות תאור פריט מספר פריט \\n0.60 0.10 ל 6.00 ל 4941  גבינה לבנה 5%  250  גרם תנובה \\n0.30 0.10 יח 3.00 יח 3166  \\'קוטג 5%   תנובה 250  גרם \\n1.00 0.10 יח 10.00 יח 7452  קוטג\\' בקטנה 9%  100 ג תנובה \\n0.10 0.10 יח 1.00 יח 7452  קוטג\\' בקטנה 9%  100 ג תנובה \\n0.10 0.10 יח 1.00 יח 7553  קוטג\\' בקטנה5%  100 ג תנובה'"
      ]
     },
     "execution_count": 10,
     "metadata": {},
     "output_type": "execute_result"
    }
   ],
   "source": [
    "text2\n"
   ]
  },
  {
   "cell_type": "code",
   "execution_count": 11,
   "metadata": {},
   "outputs": [],
   "source": [
    "#output the text variable to a text file\n",
    "with open('file_1.txt', 'w') as f:\n",
    "    f.write(text2)\n",
    "with open('file_2.txt', 'w') as f:\n",
    "    f.write(text3)\n",
    "\n"
   ]
  },
  {
   "cell_type": "code",
   "execution_count": 15,
   "metadata": {},
   "outputs": [],
   "source": [
    "# df=pd.read_csv('data.csv')\n",
    "# df.head()\n",
    "# df.to_excel('data.xlsx')"
   ]
  },
  {
   "cell_type": "code",
   "execution_count": 1,
   "metadata": {},
   "outputs": [
    {
     "data": {
      "text/plain": [
       "[   סכום  מחיר יח'  כמות Unnamed: 0              תאור פריט  מספר פריט\n",
       " 0  16.6   8.3  יח   2.0         יח  כרוב אדום אחלה 400גר'       6332,\n",
       "     סכום  מחיר יח'  כמות Unnamed: 0                 תאור פריט  מספר פריט\n",
       " 0  151.0  15.1  קג  10.0         קג  בורקס תפ\"א מעדנות 800 גר       5455\n",
       " 1   30.2  15.1  קג   2.0         קג  בורקס תפ\"א מעדנות 800 גר       5455\n",
       " 2  151.0  15.1  קג  10.0         קג  בורקס תפ\"א מעדנות 800 גר       5455\n",
       " 3   30.2  15.1  קג   2.0         קג  בורקס תפ\"א מעדנות 800 גר       5455,\n",
       "    סכום  מחיר יח'  כמות Unnamed: 0                   תאור פריט  מספר פריט\n",
       " 0  53.4   8.9  יח   6.0         יח           חומוס 400 גרם צבר       1933\n",
       " 1  57.0   9.5  יח   6.0         יח    סלט כרוב אדום 400 גר צבר      23606\n",
       " 2  38.0   9.5  יח   4.0         יח  חציל בטחינה על האש צבר 400        173,\n",
       "    סכום  מחיר יח'  כמות Unnamed: 0                  תאור פריט  מספר פריט\n",
       " 0  19.0   9.5  יח   2.0         יח  צבר מטבוחה אמיתית 400 גרם       1143,\n",
       "    סכום  מחיר יח'  כמות Unnamed: 0                  תאור פריט  מספר פריט\n",
       " 0  49.8   8.3  יח   6.0         יח         טחינה 400 גרם מבצע      40665\n",
       " 1  33.2   8.3  יח   4.0         יח              מטבוחה שטראוס      32616\n",
       " 2  19.0   9.5  יח   2.0         יח  צבר מטבוחה אמיתית 400 גרם       1143,\n",
       "                 Unnamed: 0 Unnamed: 1       Unnamed: 2     רגידה  Unnamed: 3  \\\n",
       " 0                מחיר סכום        יח'              NaN      כמות         NaN   \n",
       " 1               16.60 8.30         יח              NaN  2.00  יח         NaN   \n",
       " 2  16.60  סה\"כ תעודת מכירה        NaN              NaN       NaN         NaN   \n",
       " 3  16.60 סה\"כ קניות לתקופה        NaN              NaN       NaN         NaN   \n",
       " 4          שם קופאי עדי בח        NaN  מתאריך 05/07/23       NaN         NaN   \n",
       " 5                        (        NaN          ) ענפים       NaN         NaN   \n",
       " 6                      NaN        NaN              NaN     רגידה         NaN   \n",
       " 7                מחיר סכום        יח'              NaN      כמות         NaN   \n",
       " \n",
       "    כרטיס אלכם משמרת לילה2005000  Unnamed: 4  Unnamed: 5 Unnamed: 6  \n",
       " 0                     תאור פריט         NaN         NaN  מספר פריט  \n",
       " 1         כרוב אדום אחלה 400גר'         NaN         NaN       6332  \n",
       " 2                16.60 טרם שולם         NaN         NaN        NaN  \n",
       " 3                           NaN         NaN         NaN        NaN  \n",
       " 4    אסמכתת מכירה מספר 09332301         NaN         NaN        NaN  \n",
       " 5     ללקוח אלכם משמרת לילה2005         NaN         NaN        NaN  \n",
       " 6  כרטיס אלכם משמרת לילה2005000         NaN         NaN        NaN  \n",
       " 7                     תאור פריט         NaN         NaN  מספר פריט  ,\n",
       "    סכום  מחיר יח'  כמות Unnamed: 0             תאור פריט  מספר פריט\n",
       " 0  19.0   9.5  יח   2.0         יח  צבר חומוס צנובר 400ג        179\n",
       " 1   8.9   8.9  יח   1.0         יח     חומוס 400 גרם צבר       1933,\n",
       "    סכום  מחיר יח'  כמות Unnamed: 0              תאור פריט  מספר פריט\n",
       " 0  70.0   7.0  יח  10.0         יח     טחינה 400 גרם מבצע      40665\n",
       " 1  14.0   7.0  יח   2.0         יח     טחינה 400 גרם מבצע      40665\n",
       " 2  42.0   7.0  יח   6.0         יח  כרוב אדום אחלה 400גר'       6332,\n",
       "    סכום  מחיר יח'  כמות Unnamed: 0                 תאור פריט  מספר פריט\n",
       " 0   8.2   8.2  יח   1.0         יח  חומוס טחינה 400 גרם אחלה      11605\n",
       " 1   8.2   8.2  יח   1.0         יח  חומוס טחינה 400 גרם אחלה      11605\n",
       " 2   9.5   9.5  יח   1.0         יח         חומוס אבו גוש צבר      40767,\n",
       "     סכום  מחיר יח'  כמות Unnamed: 0                    תאור פריט  מספר פריט\n",
       " 0  232.0  23.2  קג  10.0         קג  צמד סלמי פריזר ופסטרמה כפרי     111353,\n",
       " Empty DataFrame\n",
       " Columns: [רגידה, אלכם משמרת לילה, 2005000, כרטיס]\n",
       " Index: [],\n",
       "    סכום  מחיר יח'  כמות Unnamed: 0                   תאור פריט  מספר פריט\n",
       " 0  86.0   8.6  יח  10.0         יח  חציל בטחינה על האש צבר 400        173\n",
       " 1  17.2   8.6  יח   2.0         יח  חציל בטחינה על האש צבר 400        173\n",
       " 2  86.0   8.6  יח  10.0         יח           חומוס 400 גרם צבר       1933\n",
       " 3  17.2   8.6  יח   2.0         יח           חומוס 400 גרם צבר       1933]"
      ]
     },
     "execution_count": 1,
     "metadata": {},
     "output_type": "execute_result"
    }
   ],
   "source": [
    "import tabula\n",
    "df=tabula.read_pdf('2005.pdf',pages='all')\n",
    "df"
   ]
  },
  {
   "cell_type": "code",
   "execution_count": 2,
   "metadata": {},
   "outputs": [],
   "source": [
    "# df.to_excel('data.xlsx')\n",
    "tabula.convert_into('2005.pdf','data.csv',output_format='csv',pages='all')"
   ]
  },
  {
   "cell_type": "code",
   "execution_count": 6,
   "metadata": {},
   "outputs": [
    {
     "ename": "AttributeError",
     "evalue": "module 'pandas' has no attribute 'read_text'",
     "output_type": "error",
     "traceback": [
      "\u001b[1;31m---------------------------------------------------------------------------\u001b[0m",
      "\u001b[1;31mAttributeError\u001b[0m                            Traceback (most recent call last)",
      "Cell \u001b[1;32mIn[6], line 1\u001b[0m\n\u001b[1;32m----> 1\u001b[0m df2\u001b[39m=\u001b[39mpd\u001b[39m.\u001b[39;49mread_text(\u001b[39m'\u001b[39m\u001b[39m2005.pdf\u001b[39m\u001b[39m'\u001b[39m,encoding\u001b[39m=\u001b[39m\u001b[39m'\u001b[39m\u001b[39mutf-8\u001b[39m\u001b[39m'\u001b[39m, errors\u001b[39m=\u001b[39m\u001b[39mNone\u001b[39;00m)\n\u001b[0;32m      2\u001b[0m df2\u001b[39m.\u001b[39mhead()\n",
      "File \u001b[1;32mc:\\Users\\matan.s\\AppData\\Local\\anaconda3\\envs\\ai\\lib\\site-packages\\pandas\\__init__.py:264\u001b[0m, in \u001b[0;36m__getattr__\u001b[1;34m(name)\u001b[0m\n\u001b[0;32m    260\u001b[0m     \u001b[39mfrom\u001b[39;00m \u001b[39mpandas\u001b[39;00m\u001b[39m.\u001b[39;00m\u001b[39mcore\u001b[39;00m\u001b[39m.\u001b[39;00m\u001b[39marrays\u001b[39;00m\u001b[39m.\u001b[39;00m\u001b[39msparse\u001b[39;00m \u001b[39mimport\u001b[39;00m SparseArray \u001b[39mas\u001b[39;00m _SparseArray\n\u001b[0;32m    262\u001b[0m     \u001b[39mreturn\u001b[39;00m _SparseArray\n\u001b[1;32m--> 264\u001b[0m \u001b[39mraise\u001b[39;00m \u001b[39mAttributeError\u001b[39;00m(\u001b[39mf\u001b[39m\u001b[39m\"\u001b[39m\u001b[39mmodule \u001b[39m\u001b[39m'\u001b[39m\u001b[39mpandas\u001b[39m\u001b[39m'\u001b[39m\u001b[39m has no attribute \u001b[39m\u001b[39m'\u001b[39m\u001b[39m{\u001b[39;00mname\u001b[39m}\u001b[39;00m\u001b[39m'\u001b[39m\u001b[39m\"\u001b[39m)\n",
      "\u001b[1;31mAttributeError\u001b[0m: module 'pandas' has no attribute 'read_text'"
     ]
    }
   ],
   "source": [
    "\n",
    "df2=pd.read('2005.pdf',encoding='utf-8', errors=None)\n",
    "df2.head()"
   ]
  }
 ],
 "metadata": {
  "kernelspec": {
   "display_name": "ai",
   "language": "python",
   "name": "python3"
  },
  "language_info": {
   "codemirror_mode": {
    "name": "ipython",
    "version": 3
   },
   "file_extension": ".py",
   "mimetype": "text/x-python",
   "name": "python",
   "nbconvert_exporter": "python",
   "pygments_lexer": "ipython3",
   "version": "3.10.9"
  },
  "orig_nbformat": 4
 },
 "nbformat": 4,
 "nbformat_minor": 2
}
