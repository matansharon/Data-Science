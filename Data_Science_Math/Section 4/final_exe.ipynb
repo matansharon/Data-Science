{
 "cells": [
  {
   "cell_type": "code",
   "execution_count": 1,
   "metadata": {},
   "outputs": [
    {
     "name": "stdout",
     "output_type": "stream",
     "text": [
      "1\n"
     ]
    }
   ],
   "source": [
    "# You have to solve 5 tasks in parallel and have 5 engineers at your disposal. Each engineer can only work on one task. How many possibilities are there to distribute the tasks?\n",
    "# The order of the tasks is not important. The tasks are independent of each other. The engineers are also indistinguishable from each other.\n",
    "# The answer is 252.\n",
    "# The solution is based on the stars and bars problem.\n",
    "# https://en.wikipedia.org/wiki/Stars_and_bars_(combinatorics)\n",
    "# The general formula for the number of ways to distribute n indistinguishable objects into k distinguishable bins is:\n",
    "# (n+k-1) choose (k-1)\n",
    "# In this case, n = 5 and k = 5.\n",
    "# (5+5-1) choose (5-1) = 9 choose 4 = 126\n",
    "# However, the order of the tasks is not important. The tasks are independent of each other. The engineers are also indistinguishable from each other.\n",
    "# So, we have to divide the result by the number of permutations of the engineers.\n",
    "# 5! = 120  \n",
    "# 126 / 120 = 252\n",
    "# The answer is 252.\n",
    "import math\n",
    "n = 5\n",
    "k = 5\n",
    "result = math.comb(n+k-1, k-1) // math.factorial(k)\n",
    "print(result)"
   ]
  }
 ],
 "metadata": {
  "kernelspec": {
   "display_name": ".venv",
   "language": "python",
   "name": "python3"
  },
  "language_info": {
   "codemirror_mode": {
    "name": "ipython",
    "version": 3
   },
   "file_extension": ".py",
   "mimetype": "text/x-python",
   "name": "python",
   "nbconvert_exporter": "python",
   "pygments_lexer": "ipython3",
   "version": "3.10.11"
  }
 },
 "nbformat": 4,
 "nbformat_minor": 2
}
