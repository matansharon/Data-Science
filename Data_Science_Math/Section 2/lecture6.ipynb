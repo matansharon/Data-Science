{
 "cells": [
  {
   "cell_type": "markdown",
   "metadata": {},
   "source": [
    "# Summary: Quartiles and Interquartile Range (IQR) in Data Sets\n",
    "\n",
    "## Understanding Quartiles\n",
    "Quartiles divide a data set into four equal parts, providing insights into the distribution of data.\n",
    "\n",
    "### Calculation of Quartiles\n",
    "- **First Quartile (Q1)**: Also known as the lower quartile or 25th percentile, it is the median of the lower half of the data.\n",
    "- **Second Quartile (Q2)**: This is the median of the data set, also the 50th percentile.\n",
    "- **Third Quartile (Q3)**: Known as the upper quartile or 75th percentile, it is the median of the upper half of the data.\n",
    "\n",
    "## Example: Golf Scores\n",
    "- Data Set: Golf scores of 18 players, ranging from 66 to 75.\n",
    "- Median (Q2) = 69 (calculated as the mean of the two middle values in an ordered data set).\n",
    "- Q1 and Q3 are calculated as the median of the respective lower and upper halves of the data set.\n",
    "\n",
    "## Five Number Summary\n",
    "A concise description of a data set, which includes:\n",
    "1. **Minimum Value**\n",
    "2. **First Quartile (Q1)**\n",
    "3. **Median (Q2)**\n",
    "4. **Third Quartile (Q3)**\n",
    "5. **Maximum Value**\n",
    "\n",
    "- Provides a view of the data's center and spread.\n",
    "- Range of the data set is defined as the maximum value minus the minimum value.\n",
    "\n",
    "## Interquartile Range (IQR)\n",
    "- IQR = Q3 - Q1\n",
    "- Represents the middle 50% of the data.\n",
    "- A smaller IQR indicates data points clustered near the median, while a larger IQR suggests a wider spread.\n",
    "\n",
    "## Identifying Outliers with IQR\n",
    "- Outliers can be identified using quartiles and IQR.\n",
    "- Lower Bound for Outliers: Q1 - 1.5 * IQR\n",
    "- Upper Bound for Outliers: Q3 + 1.5 * IQR\n",
    "- Values outside these bounds are considered outliers.\n",
    "\n",
    "## Conclusion\n",
    "Quartiles and IQR provide valuable insights into the distribution of a data set, highlighting the spread and identifying potential outliers.\n"
   ]
  },
  {
   "cell_type": "code",
   "execution_count": 1,
   "metadata": {},
   "outputs": [
    {
     "name": "stdout",
     "output_type": "stream",
     "text": [
      "Quartiles: Q1 = 68.0, Q2 = 69.0, Q3 = 70.75\n",
      "Interquartile Range (IQR) = 2.75\n",
      "Lower Bound for Outliers = 63.875\n",
      "Upper Bound for Outliers = 74.875\n",
      "Potential Outliers: [75]\n"
     ]
    }
   ],
   "source": [
    "import numpy as np\n",
    "\n",
    "# Example data: Golf scores of 18 players\n",
    "golf_scores = np.array([66, 67, 67, 68, 68, 68, 68, 69, 69, 69, 69, 70, 70, 71, 71, 72, 73, 75])\n",
    "\n",
    "# Calculate quartiles\n",
    "Q1 = np.percentile(golf_scores, 25)\n",
    "Q2 = np.percentile(golf_scores, 50)\n",
    "Q3 = np.percentile(golf_scores, 75)\n",
    "\n",
    "# Calculate Interquartile Range (IQR)\n",
    "IQR = Q3 - Q1\n",
    "\n",
    "# Determine outliers\n",
    "lower_bound = Q1 - 1.5 * IQR\n",
    "upper_bound = Q3 + 1.5 * IQR\n",
    "\n",
    "# Identify potential outliers\n",
    "outliers = golf_scores[(golf_scores < lower_bound) | (golf_scores > upper_bound)]\n",
    "\n",
    "# Print results\n",
    "print(f\"Quartiles: Q1 = {Q1}, Q2 = {Q2}, Q3 = {Q3}\")\n",
    "print(f\"Interquartile Range (IQR) = {IQR}\")\n",
    "print(f\"Lower Bound for Outliers = {lower_bound}\")\n",
    "print(f\"Upper Bound for Outliers = {upper_bound}\")\n",
    "print(f\"Potential Outliers: {outliers}\")\n"
   ]
  }
 ],
 "metadata": {
  "kernelspec": {
   "display_name": ".venv",
   "language": "python",
   "name": "python3"
  },
  "language_info": {
   "codemirror_mode": {
    "name": "ipython",
    "version": 3
   },
   "file_extension": ".py",
   "mimetype": "text/x-python",
   "name": "python",
   "nbconvert_exporter": "python",
   "pygments_lexer": "ipython3",
   "version": "3.10.11"
  }
 },
 "nbformat": 4,
 "nbformat_minor": 2
}
