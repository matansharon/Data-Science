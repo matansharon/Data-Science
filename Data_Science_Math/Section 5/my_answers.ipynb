{
 "cells": [
  {
   "cell_type": "code",
   "execution_count": 2,
   "metadata": {},
   "outputs": [],
   "source": [
    "#read the pdf file and extract the text\n",
    "import PyPDF2\n",
    "import os\n",
    "import re\n",
    "import csv\n",
    "import pandas as pd\n",
    "import numpy as np\n",
    "import matplotlib.pyplot as plt\n",
    "\n",
    "#read the pdf file\n",
    "def read_pdf(file):\n",
    "    pdf_file = open(file, 'rb')\n",
    "    pdf_reader = PyPDF2.PdfReader(pdf_file)\n",
    "    num_pages = len(pdf_reader.pages)\n",
    "    text = ''\n",
    "    for i in range(num_pages):\n",
    "        text += pdf_reader.pages[i].extract_text()\n",
    "    return text\n",
    "file ='/Users/matansharon/python/Data_science/Data_Science_Math/Section 5/04-Probability-Practice-Questions.pdf'\n",
    "file= read_pdf(file)\n",
    "#save the file as a text file\n",
    "with open('probability.txt', 'w') as f:\n",
    "    f.write(file)\n",
    "    "
   ]
  },
  {
   "cell_type": "code",
   "execution_count": null,
   "metadata": {},
   "outputs": [],
   "source": [
    "# 1. Question | Given 100 coin tosses. 40 show head and 60 tail. Can you state that P(head) = 0.4?\n",
    "#no\n"
   ]
  },
  {
   "cell_type": "markdown",
   "metadata": {},
   "source": [
    "<!-- 2. Question | How often would you need to throw the coin to be certain that\n",
    "P(head)=0.4? How often if you just want to be \\very sure\"? What is the\n",
    "underlying rule? -->\n"
   ]
  }
 ],
 "metadata": {
  "kernelspec": {
   "display_name": ".venv",
   "language": "python",
   "name": "python3"
  },
  "language_info": {
   "codemirror_mode": {
    "name": "ipython",
    "version": 3
   },
   "file_extension": ".py",
   "mimetype": "text/x-python",
   "name": "python",
   "nbconvert_exporter": "python",
   "pygments_lexer": "ipython3",
   "version": "3.10.11"
  }
 },
 "nbformat": 4,
 "nbformat_minor": 2
}
