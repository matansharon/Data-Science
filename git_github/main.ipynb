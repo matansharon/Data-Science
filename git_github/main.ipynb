{
 "cells": [
  {
   "cell_type": "markdown",
   "metadata": {},
   "source": [
    "# Git Basic Workflow\n",
    "\n",
    "## Overview\n",
    "\n",
    "This lecture introduces the basics of using Git, focusing on a workflow suitable for a solo developer working within a single branch. We'll cover the essential steps from initializing a repository to pushing changes to GitHub.\n",
    "\n",
    "## Key Concepts\n",
    "\n",
    "- **Local Machine and GitHub**: Understanding the distinction and interaction between your local repository and GitHub.\n",
    "- **Initializing a Repository**: Using `git init` to create a new repository on your local machine.\n",
    "- **Tracking Changes**: Learning how to track additions, deletions, and modifications in your code.\n",
    "- **Staging Area**: Understanding the importance of the staging area in preparing changes for a commit.\n",
    "- **Commits**: Committing changes to the repository with descriptive messages.\n",
    "- **Pushing and Pulling**: Pushing changes from your local repository to GitHub and pulling changes from GitHub to your local machine.\n",
    "\n",
    "## Workflow Steps\n",
    "\n",
    "1. **Initialize a Repository**: Either by creating a repo on GitHub and cloning it locally with `git clone` or initializing locally with `git init`.\n",
    "2. **Track Changes**:\n",
    "   - Use `git status` to check the current status of your repository.\n",
    "   - Remember that initializing a repo creates a `.git` directory.\n",
    "3. **Working Directory and Staging Area**:\n",
    "   - Your working directory contains the files you're actively working on.\n",
    "   - Use `git add` to move changes from the working directory to the staging area, preparing them for commit.\n",
    "   - `git add .` adds all current changes to the staging area.\n",
    "4. **Commit Changes**:\n",
    "   - Use `git commit` to permanently store changes from the staging area in the repository.\n",
    "   - Always include a meaningful commit message with `git commit -m \"message\"` to describe the changes.\n",
    "5. **Push to GitHub**:\n",
    "   - After committing, use `git push` to upload your changes to GitHub.\n",
    "6. **Pull from GitHub**:\n",
    "   - Use `git pull` to synchronize your local repository with changes from GitHub, especially when switching between different machines or working copies.\n",
    "\n",
    "## Practical Tips\n",
    "\n",
    "- Be descriptive in your commit messages to ease future reference.\n",
    "- Understand the role of the `.git` directory in tracking repository history.\n",
    "- Regularly push your commits to GitHub to back up your progress and make it accessible remotely.\n",
    "- Practice pulling changes frequently when working across different devices to maintain consistency.\n",
    "\n",
    "## Next Steps\n",
    "\n",
    "In the next lectures, we'll explore more advanced topics, including branching, working with others, handling merge conflicts, and leveraging GitHub for collaborative development.\n",
    "\n",
    "## Reminder\n",
    "\n",
    "- **Set Aside Learning Time**: Consistent, daily practice is key to mastering Git and GitHub.\n",
    "- **Stay Curious**: Think about how these concepts apply when working in teams and using branches for feature development.\n"
   ]
  },
  {
   "cell_type": "code",
   "execution_count": null,
   "metadata": {},
   "outputs": [],
   "source": []
  }
 ],
 "metadata": {
  "kernelspec": {
   "display_name": ".venv",
   "language": "python",
   "name": "python3"
  },
  "language_info": {
   "name": "python",
   "version": "3.10.11"
  }
 },
 "nbformat": 4,
 "nbformat_minor": 2
}
